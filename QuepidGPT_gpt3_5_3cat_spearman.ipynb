{
  "nbformat": 4,
  "nbformat_minor": 0,
  "metadata": {
    "colab": {
      "provenance": [],
      "gpuType": "T4",
      "collapsed_sections": [
        "vhEpPtZP_kB2",
        "sFaiKvP2AJ42",
        "DFoXzAX8EPv5",
        "b1Ex4Q1GPt5m"
      ],
      "authorship_tag": "ABX9TyM1IPwlZEhfixKCi+NQrLYP",
      "include_colab_link": true
    },
    "kernelspec": {
      "name": "python3",
      "display_name": "Python 3"
    },
    "language_info": {
      "name": "python"
    },
    "gpuClass": "standard"
  },
  "cells": [
    {
      "cell_type": "markdown",
      "metadata": {
        "id": "view-in-github",
        "colab_type": "text"
      },
      "source": [
        "<a href=\"https://colab.research.google.com/github/sstults/QuepidGPT/blob/main/QuepidGPT_gpt3_5_3cat_spearman.ipynb\" target=\"_parent\"><img src=\"https://colab.research.google.com/assets/colab-badge.svg\" alt=\"Open In Colab\"/></a>"
      ]
    },
    {
      "cell_type": "markdown",
      "source": [
        "# Prerequisites"
      ],
      "metadata": {
        "id": "vhEpPtZP_kB2"
      }
    },
    {
      "cell_type": "code",
      "source": [
        "!pip install -q openai"
      ],
      "metadata": {
        "id": "U1KH19P96EBz",
        "colab": {
          "base_uri": "https://localhost:8080/"
        },
        "outputId": "4939cb74-59c4-44df-aca6-d5e199c0a8c5"
      },
      "execution_count": 1,
      "outputs": [
        {
          "output_type": "stream",
          "name": "stdout",
          "text": [
            "\u001b[2K     \u001b[90m━━━━━━━━━━━━━━━━━━━━━━━━━━━━━━━━━━━━━━━━\u001b[0m \u001b[32m71.9/71.9 kB\u001b[0m \u001b[31m2.8 MB/s\u001b[0m eta \u001b[36m0:00:00\u001b[0m\n",
            "\u001b[2K     \u001b[90m━━━━━━━━━━━━━━━━━━━━━━━━━━━━━━━━━━━━━━━━\u001b[0m \u001b[32m1.0/1.0 MB\u001b[0m \u001b[31m26.3 MB/s\u001b[0m eta \u001b[36m0:00:00\u001b[0m\n",
            "\u001b[2K     \u001b[90m━━━━━━━━━━━━━━━━━━━━━━━━━━━━━━━━━━━━━━━\u001b[0m \u001b[32m114.5/114.5 kB\u001b[0m \u001b[31m7.3 MB/s\u001b[0m eta \u001b[36m0:00:00\u001b[0m\n",
            "\u001b[2K     \u001b[90m━━━━━━━━━━━━━━━━━━━━━━━━━━━━━━━━━━━━━━\u001b[0m \u001b[32m268.8/268.8 kB\u001b[0m \u001b[31m18.5 MB/s\u001b[0m eta \u001b[36m0:00:00\u001b[0m\n",
            "\u001b[2K     \u001b[90m━━━━━━━━━━━━━━━━━━━━━━━━━━━━━━━━━━━━━━━\u001b[0m \u001b[32m149.6/149.6 kB\u001b[0m \u001b[31m8.3 MB/s\u001b[0m eta \u001b[36m0:00:00\u001b[0m\n",
            "\u001b[?25h"
          ]
        }
      ]
    },
    {
      "cell_type": "markdown",
      "source": [
        "# Load the instructions and the reference CSVs"
      ],
      "metadata": {
        "id": "ZnyTNiqY_548"
      }
    },
    {
      "cell_type": "code",
      "execution_count": 2,
      "metadata": {
        "id": "WFenBKAMLOka",
        "colab": {
          "base_uri": "https://localhost:8080/"
        },
        "outputId": "482ff309-5e3b-4456-a0d4-58e400dd7251"
      },
      "outputs": [
        {
          "output_type": "stream",
          "name": "stdout",
          "text": [
            "Mounted at /content/gdrive\n"
          ]
        }
      ],
      "source": [
        "import pandas as pd\n",
        "import os\n",
        "\n",
        "from google.colab import drive\n",
        "drive.mount('/content/gdrive')\n",
        "\n",
        "data_dir = \"/content/gdrive/MyDrive/QuepidGPT/thd_files\"\n",
        "train_file = \"train.csv\"\n",
        "desc_file = \"product_descriptions.csv\"\n",
        "\n",
        "train_df = pd.read_csv(os.path.join(data_dir, train_file), index_col=\"id\", encoding=\"latin1\")\n",
        "desc_df = pd.read_csv(os.path.join(data_dir, desc_file), index_col=\"product_uid\", encoding=\"latin1\")"
      ]
    },
    {
      "cell_type": "markdown",
      "source": [
        "## Instructions round 1"
      ],
      "metadata": {
        "id": "zp6S5R4KPKXy"
      }
    },
    {
      "cell_type": "code",
      "source": [
        "instructions = \"\"\"\n",
        "Act as a judge determining to what extent a search result matches the search query that it is paired with. Use the following rules to judge how well each result matches the query intent. All of the items are related to home and garden products. Your job is to understand the intent and relevancy of the search query. This task is not about your opinions of the relevancy of these items.\n",
        "\n",
        "The user provides:\n",
        "- Query: This is the actual search term that a user has put into a search engine.\n",
        "- Title: The title of the product that was returned for the search query.\n",
        "- Description: The description of the product that was returned.\n",
        "\n",
        "Choose Perfect Match if:\n",
        "- The result matches the query intent perfectly.\n",
        "- The searched product is a part of a kit or included as a part or an item in the product shown.\n",
        "- The product is exactly what the customer was most likely trying to find.\n",
        "- The query was for a brand and the result is made by that brand.\n",
        "\n",
        "Choose Partially or somewhat relevant if:\n",
        "- The result generally matches the query, but there is ambiguity in either search terms or product details that prevents you from choosing 'Perfect Match.'\n",
        "- Actual product is the same but differs in brand, dimensions, color or specifications.\n",
        "- Product specifications are not clear or product is a somewhat ambiguous synonym of the search term.\n",
        "- One of the many products searched in the query are shown. (example: when searching for  washer & dryer, only washer is shown)\n",
        "\n",
        "Choose Irrelevant: Paired with Search by Mistake if:\n",
        "- The result is not at all related to the intent of the search term.\n",
        "- The result is an item that is used with search term such as tool, accessory, extra part, cover or case.\n",
        "- The result has a completely different meaning, even if there are words in common with the search term.\n",
        "- The result is a collection of items and the search term does not appear in the set.\n",
        "\n",
        "Do not assume you know whether the result matches the query before sufficiently examining the information provided.\n",
        "Do not use only the words in the query and result to determine relevancy. This task is about intent, not word matching.\n",
        "\n",
        "Decide how relevant each product is to the query using these ratings:\n",
        "- Reply with \"1\" if the product is Irrelevant\n",
        "- Reply with \"2\" if the product is Partially or somewhat relevant\n",
        "- Reply with \"3\" if the product is a Perfect Match\n",
        "\"\"\""
      ],
      "metadata": {
        "id": "1NF4IrpXmXXt"
      },
      "execution_count": 3,
      "outputs": []
    },
    {
      "cell_type": "markdown",
      "source": [
        "## Instructions round 2"
      ],
      "metadata": {
        "id": "Q3pzrurQPVp5"
      }
    },
    {
      "cell_type": "code",
      "source": [
        "instructions = \"\"\"\n",
        "Your task is to rate the relevance of a search result that is paired with a search query. You are provided with three pieces of information:\n",
        "\n",
        "    Query: This is the actual search term that a user has put into a search engine.\n",
        "    Title: The title of the product that was returned for the search query.\n",
        "    Description: The description of the product that was returned.\n",
        "\n",
        "Your job is to understand the intent of the search query and determine how well each result matches that intent. The search queries and results are all related to home and garden products. Please do not base your judgment on your personal opinions about the relevance of the items.\n",
        "\n",
        "You should rate each result based on the following criteria:\n",
        "\n",
        "    Perfect Match: Choose this rating if the result matches the query intent perfectly. For example, if the search query is for a specific brand or product, and the result is exactly what the user was looking for, then it is a perfect match. Also, if the searched product is part of a kit or included as a part or an item in the product shown, it is a perfect match.\n",
        "\n",
        "    Partially or Somewhat Relevant: Choose this rating if the result generally matches the query, but there is ambiguity in either search terms or product details that prevents you from choosing a \"perfect match\" rating. For example, if the product specifications are not clear, or if the product is a somewhat ambiguous synonym of the search term, it is only partially or somewhat relevant.\n",
        "\n",
        "    Irrelevant: Paired with Search by Mistake: Choose this rating if the result is not related to the intent of the search term at all. For example, if the result is an item that is used with the search term, such as a tool, accessory, extra part, cover or case, it is irrelevant. Also, if the result has a completely different meaning, even if there are words in common with the search term, it is irrelevant. If the result is a collection of items and the search term does not appear in the set, it is also irrelevant.\n",
        "\n",
        "Please note that you should not assume you know whether the result matches the query before examining the information provided carefully. You should also avoid using only the words in the query and result to determine relevancy. This task is about intent, not word matching.\n",
        "\n",
        "Your ratings should be as follows:\n",
        "\n",
        "    \"1\" if the product is irrelevant\n",
        "    \"2\" if the product is partially or somewhat relevant\n",
        "    \"3\" if the product is a perfect match\n",
        "\n",
        "Please carefully evaluate the search queries and results to provide the most accurate ratings.\n",
        "\"\"\""
      ],
      "metadata": {
        "id": "E5Ns616aPZxb"
      },
      "execution_count": 21,
      "outputs": []
    },
    {
      "cell_type": "markdown",
      "source": [
        "# Clean the raw data"
      ],
      "metadata": {
        "id": "Bo50oRdiLeO-"
      }
    },
    {
      "cell_type": "code",
      "source": [
        "train_df['relevance'].value_counts()"
      ],
      "metadata": {
        "colab": {
          "base_uri": "https://localhost:8080/"
        },
        "id": "qCw1IUDQXfQq",
        "outputId": "f945132a-80f1-4c96-97a5-10c5afced31b"
      },
      "execution_count": 4,
      "outputs": [
        {
          "output_type": "execute_result",
          "data": {
            "text/plain": [
              "3.00    19125\n",
              "2.33    16060\n",
              "2.67    15202\n",
              "2.00    11730\n",
              "1.67     6780\n",
              "1.33     3006\n",
              "1.00     2105\n",
              "2.50       19\n",
              "2.75       11\n",
              "2.25       11\n",
              "1.75        9\n",
              "1.50        5\n",
              "1.25        4\n",
              "Name: relevance, dtype: int64"
            ]
          },
          "metadata": {},
          "execution_count": 4
        }
      ]
    },
    {
      "cell_type": "code",
      "source": [
        "import pandas as pd\n",
        "import matplotlib.pyplot as plt\n",
        "\n",
        "# remove any rows that don't have a relevance score\n",
        "train_df = train_df.dropna(subset=['relevance'])\n",
        "\n",
        "train_df['relevance_rounded'] = train_df['relevance'].round().astype(int)\n",
        "\n",
        "# create a histogram of the values in the 'value' column\n",
        "train_df['relevance_rounded'].hist()\n",
        "\n",
        "# extract the distinct values in the 'value' column\n",
        "distinct_values = train_df['relevance_rounded'].unique()\n",
        "\n",
        "# set the x-axis labels to the distinct values\n",
        "plt.xticks(ticks=distinct_values)\n",
        "\n",
        "# display the histogram\n",
        "plt.show()"
      ],
      "metadata": {
        "colab": {
          "base_uri": "https://localhost:8080/",
          "height": 430
        },
        "id": "I1Iq0TaKLiba",
        "outputId": "8a7738b8-3f62-46ea-da9e-8fa68f870f4f"
      },
      "execution_count": 6,
      "outputs": [
        {
          "output_type": "display_data",
          "data": {
            "text/plain": [
              "<Figure size 640x480 with 1 Axes>"
            ],
            "image/png": "[encoded data removed]"
          },
          "metadata": {}
        }
      ]
    },
    {
      "cell_type": "markdown",
      "source": [
        "# Load OpenAI Key"
      ],
      "metadata": {
        "id": "sFaiKvP2AJ42"
      }
    },
    {
      "cell_type": "code",
      "source": [
        "from google.colab import drive\n",
        "drive.mount('/content/gdrive')\n",
        "\n",
        "import json\n",
        "\n",
        "with open('/content/gdrive/My Drive/QuepidGPT/secrets.json') as f:\n",
        "  secrets = json.load(f)\n",
        "\n",
        "import openai\n",
        "openai.organization = secrets['OPENAI_ORG']\n",
        "openai.api_key = secrets['OPENAI_API_KEY']"
      ],
      "metadata": {
        "colab": {
          "base_uri": "https://localhost:8080/"
        },
        "id": "xtrA7nm5AO-B",
        "outputId": "4d2b1fbd-f9ad-4ae1-a26e-7bbfd11413c9"
      },
      "execution_count": 7,
      "outputs": [
        {
          "output_type": "stream",
          "name": "stdout",
          "text": [
            "Drive already mounted at /content/gdrive; to attempt to forcibly remount, call drive.mount(\"/content/gdrive\", force_remount=True).\n"
          ]
        }
      ]
    },
    {
      "cell_type": "markdown",
      "source": [
        "# Define the LLM rating function"
      ],
      "metadata": {
        "id": "CQIhP0XW0m21"
      }
    },
    {
      "cell_type": "code",
      "source": [
        "import re\n",
        "from tenacity import (\n",
        "    retry,\n",
        "    stop_after_attempt,\n",
        "    wait_random_exponential,\n",
        ")\n",
        "\n",
        "@retry(wait=wait_random_exponential(min=1, max=60), stop=stop_after_attempt(6))\n",
        "def get_llm_rating(row):\n",
        "  query = row['search_term']\n",
        "  uid = row['product_uid']\n",
        "  title = row['product_title']\n",
        "  description = desc_df.loc[uid][\"product_description\"]\n",
        "\n",
        "  prompt = f\"Query: {query}\\nTitle: {title}\\n Description: {description}\\n\"\n",
        "\n",
        "  messages = [\n",
        "      {\"role\": \"system\", \"content\": instructions},\n",
        "      {\"role\": \"user\", \"content\": f\"Rate the following query-result pair: {prompt}\\n\"}\n",
        "    ]\n",
        "\n",
        "  response = openai.ChatCompletion.create(\n",
        "      model=\"gpt-3.5-turbo\",\n",
        "      messages=messages,\n",
        "      temperature=0.5\n",
        "  )\n",
        "\n",
        "  content = response['choices'][0]['message']['content']\n",
        "\n",
        "\n",
        "  match = re.search(r'\\d(\\.\\d+)?', content)\n",
        "\n",
        "  if match:\n",
        "    rating = int(match.group())\n",
        "  else:\n",
        "    rating = int(0)\n",
        "\n",
        "  print(f\"Query: {query}\")\n",
        "  print(f\"Title: {title}\")\n",
        "  print(f\"Description: {description}\")\n",
        "  print(f\"Expected: {row['relevance_rounded']}\")\n",
        "  print(f\"Relevance: {rating}\")\n",
        "  print(f\"Explanation: {content}\\n\")\n",
        "\n",
        "  return pd.Series([rating, content])"
      ],
      "metadata": {
        "id": "yzpiHF2CzfO1"
      },
      "execution_count": 22,
      "outputs": []
    },
    {
      "cell_type": "markdown",
      "source": [
        "# Create a sample of LLM ratings"
      ],
      "metadata": {
        "id": "wQ9t4kHEEHt1"
      }
    },
    {
      "cell_type": "code",
      "source": [
        "sample = train_df.sample(n=50)\n",
        "\n",
        "sample[['RaterLLM', 'explanation']] = sample.apply(get_llm_rating, axis=1, result_type='expand')\n"
      ],
      "metadata": {
        "colab": {
          "base_uri": "https://localhost:8080/"
        },
        "id": "nP06JuMMxcDb",
        "outputId": "4b984559-f9b4-4489-ce7d-688ed7dac55a"
      },
      "execution_count": 23,
      "outputs": [
        {
          "output_type": "stream",
          "name": "stdout",
          "text": [
            "Query: 8 light\n",
            "Title: Lithonia Lighting 4 ft. Wraparound Fluorescent Ceiling Fixture\n",
            "Description: The hinged diffuser design of the Lithonia Lighting 4 ft. Wraparound Fluorescent Ceiling Fixtures offers easy maintenance and cleaning. These fixtures feature durable plastic construction and an instant-on ballast to help prevent flickering. This fixture uses 2 (32W) T8 Bulbs (not included).Plastic constructionWhite colorEnergy-efficient fluorescent fixtureHinged diffuser design offers easy maintenance and cleaningDiffuser has side prisms to help control brightness and bottom prisms to reduce lamp imagesInstant-on ballast eliminates flickering and hummingResidential electronic ballast does not interfere with other electronic equipmentUse for residential and light commercial applicationsUL listed\n",
            "Expected: 2\n",
            "Relevance: 2\n",
            "Explanation: Rating: 2 (Partially or Somewhat Relevant)\n",
            "\n",
            "Explanation: The query \"8 light\" is not very specific and could refer to a variety of products. The result is a fluorescent ceiling fixture that uses 2 T8 bulbs, which is not exactly what the user may have been searching for. However, the product is a light fixture and could potentially be used in a residential or light commercial setting, which makes it somewhat relevant to the query.\n",
            "\n",
            "Query: ceramic drawer pulls\n",
            "Title: Liberty 3 in. Ceramic Insert Spoon Foot Cabinet Hardware Pull-DISCONTINUED\n",
            "Description: The Liberty 3 in. Flat White and Satin Nickel Ceramic Insert Spoon Foot Pull adds elegance to a variety of styles. It features a 3 in. center-to-center, rear-mount design for easy installation. The metal base material is built to last and is finished in a beautiful satin nickel.Cabinet pullCrafted from metal for durabilitySatin nickel and flat white finishIncludes two 8-32 x 1 in. machine screws for easy rear mount installation\n",
            "Expected: 3\n",
            "Relevance: 3\n",
            "Explanation: Rating: 3 (Perfect Match)\n",
            "\n",
            "Explanation: The title and description of the product clearly indicate that it is a ceramic drawer pull, which is exactly what the user is searching for. The product also has a 3 inch center-to-center measurement, which matches the query. The description also mentions that it is easy to install, which is a bonus for the user. Overall, this product is a perfect match for the search query.\n",
            "\n",
            "Query: video wooden crates\n",
            "Title: Houseworks Crates and Pallet 18 in. x 12.5 in. x 9.5 in. Large Wood Crate\n",
            "Description: Our most popular of crates, the Large Crate has some great proportions that will look great anywhere you put it at home or at the office. All of our 12.5 in. wide crates hold hanging file folders perfectly. Add wheels and you have a rolling file cabinet or stack them for vertical shelves.California residents: see&nbsp;Proposition 65 informationShips fully assembledSlatted sides allow you to easily see contentsSmooth, unfinished pine ready for any finish or left rawMakes a great gift basketDimensions: 18 in. W x 12.5 in. D x 9.5 in. HBuild your own Rolling Crate:\n",
            "Expected: 3\n",
            "Relevance: 1\n",
            "Explanation: Rating: 1 (Irrelevant)\n",
            "\n",
            "Explanation: The search query is for \"video wooden crates,\" which suggests that the user is looking for videos featuring wooden crates. However, the title and description of the product do not mention anything about videos. Instead, they describe a wooden crate that can be used for storage or as a file cabinet. While the product may be made of wood, it does not match the intent of the search query. Therefore, it is irrelevant.\n",
            "\n",
            "Query: honda snow blower\n",
            "Title: Honda HS720AS 20 in. Single-Stage Electric Start Gas Snow Blower\n",
            "Description: Snow is no match for a Honda HS720AS, electric start snow blower. Designed to plow through the heaviest of snow. Equipped with a legendary Honda four stroke easy starting engine. The HS720AS runs on regular gas, which eliminates the need to mix gas/oil. It's lightweight and easy to use which makes clearing the driveway, walkway, or sidewalks a breeze.Large 20 in. clearing path and 12 in. clearing heightForward speed self-propelled auger driveConvenient 120-Volt AC electric starterMoves up to 55-Ton of snow per hourSnow director chute control easily controls distance and direction of snowOperator friendly controls with large on/off switchGlove friendly, large fuel tank cap and recoil gripEasy access spark plug and fuel drainThrows snow up to 33 ft.2 year warrantyHome Depot Protection Plan:\n",
            "Expected: 3\n",
            "Relevance: 3\n",
            "Explanation: Rating: 3 (perfect match)\n",
            "\n",
            "Explanation: The search query is for a Honda snow blower, and the result is a Honda HS720AS snow blower with an electric start and a four-stroke engine. The title and description provide detailed information about the product, including its features and specifications, which match the search query perfectly. The description also mentions the product's ability to clear heavy snow, its lightweight design, and its ease of use, which are all relevant to the search query. Therefore, this is a perfect match.\n",
            "\n",
            "Query: door plate without keyhole\n",
            "Title: National Hardware Chain Door Guard in Solid Brass\n",
            "Description: A simple and affordable way to upgrade a home is to replace old, dated hardware in finishes complementary to the home's decor. Home Designs by Stanley home hardware is available in several styles and finishes. Providing home hardware for all of your new construction, upgrades and replacement projects. Made with modern and traditional finishes, general hardware such as clothes hooks, door stops, handrail brackets, door viewers and house numbers are a perfect accessory for any home.Chain door guardSolid brass give maximum corrosion resistance6 - no. 6 by 7/8-in. phillips slot oval head screws includedCase-hardened chain is for added strength and cut resistanceDoor guard provides security while allowing door to be partially openSolid brassLimited lifetime warranty\n",
            "Expected: 2\n",
            "Relevance: 2\n",
            "Explanation: Rating: 2 (Partially or Somewhat Relevant)\n",
            "\n",
            "Explanation: The product title mentions a \"door guard,\" which is somewhat relevant to the search query for a \"door plate.\" However, there is no mention of a keyhole or the absence of one in the product description. The product may still be useful for someone looking to upgrade their home's security, but it is not a perfect match for the search query.\n",
            "\n",
            "Query: kitchen black sink\n",
            "Title: Thermocast Manhattan Drop-in Acrylic 33x22x9 3-Hole Single Bowl Kitchen Sink in Black\n",
            "Description: A \"Master Collection\" gourmet designed Thermocast Cast-acrylic single bowl kitchen sink with a rich high gloss finish that is easy to clean with non-abrasive cleaners. It has a deep basin for more workspace and functionality with the beauty of porcelain and the strength of cast iron, yet lighter weight. The insulated construction absorbs waste disposal noise and resists stain, rust, oxidation, chipping, and scratches. The surface can be polished with ordinary liquid sink, countertop, or auto polish to maintain beauty and luster. It is ready for quick and easy installation and has been designed for either Drop-in or undermount use. No mounting clips are required for Drop-in installation. Plumbers putty for drains and silicone sealant for perimeter of sink is all thats needed. All Thermocast brand Cast-acrylic sinks are certified by The Canadian Standards Association and the National Association of Home Builders Research Center and carry a Lifetime Warranty.Made in the U.S.A with prideStain, rust and oxidation resistantScratch, chip and impact resistantWithstands temperatures up to 450 degreesColors shown are close representations of actual material colors, within the limits of web graphics3 pre-drilled fixture holesAcrylic sink with a fiberglass composite backing for additional stability and sound proofingClick here to learn more about kitchen sinks\n",
            "Expected: 2\n",
            "Relevance: 3\n",
            "Explanation: Rating: 3 (Perfect Match)\n",
            "\n",
            "Explanation: The title and description of the product both mention a black kitchen sink, which matches the search query exactly. The product also has a deep basin, is easy to clean, and can be installed as a drop-in or undermount sink, which are all features that someone searching for a kitchen sink may be interested in. The description also mentions that the sink is made of cast-acrylic, which is a material commonly used for kitchen sinks. Overall, this product is a perfect match for the search query.\n",
            "\n",
            "Query: heavy duty shevlving\n",
            "Title: Salsbury Industries 9700 Series 96 in. W x 84 in. H x 36 in. D Heavy Duty Steel Frame and Particleboard Solid Shelving\n",
            "Description: 9700 Series Solid Shelving is constructed of heavy duty steel framing and particleboard shelves. Ideal for restaurants, businesses, warehouses, garages and many other storage applications. Measuring 84 in. H, solid shelving units include three (3) heavy duty shelves. Available only in unassembled.Available in 4 ft. 6 ft. or 8 ft. W and 24 in. or 36 in. DEach of the heavy duty shelves include at least one shelf support, durable 5/8 in. thick particleboard and double rivet beamCan accommodate contents up to 800 pounds per shelf evenly distributedShelves are adjustable in 1-1/2 in. increments to allow maximum spacing flexibilityAdditional shelves are available as an option upon requestSolid shelving steel frames feature a durable powder coated gray\n",
            "Expected: 2\n",
            "Relevance: 3\n",
            "Explanation: Rating: 3 (Perfect Match)\n",
            "\n",
            "Explanation: The result is a perfect match for the search query as it includes the exact phrase \"heavy duty shelving\" in the title and description. The product is also made of heavy duty steel framing and particleboard shelves, which matches the intent of the search query. The description also mentions that it is ideal for storage applications, which further confirms its relevance to the search query.\n",
            "\n",
            "Query: rutland wood stove termometer\n",
            "Title: US Stove 2,500 sq. ft. EPA Certified Wood-Burning Stove with Blower\n",
            "Description: Help provide your home with warmth and comfort with the US Stove 2,500 sq. ft. Wood Stove. This quality wood stove accepts logs up to 21 in. for long burn times and features a quiet, efficient blower. This stylish wood stove is approved for mobile homes and the state of Washington and also features an elegant, arched glass door.Made of steel for durabilityBurns logs up to 21 in. for impressive heatGenerates up to 112,000 BTU's per hour for steady, reliable heatHeats areas up to 2,500 sq. ft. with a quiet blower to ensure a cozy and comfortable living spaceConvenient, large ash pan makes cleanup easyVented design ensures safe removal of impurities to keep the air inside your home cleanEfficient construction provides 85% heat retentionLarge viewing window features air wash glass for a comforting look and to help keep glass cleanEPA approved for safe use in the home, mobile home; Washington state approvedAssembly required\n",
            "Expected: 1\n",
            "Relevance: 2\n",
            "Explanation: Rating: 2 (Partially or Somewhat Relevant)\n",
            "\n",
            "Explanation: While the product is a wood stove, which is related to heating a home, it does not specifically mention a thermometer. The description does mention the stove's ability to generate heat and its large viewing window, but it does not provide any information about a thermometer. Therefore, the product is only partially or somewhat relevant to the search query.\n",
            "\n",
            "Query: amco wire shelf\n",
            "Title: OPTIX 12 in. x 48 in. Acrylic Wire Shelf Liner (4-Pack)\n",
            "Description: No more lines in your clothes. No more bottles or boxes falling over. Optix acrylic wire shelf liners are a great item to help solve all your wire shelf and storage issues. No more is there the need to iron clothes stored on shelves in your closet. No more messy spills in your pantry or cabinets. These durable, lightweight shelf liners offer you a solid, impact resistant surface for all your storage needs. Standard shelf liner dimensions match those of most of the pantry and closet organizers in the marketplace today, but can also be easily cut to fit any custom shelving organizers you may have. Create a neat, clean, and spill free pantry or closet using Optix solid sheet acrylic shelf liners today.Fits shelves 12 in. deep and 48 in. longJust lay right on top of shelf for easy installationEasy to cut using common tools to fit any custom shelf sizeLightweight easy to handleEasy to clean using mild soap and warm water4 Shelf liners per pack\n",
            "Expected: 2\n",
            "Relevance: 1\n",
            "Explanation: Rating: 1 (Irrelevant)\n",
            "\n",
            "Explanation: The result is for an acrylic wire shelf liner, which is not the same as a wire shelf. While the result may be useful for someone looking for a liner for their wire shelf, it does not match the intent of the query, which is specifically for a wire shelf.\n",
            "\n",
            "Query: doorbell kit\n",
            "Title: Wired Door Bell Deluxe Contractor Kit\n",
            "Description: The Deluxe Wired Doorbell Contractor Kit includes a wired Chime, 2 push buttons (1 lighted and 1 non-lighted) and a transformer, perfect for new construction or complete replacement of your wired doorbell system. This kit is louder and offers more design features than the standard wired contractor kit. It features 2 tunes that ring separately for front and rear doors, so you know which door your visitor is at. Included push buttons feature 2 different finishes to differentiate your front and secondary doors. Requires bell wire along with specific wiring tools. Complete installation instructions are included with the kit.Ideal for new home installations or complete system replacementUse with any wired push buttonChime and 1 push button feature a white finish; lighted push button offers a brushed nickel finishEntire system is powered by the included transformerIncludes a brushed nickel lighted push button for front door85 dB volumes allows the chime to be heard throughout the homeChime rings \"ding\" for back door and \"ding-dong\" for front doorChime can be mounted vertically or horizontally to the wallContractor kit makes purchasing a wired doorbell system straightforwardInstall with bell wire, sold separatelyFeatures an authentic bell soundHome Depot Protection Plan:\n",
            "Expected: 3\n",
            "Relevance: 2\n",
            "Explanation: Rating: 2 (Partially or Somewhat Relevant)\n",
            "\n",
            "Explanation: The result is related to a doorbell kit, but it is not clear whether it is a perfect match. The product is a wired doorbell kit that includes a wired chime, push buttons, and a transformer, which is relevant to the search query. However, it is not clear whether this is the specific type of doorbell kit the user is looking for, as there may be different types of doorbell kits (e.g. wireless). Additionally, the product description mentions specific details about the product, but it is not clear whether these details match the user's intent.\n",
            "\n",
            "Query: bath exhaust\n",
            "Title: Broan Replacement Motor and Impeller for 659 and 678 Ventilation Fans\n",
            "Description: Update your bathroom with help from the Broan Replacement Motor and Impeller. It features 50 CFM to reduce moisture and help prevent mildew. 2 sones for quiet operation.Can be easily installed in existing housingBlade included with motor and easily assembledUse with your Broan 659 or 678 ventilation fan (sold separately) allowing quiet efficient performanceSplinted shaft construction\n",
            "Expected: 2\n",
            "Relevance: 3\n",
            "Explanation: Rating: 3 (Perfect Match)\n",
            "\n",
            "Explanation: The product title and description clearly indicate that it is a replacement motor and impeller for Broan 659 and 678 ventilation fans, which are commonly used in bathrooms to exhaust moisture and prevent mildew. Therefore, it is a perfect match for the search query \"bath exhaust\". The description also provides additional details about the product's features, such as its 50 CFM and 2 sones for quiet operation, which further support its relevance to the search query.\n",
            "\n",
            "Query: dead bolt fill\n",
            "Title: Defiant Brandywine Single Cylinder Entry Stainless Steel Project Pack\n",
            "Description: Featuring a lifetime guarantee, Defiant meets or exceeds ANSI grade 3 standards for residential use. This lock features a radius latch with an adjustable backset and optional drive-in feature. Defiant keyed locks can be re-keyed to fit your existing KW1 keyway. The true stainless steel knob will provide years of durability. Ideal for exterior door applications where locking with a key is required. When used as a replacement lock only a screwdriver is need to make installation a snap. This project pack includes 4 keys, 2 entry knobs, 2 single cylinder deadbolts and mounting hardware.Lifetime guaranteeLatch features an adjustable backset to fit 2-3/8 in. or 2-3/4 in. backsetLatch features a radius faceplate or can be easily converted to a drive-in style includes 4 keysStainless steelLocks resist drilling, sawing, picking and pryingEasy to replace and install with a Philips screwdriverKnobs and deadbolts with matching keyed locks includedHardware included for easy installationIncludes 4 keys and mounting hardwareMeets ANSI grade 3 specificationsFits exterior residential door preparationsTrue stainless steel\n",
            "Expected: 2\n",
            "Relevance: 1\n",
            "Explanation: Rating: 1 (Irrelevant)\n",
            "\n",
            "Explanation: The search query is about \"dead bolt fill\" which implies a need for a part or material to fill a deadbolt. However, the search result is about a Defiant Brandywine Single Cylinder Entry Stainless Steel Project Pack that includes entry knobs, single cylinder deadbolts, and mounting hardware. The search result does not provide any information about a deadbolt fill, and it is not related to the search query. Therefore, the rating for this query-result pair is 1 (Irrelevant).\n",
            "\n",
            "Query: refrigerater french doors ge brand\n",
            "Title: GE Profile 29.75 in. 20 cu. ft. French Door Refrigerator in Stainless Steel\n",
            "Description: Your GE Profile 20 cu. ft. French Door Refrigerator has Stainless Steel doors with top and bottom bevels to add a sleek, designer look to your kitchen. Upfront temperature controls with digital display keeps you informed on your refrigerators temperature. A factory installed icemaker with a water filtration system provides for your ice needs. GE Profile products offer the best in contemporary design matched with the latest in appliance technologies to transform the way you live. Sporting a bold, dramatic look and state of the art features, this collection provides the perfect combination of style and innovation throughout your kitchen.Factory-installed icemaker with water filtration system provides filtered iceWater Filtration System reduces impurities from household water, giving you filtered water from your refrigerator for up to 6 monthsUpfront temperature controls are easy-to-reach controls and display accurate temperaturesTemperature management system combines electronic controls, multiple electronic sensors, and a multi-flow air system to help keep foods fresh longerHumidity-controlled crispers help preserve the freshness of fruits and vegetables with selectable humidity levelsDeep door bins allow you to store gallon-sized or larger items, providing more door storage and freeing up shelf spaceExtra-large 13.7 cu. ft. fresh food capacity provides additional interior space, while 6.3 cu. ft. freezer capacity allows for additional storage spaceDoor alarm notifies you when the refrigerator has been left open or partially closedFresh Food and Freezer compartment contain Incandescent lighting3 Door French Door Refrigerator has two fresh food doors, and one bottom mount freezer drawerA href=\"http://www.homedepot.com/ApplianceDeliveryandInstallation\" target=\"_blank\"Click Here for details on the services included with Delivery & Basic Hook-up and Installation options for Major Appliances/A\n",
            "Expected: 3\n",
            "Relevance: 3\n",
            "Explanation: 3 (Perfect Match)\n",
            "\n",
            "Query: bbq covers\n",
            "Title: Weber 22-1/2 in. Kettle Grill Cover\n",
            "Description: Protect your investment with a cover. It's a quick and easy way to keep your grill out of the damaging rain, snow and sun. The 22-1/2 in. Kettle Grill Cover fits almost any 22-1/2 in. Weber kettle grill.GreyDimensions: 22.5 in. W x 38 in. H x 22.5 in. DFull lengthHeavy duty vinylFits snugglyWeather resistant\n",
            "Expected: 3\n",
            "Relevance: 2\n",
            "Explanation: Rating: 2 (Partially or Somewhat Relevant)\n",
            "\n",
            "Explanation: The product is a grill cover, which is related to the query for \"bbq covers\". However, the specific brand and model mentioned may not be what the user was looking for, so it is only partially or somewhat relevant.\n",
            "\n",
            "Query: vinyl base board\n",
            "Title: Veranda 8 ft. x 1/2 in. x 1/2 in. Cellular Vinyl Composite Quarter Round Moulding\n",
            "Description: Use 8 ft. x 1/2 in. x 1/2 in. Cellular Vinyl Quarter Round Moulding as a finishing touch and know that it will hold up for many years. Simply cut and glue or nail this bright-white quarter round into place. It is also paintable.California residents: see&nbsp;Proposition 65 informationMade of durable cellular vinylPre-finished in bright white and can be painted or stainedResists moisture, rot and termites96 in. Length\n",
            "Expected: 2\n",
            "Relevance: 2\n",
            "Explanation: Rating: 2 (Partially or somewhat relevant)\n",
            "\n",
            "Explanation: While the result is not a perfect match for the search query \"vinyl base board,\" it is still somewhat relevant as it is a type of moulding made of cellular vinyl composite material that can be used as a finishing touch. However, it is not clear whether this product can be used as a baseboard or not, and the product specifications do not mention anything about baseboards.\n",
            "\n",
            "Query: 1/4 in. plywood\n",
            "Title: 1/4 in. x 4 ft. x 8 ft. BC Sanded Pine Plywood\n",
            "Description: Every piece meets the highest grading standards for strength and appearance. Sanded and smooth BC project panels are perfect for interior and exterior applications from yard art to wainscoting, do-it-yourself projects, cabinets, shelving and furniture to porch ceilings, soffits and flooring underlayment. These panels are ready to be painted. This plywood has great strenght and stiffness. These boards are easy to handle and install. They also have excellent nail and adhesive holding ability.California residents: see&nbsp;Proposition 65 informationEach piece of this lumber meets the highest quality grading standards for strength and appearanceSanded project panels are perfect for interior and exterior applicationsGreat for yard art to wainscoting, do-it-yourself projects, cabinets, shelving and furniture to porch ceilings, soffits and flooring underlaymentExcellent appearance when paintedNote: Product may vary by store.\n",
            "Expected: 3\n",
            "Relevance: 3\n",
            "Explanation: Rating: 3 (Perfect Match)\n",
            "\n",
            "Explanation: The product title and description both mention \"1/4 in.\" plywood, which is an exact match to the search query. The description also mentions that the plywood is sanded and smooth, which is relevant information for someone looking for plywood for specific DIY projects. The description also mentions that the plywood is suitable for both interior and exterior applications, which is also relevant information for someone looking for plywood. Overall, this product is a perfect match for the search query.\n",
            "\n",
            "Query: holden\n",
            "Title: Hunter Holden 44 in. New Bronze Ceiling Fan\n",
            "Description: With Hunter's 44 in. Holden New Bronze Ceiling Fan, you can circulate your air with quiet beauty. Designed to fit your style, function flawlessly, and last a lifetime, this ETL indoor rated fan has a 44 in. 5-blade design to help keep a small room or office comfortable all year round. It comes with 5 reversible medium walnut/stained oak blades and also includes as 2-light fixture with amber bowl and 2-14-Watt medium based CFL bulbs.New bronze finish5 reversible medium walnut/stained oak bladesDesigned for indoor useRemote available3346 CFM3 speed reversible WhisperWind motorIncludes a 2-light fixture with amber bowlTwo 14-Watt medium based CFL bulbs includedLimited lifetime warrantyDownrod includedInstaller's choice mounting system allows for standard, flush and angled mountingCan be installed with or without a light kitCap included\n",
            "Expected: 1\n",
            "Relevance: 2\n",
            "Explanation: Rating: 2 (Partially or Somewhat Relevant)\n",
            "\n",
            "Explanation: The search query \"holden\" is ambiguous and could refer to a variety of things, such as a car brand or a person's name. However, the product title includes \"Hunter Holden,\" which suggests that it is a specific product related to the search query. The product description indicates that it is a ceiling fan with specific features and specifications, which could be relevant to someone searching for a fan. However, there is no clear indication of how well this product matches the intent of the search query. It is only partially or somewhat relevant.\n",
            "\n",
            "Query: carbide drill bits\n",
            "Title: WingIts Apache200 3/4 in. Drill Bit\n",
            "Description: The Apache200 3/4 in. Drill Bit is made with industrial carbide to bore through dense material so you can quickly and easily install WingIts fasteners. This sharply pointed bit won't wander or chatter as you drill through ceramic wall tile, masonry board, marble, steel, glass and plaster, making precise, clean cuts for your fastening jobs. Unlike a hole saw, this drilling accessory won't accrue plugged material so you can use it repeatedly without having to discard hole remnants from the bit.Designed to drill up to 200 holes through ceramic tile; longer life expectancy on softer materialsDoesn't drift during start-up; just pull the drill trigger and let it do the workRecommended for marble, ceramic wall tile, lath, plaster, masonry board, glasseven steelConstructed with industrial-grade carbide for dependable useNote: Some imported wall tiles are too dense for this device to penetrate\n",
            "Expected: 2\n",
            "Relevance: 2\n",
            "Explanation: Rating: 2 (Partially or Somewhat Relevant)\n",
            "\n",
            "Explanation: While the product is a drill bit made with industrial carbide, which matches the query for carbide drill bits, the specific use case for this product is for installing WingIts fasteners and drilling through various materials. This makes it only partially or somewhat relevant to the query, as it is not a perfect match. Additionally, the description mentions that some imported wall tiles may be too dense for the drill bit to penetrate, which could be a potential concern for users searching for carbide drill bits.\n",
            "\n",
            "Query: aluminum 4x4 tube\n",
            "Title: Allied Tube &amp; Conduit 1-1/4 in. Aluminum Rigid Conduit\n",
            "Description: This Allied Tube & Conduit 1-1/4 in. x 10 ft. Aluminum Rigid Conduit helps protect electrical wiring. Made of aluminum construction, it is durable while remaining lightweight. Protects insulated electrical conductors and cables from magnetic fields, impact damage and crushing.Protects insulated electrical conductors and cables from magnetic fields, impact damage and crushingMade of lightweight aluminum constructionCompatible with Allied Tube & Conduit aluminum elbows and couplingsUL listedNote: product may vary by store\n",
            "Expected: 2\n",
            "Relevance: 2\n",
            "Explanation: Rating: 2 (Partially or Somewhat Relevant)\n",
            "\n",
            "Explanation: While the result is related to aluminum tubing, it is not a perfect match for the search query \"aluminum 4x4 tube.\" The result is for a specific size of aluminum conduit, which may not be exactly what the user is looking for. However, the description does mention that the product is made of aluminum and is lightweight, which are both relevant to the search query.\n",
            "\n",
            "Query: formica tops\n",
            "Title: Valencia 10 ft. Laminate Countertop in Spicewood Springs\n",
            "Description: Update the look of your room with the sophisticated and dramatic design of the Hampton Bay 120 in. Valencia Spicewood Springs laminate countertop. This countertop provides a virtually seamless appearance and the built-in backsplash provides no crevices where dirt and grime collect. The full-wrap ogee edge helps provide a unique and pleasant appearance. The durable laminate surface resists scrapes or scuffs, and requires no polishing or buffing.Get the look you want at an affordable price and be assured that your countertop will lastSpicewood springs offers the look of a solid surface but is low maintenanceInstallation ready for your convenience, making it the perfect choice for your DIY projectCreates a healthier indoor environment and sanitary food preparation areaClick Here for DesignConnectClick Here for Countertop Estimator\n",
            "Expected: 2\n",
            "Relevance: 2\n",
            "Explanation: Rating: 2 (Partially or Somewhat Relevant)\n",
            "\n",
            "Explanation: The result is partially relevant to the search query \"formica tops\" as it offers a laminate countertop option. However, the specific brand and model mentioned in the title and description do not mention \"formica\" explicitly, which may cause some ambiguity for the user. Additionally, the description focuses more on the appearance and features of the product rather than its material or suitability as a formica top.\n",
            "\n",
            "Query: copper faucet\n",
            "Title: BrassCraft 1/2 in. O.D. x 30 in. Copper Faucet Riser in Rough Copper\n",
            "Description: BrassCraft 1/2 in. O.D. tube x 30 in. length copper riser for faucet installations in a rough copper finish. Features one-piece formed metal nosepiece with insert. Riser can be cut-to-length for flexible fit with a clean, professional appearance. For use in potable water distribution systems in accessible locations only.1/2 in. O.D. x 30 in. length copper riser for faucet installations1-piece formed metal nosepiece with insertRough copper finishCut-to-length for flexible fit and clean, professional appearanceFor use in potable water distribution systems in accessible locations onlyTemperature rating: 40 to 180 FPressure rating: 125 psi maximumNo-lead certifiedIAPMO and CSA listed to ASME A112.18.1/CSA B125.1Designed, machined and assembled in the USA\n",
            "Expected: 2\n",
            "Relevance: 3\n",
            "Explanation: Rating: 3 (Perfect Match)\n",
            "\n",
            "Explanation: The title and description clearly indicate that the product is a copper faucet riser, which is exactly what the user was searching for. The description also provides additional details about the product, such as its specifications and certifications, which further confirms its relevance to the search query. Therefore, this result is a perfect match for the search query.\n",
            "\n",
            "Query: 4 pin\n",
            "Title: Philips 26-Watt Soft White (2700K) CFLni GX24q-2 4-Pin CFL Light Bulb\n",
            "Description: Philips Energy Saver Compact Fluorescent Non-Integrated (CFLni) 26W PL-T 4-pin base light bulb is ideal for use in kitchens and offices. It offers significant energy savings in a compact size and provides a soft, white light. Philips Energy Saver CFLni light bulbs can be used in downlight fixtures.Brightness: 1,800 lumensEstimated Yearly Energy Cost: $1.93 (Based on 3 hrs/day, 11ckwh. Costs depend on rates and use.)Life: 11 years (Based on 3 hrs/day)Light appearance: 2700K (Soft White)Energy used: 26 watts (equivalent to a 100 watt standard incandescent light bulb)Lumens per watt: 69.2Ideal for use in kitchens and officesCan be used in downlight fixturesContains Mercury: Yes (For more on clean-up and safe disposal visit: epa.gov/cfl)\n",
            "Expected: 2\n",
            "Relevance: 3\n",
            "Explanation: Rating: 3 (Perfect Match)\n",
            "\n",
            "Explanation: The result is a perfect match for the search query \"4 pin\" as it is a Philips 26-Watt Soft White (2700K) CFLni GX24q-2 4-Pin CFL Light Bulb. The title and description clearly mention that the product has a 4-pin base, which is exactly what the user is looking for. The description also provides additional information about the product, such as its energy efficiency and ideal usage, which further confirms its relevance to the search query.\n",
            "\n",
            "Query: framing wood\n",
            "Title: Grip-Rite #7 x 7/16 in. Bugle Pan Head Framing Screw (1 lb.-Pack)\n",
            "Description: For the most comprehensive selection of nails and screws, look for Grip-Rite Fastness, the most popular brand of fasteners in America. No matter what the project or what size the job, Grip-Rite Fastness has the optimal fastening solution, available nationwide from a variety of dealers and retail establishments. There are many sizes and styles of nails and screws available. As construction materials and techniques evolve, fastener design keeps pace with the changing technology. Fastener needs vary from project to project and the safety and life expectancy of the project can be extended or compromised based upon the fastener used. Fasteners have been designed to meet the special needs of projects such as roofing or drywall and in many cases are known by the application for which they are intended.Metal applicationsFor attaching steel stud and framingCoated with fine threadsExcellent holding powerHead diameter 0.303 in.\n",
            "Expected: 3\n",
            "Relevance: 1\n",
            "Explanation: Rating: 1 (Irrelevant)\n",
            "\n",
            "Explanation: The product is a screw used for attaching steel stud and framing, which is related to construction but not specifically to framing wood. The description also mentions various types of fasteners and their uses, but does not provide any information that directly relates to framing wood.\n",
            "\n",
            "Query: over the door hangers\n",
            "Title: Liberty Over-the-Door Single Decorative Hook with White Ceramic Insert in Satin Nickel\n",
            "Description: This decorative Liberty Satin Nickel Over-the-Door Hook with Ceramic Insert is for residential use and hangs over the top of a 1-3/8 in. door. Great use for storage space. Mounting hardware included for easy installation.Can be hung on 1-3/8 in. residential doors with no fastenersFor bedrooms, bathrooms and closetsPre-drilled for the option of permanent mounting35 lb. maximum weight capacityDie-cast zinc construction with a satin nickel finishTraditional designIncludes mounting hardware and instructions for easy installation\n",
            "Expected: 2\n",
            "Relevance: 3\n",
            "Explanation: Rating: 3 (Perfect Match)\n",
            "\n",
            "Explanation: The result is a decorative hook that is designed to hang over the door, which is exactly what the user is looking for. The product is specifically marketed as an over-the-door hook and can be hung on a 1-3/8 inch residential door. The description also mentions that it is great for storage space, making it even more relevant to the search query. The product specifications match the search query intent perfectly, so it is a perfect match.\n",
            "\n",
            "Query: wood rail\n",
            "Title: House of Fara 3/4 in. x 2-3/4 in. x 96 in. Wood North America Knotty Pine Wainscot Chair Rail Moulding\n",
            "Description: The House of Fara 3/4 in. x 2-3/4 in. x 8 ft. North America Knotty Pine Wainscot Chair Rail works well with our W375B 3/4 in. x 3 in. x 8 ft. North America Knotty Pine Wainscot Base and the 32B 32 in. North America Knotty Pine Tongue and Groove Wainscot Paneling. Sold in individual pieces to allow you to cover only the area you need, reducing possible waste. Installs easily to cover any section of wall. Its unique detail will add an architectural touch to any room or project. Milled from solid wood, it may be clear coated or stained to match your existing decor.California residents: see&nbsp;Proposition 65 informationMilled from solid woodNotched for 5/16 in. panelsMay be clear coated or stainedMade in the USA\n",
            "Expected: 2\n",
            "Relevance: 2\n",
            "Explanation: Rating: 2 (Partially or Somewhat Relevant)\n",
            "\n",
            "Explanation: The product title mentions \"wood\" and \"chair rail,\" which are related to the search query \"wood rail.\" However, the specific type of wood mentioned (knotty pine) and the fact that it is a wainscot chair rail molding may not be exactly what the user was looking for. The description also mentions that it works well with other wainscot products, which may not be relevant to the user's search.\n",
            "\n",
            "Query: electric fireplace media console.\n",
            "Title: Home Decorators Collection Canton Park 48 in. Corner Media Console Electric Fireplace in Black\n",
            "Description: This classic fireplace has a divided shelf with integrated wire management and two storage cabinets with a faux drawer look. The two cabinets have an adjustable shelf to allow you to store various sized items. This unit can warm up your space up to 1000 sq. ft. and aid in reducing high energy bills. It also features Safer Plug fire prevention technology to ensure safe usage.1400-watt fireplace can plug into any standard 120-volt outlet to add a glow to your roomRichly detailed laminate provides the ambience of real wood without the upkeep or maintenanceBlack furniture finishRealistic resin logs and ember beds add a warm glow to the roomAutomatic on-screen LED indicator will fade after your desired temperature is setRemote control includedCSA certifiedCSA certifiedHome Depot Protection Plan:\n",
            "Expected: 3\n",
            "Relevance: 3\n",
            "Explanation: Rating: 3 (Perfect Match)\n",
            "\n",
            "Explanation: The title and description of the product clearly indicate that it is an electric fireplace media console, which is exactly what the user was searching for. The product has all the necessary features such as wire management, adjustable shelves, and fire prevention technology. The description also states that it can warm up a space up to 1000 sq. ft., which is relevant to the user's search for an electric fireplace. The product is a perfect match for the query.\n",
            "\n",
            "Query: tuffscreen\n",
            "Title: Phifer 36 in. x 50 ft. Black TuffScreen\n",
            "Description: This heavy-duty insect screening is three times stronger than regular insect screening. Pet-resistant and tear and puncture-resistant, it is ideal for use in high traffic areas. This screening product installs like regular insect screening and is excellent for use in patio and porch enclosures, as well as windows and doors.California residents: see&nbsp;Proposition 65 informationThree times stronger than regular insect screeningPet-resistant and puncture-resistantCan be used in windows, doors, patios and porch enclosuresEasy to installScreen Selection Guide\n",
            "Expected: 3\n",
            "Relevance: 3\n",
            "Explanation: Rating: 3 (Perfect Match)\n",
            "\n",
            "Explanation: The product title and description perfectly match the search query \"tuffscreen\". The product is a heavy-duty insect screening that is three times stronger than regular insect screening, making it a perfect match for the search query. The product is also tear and puncture-resistant, making it ideal for use in high traffic areas. The description also mentions that the product can be used in windows, doors, patios, and porch enclosures, which is exactly what someone searching for \"tuffscreen\" would be looking for. Therefore, this is a perfect match.\n",
            "\n",
            "Query: replacement carbrator for robyi\n",
            "Title: Home Accents Holiday C7 Clear Color Replacement Light Bulbs (8-Pack)\n",
            "Description: Maintain a colorful glow during your Christmas celebrations with these clear color replacement bulbs. This set includes eight clear C7 replacement bulbs. These brilliant lights will fit into standard C7 outdoor string lights, making it easy to replace your damaged bulbs this holiday season.UL approved for indoor/outdoor useEasy to replaceSize: C7Color: clear\n",
            "Expected: 2\n",
            "Relevance: 1\n",
            "Explanation: Rating: 1 (Irrelevant)\n",
            "\n",
            "Explanation: The result is completely irrelevant to the search query. The result is about replacement light bulbs for Christmas lights, while the query is about a replacement carburetor for a specific brand of equipment.\n",
            "\n",
            "Query: white drawer\n",
            "Title: Richelieu Hardware Blum White Drawer Slide Rear Socket for Blum Euro Slide Series 230M Only (2-Pack)\n",
            "Description: Richelieu is an innovator in craftsmanship and design. Our Functional Hardware collections are a reflection of our continuing interest in bringing you the latest selection of high-quality and innovative products. We partnership with Blum, Inc. who is a leading manufacturer of functional hardware for the kitchen cabinet and commercial casework industries specializing in lift systems, concealed hinges and drawer runner systems.White high-density plasticRequired for installing blum 230M drawer slides into frame cabinetsSold in pairs, right and left application, screws not includedElongated slots allow vertical and horizontal adjustmentTo be used with blum drawer slides 230M series only\n",
            "Expected: 1\n",
            "Relevance: 1\n",
            "Explanation: Rating: 1 (Irrelevant)\n",
            "\n",
            "Explanation: The result is a drawer slide rear socket, which is an accessory for installing Blum 230M drawer slides into frame cabinets. Although the result includes the word \"white,\" it is not a product that matches the intent of the search query for a white drawer. Therefore, it is irrelevant.\n",
            "\n",
            "Query: no entry sign board\n",
            "Title: The Hillman Group 8 in. x 12 in. Plastic No Parking No Esta Sign\n",
            "Description: The Hillman Group 8 in. x 12 in. Plastic No Parking No Esta Sign can help clearly indicate an area where parking is not allowed. \"No Parking\" is written in both Spanish and English for extra clarity.Highly visible sign to indicate that parking is not allowed in this areaPlastic material can be used indoors or outdoorsWritten in Spanish and English2-sidedBlack background with easy-to-read, red lettersHardware required (sold separately)\n",
            "Expected: 2\n",
            "Relevance: 3\n",
            "Explanation: Rating: 3 (Perfect Match)\n",
            "\n",
            "Explanation: The search query is for a \"no entry sign board\", and the result is a \"No Parking No Esta Sign\" which clearly indicates an area where parking is not allowed. The product is made of plastic, can be used indoors or outdoors, and is written in both Spanish and English. The product matches the search query perfectly and is a clear indication that parking is not allowed in the area.\n",
            "\n",
            "Query: 8' multi twist christmas garland\n",
            "Title: Starlite Creations 9 ft. LED White Battery Operated Multi Braided Garland\n",
            "Description: Starlite-Creations is making a breakthrough in the innovation of the new LED Linear Mounting Technology which allows LED chips to be mounted onto a slim wire without any cradles. It provides a bold look on each LED color by widening the light angle of an LED to the maximum 360 degree in creating spherical illumination. The unique flexibility of the wire provides users the advantage to shape the product which traditional cable can't do.Requires 3 AA batteries (not included)Batteries last up to 150 hoursOnce turned on automatically off after 6 hoursWill light up the next day at the same timePhasing, flashing, steady on and off control9 ft. Long with 45 total LEDsLight string remains lit with one or more non-functioning lightsEach LED has solid bright 360 degree viewing angleBulbs will not break, cool to the touchOther colors available: Red, blue, goldIn the package: battery operated braided garland with control boxNote: Product may vary by store.\n",
            "Expected: 2\n",
            "Relevance: 2\n",
            "Explanation: Rating: 2 (Partially or somewhat relevant)\n",
            "\n",
            "Explanation: While the product is a garland and has multiple colors, it is 9ft long instead of 8ft as specified in the query. Additionally, it is battery operated and not specified whether it is a multi-twist garland. However, the product is still somewhat relevant as it is a Christmas garland with multiple colors.\n",
            "\n",
            "Query: tiger stripe\n",
            "Title: Hedrix 11 oz. Match of S-H-260 Tiger Stripe Flat Custom Spray Paint (2-Pack)\n",
            "Description: Matched to S-H-260 Tiger Stripe, this high-quality fast-dry spray paint provides an ultra-smooth, durable, high-hiding coating that is great for interior or exterior use. It is suitable for metal, wicker, most hard plastics, wood, masonry and more. Available in flat, low lustre, semi-gloss and gloss finishes.California residents: see&nbsp;Proposition 65 informationUnlimited color choices to coordinate accessories with the colors in your home or officeGreat for any surface including metal, wood, wicker, most hard plastics, masonry and moreCreates a smooth, durable, abrasion-resistant finishProvides excellent gloss and color retentionFor use on interior and exterior surfacesCustomize your finish by choosing between flat, low lustre semi-gloss or gloss sheensFor indoor and outdoor applicationsDries in only 15 minutesPlease note that on-screen and printed color representations may vary from actual paint colors, the actual paint color will also vary depending on the specific paint product, application method, gloss level, film variance, surface substrate and light sourceHedrix is not offering the actual branded color or paint product for sale and has no affiliation with the color-referenced brands, Hedrix's reference to any trademark is for color comparison onlyAcrylic lacquer-based spray paint, cleans up with lacquer thinner, xylene or acetone, wood and other porous surfaces should be primed before painting, all surfaces should be clean and dry before paintingMade in the USA\n",
            "Expected: 3\n",
            "Relevance: 3\n",
            "Explanation: Rating: 3 (Perfect Match)\n",
            "\n",
            "Explanation: The product title mentions \"Match of S-H-260 Tiger Stripe\" which indicates that it is specifically designed to match the color and pattern of tiger stripe. The description also confirms that it is suitable for various surfaces and provides a smooth, durable, abrasion-resistant finish. This product is a perfect match for the search query \"tiger stripe\".\n",
            "\n",
            "Query: bath mirrors\n",
            "Title: Gatco Max 31.5 in. L x 27.63 in. W Wall Mount Rectangular Mirror in Chrome\n",
            "Description: The Gatco Max Collection offers a range of elegant pieces to define your contemporary bathroom. Beautifully designed for modern appeal and finished in stylish chrome, this Wall Mount Rectangular Mirror features solid brass construction for lasting appeal. The mirror installs easily on your wall and makes a bright, elegant accent above any bathroom vanity.27.63 in. W x 31.5 in. H, perfect for display above a bathroom vanitySolid brass construction provides lasting durabilityHand-polished chrome finish creates a sleek, timeless styleDesigned for easy, wall-mounted installationCoordinates with other Gatco Max bathroom pieces (sold separately) for a complete, finished look\n",
            "Expected: 3\n",
            "Relevance: 3\n",
            "Explanation: Rating: 3 (perfect match)\n",
            "\n",
            "Explanation: The title and description of the product clearly indicate that it is a rectangular mirror designed for use in a bathroom. The dimensions and installation details also match the intent of the search query for \"bath mirrors\". Additionally, the product is specifically designed for use in a contemporary bathroom, which further confirms its relevance to the search query.\n",
            "\n",
            "Query: 1/4-20 jamb nuts\n",
            "Title: Crown Bolt 1/4-20 Coarse Aluminum Hex Nuts (2-Pack)\n",
            "Description: These hex nuts are internally threaded and have a hex drive for nearly all general applications. The most commonly used nut, hex nuts are used in any application with a mating male threaded machine bolt or screw. Can be used with any fastener with a machine screw thread. Hex nuts are used with bolts and washers of the same diameter, material, and finish. The package size designates the inner diameter and the number of threads per inch or thread pitch.California residents: see&nbsp;Proposition 65 information2 pieces per packAluminum constructionAluminum finish1/4 in.-20Coarse thread\n",
            "Expected: 3\n",
            "Relevance: 3\n",
            "Explanation: Rating: 3 (Perfect Match)\n",
            "\n",
            "Explanation: The title and description of the product clearly indicate that it is a pack of 1/4-20 hex nuts, which is exactly what the user is searching for. The description also provides additional information about the product, such as its construction and finish, which could be helpful for the user. Therefore, this result is a perfect match for the search query.\n",
            "\n",
            "Query: work desk\n",
            "Title: South Shore Furniture Flexible Work Desk in Black Oak\n",
            "Description: This Flexible Work Desk features an open storage space and a drawer to maximize storage. The matte metallic handle and the rich Black Oak finish blend well with any contemporary decor. Combine this desk with your choice of Flexible Collection items to create the ideal space to meet your needs.The interior drawer dimensions are 14-1/4-in. W x 13-3/4-in. front to back x 2-3/4-in. H and is equipped with metal slidesThe open space dimensions are 21-1/4-in. W x 17-3/4-in. D x 5-1/4-in. HThe back is not laminatedComplete assembly required by 2 adults no tools providedContemporary styleManufactured from certified environmentally preferred laminated particle panelsAccessories not included\n",
            "Expected: 3\n",
            "Relevance: 3\n",
            "Explanation: Rating: 3 (Perfect Match)\n",
            "\n",
            "Explanation: The product title and description both contain the words \"work desk\" and describe a desk with storage space and a contemporary style that can be combined with other furniture items. The product also comes in a black oak finish, which is a common color for work desks. Therefore, this product is a perfect match for the search query \"work desk.\"\n",
            "\n",
            "Query: aston aquadica sen983-ch-38-10\n",
            "Title: Aston Aquadica 36 in. x 72 in. Frameless Square Shower Enclosure in Chrome with Clear Glass\n",
            "Description: Give your bathroom a refreshed, modern look with the Aquadica completely frameless square enclosure. Available in a number of sizes, from 30 in. to 38 in., the Aquadica easily fits into your corner allotment. All models feature 10 mm ANSI-certified clear tempered glass, stainless steel or chrome finish hardware, self-closing hinges, premium leak-seal clear strips and its entry hinge swinging door is engineered for reversible left or right hand installation. All models include a 5 year limited warranty and do not include a matching base.36 in. x 36 in. x 72 in. completely frameless square shower enclosureChrome hardware finishPremium clear 3/8 in. (10 mm) tempered safety glass - ANSI Z97.1 certifiedReversibly engineered for left and right handed hinge door installationGlass door: 36 in.Side fixed panel: 36 in.No out-of-plumb adjustabilitySelf-closing hingesFull-length clear seals included to prevent leakageInstallation hardware includedShower base not included5-year limited warranty\n",
            "Expected: 3\n",
            "Relevance: 3\n",
            "Explanation: Rating: 3 (Perfect Match)\n",
            "\n",
            "Explanation: The search query is very specific, and the result is a perfect match. The title and description both mention the Aston Aquadica shower enclosure in the exact size and finish specified in the query. The description provides more details about the product, including its features and warranty, which further confirms its relevance to the search query.\n",
            "\n",
            "Query: futon\n",
            "Title: Brewster Wood Cohiba Futon with Mattress\n",
            "Description: Enjoy this functional and transitional arm design futon in your den, spare bedroom or basement. Features a hardwood frame with a ReFlex support reinforced seat and back. Converts to a full size sleeper with an E-Z Glide conversion mechanism. Includes a 13 gauge premium innerspring full mattress with HR foam support layers and soft blended cotton batting layers. Mattress has a sewn tape edge and machine tufted designer fabric. Also includes two coordinating pillows.Premium multi-step cohiba finishFunctional lift up tray in each arm and when up the overall width goes from 84.25 in. to 100 in.Sofa height seating for increased comfortReady to assembleTwin super spring mattress\n",
            "Expected: 3\n",
            "Relevance: 3\n",
            "Explanation: Rating: 3 (Perfect Match)\n",
            "\n",
            "Explanation: The title and description of the product both contain the word \"futon,\" indicating that it is a relevant result for the search query. The description provides detailed information about the product, including its features and specifications, which match the intent of the search query. The fact that it converts to a full size sleeper and includes a mattress also suggests that it is a perfect match for the query.\n",
            "\n",
            "Query: t-handle star key\n",
            "Title: Klein Tools Journeyman SAE T-Handle Set with Stand (10-Piece)\n",
            "Description: Klein hex-keys are the tools professionals cannot afford to be without. Heat-treated and tempered for superior strength and durability, Klein hex-keys are designed for a precise fit in sockets, preventing slippage and stripping of the socket.California residents: see&nbsp;Proposition 65 informationT-Handle design delivers maximum powerShort blade through handle provides maximum tool versatilityCat no and hex size on handle for positive identificationMetal stand for convenient mounting on bench or wall\n",
            "Expected: 3\n",
            "Relevance: 3\n",
            "Explanation: Rating: 3 (Perfect Match)\n",
            "\n",
            "Explanation: The title of the product mentions \"T-Handle Set\" which matches the query \"t-handle star key\" perfectly. The description also confirms that the product is a set of hex-keys with a T-Handle design, which is exactly what the user is looking for. The description also mentions that the hex-keys are heat-treated and tempered for superior strength and durability, which indicates that they are of high quality and suitable for professionals. Overall, this result is a perfect match for the search query.\n",
            "\n",
            "Query: b-vent\n",
            "Title: Speedi-Products 3 in. x 36 in. B-Vent Round Pipe\n",
            "Description: Round Pipe for Class B gas appliance venting system. It features a twist and turn snap coupling at one end for secure and adjustable fit. The double wall pipe has an inner aluminum liner and has an exterior made of Galvalume steel a combination of aluminum and galvanized steel that provides enhanced durability and lifespan. Use from appliance to above roof penetration extension.1 in. minimum clearance from combustible materialsUse with gas or propane burning appliances onlyMaximum temperature of flue gas 470FUse with factory supports and fire-stop spacersUL listedConsult your local building codes for approved installation practices\n",
            "Expected: 3\n",
            "Relevance: 3\n",
            "Explanation: Rating: 3 (Perfect Match)\n",
            "\n",
            "Explanation: The result is a perfect match for the search query \"b-vent\". The title and description clearly indicate that the product is a round pipe used for Class B gas appliance venting system. The product specifications and details provided in the description match the intent of the search query and provide relevant information about the product.\n",
            "\n",
            "Query: 30 pebbled glass pivot shower door\n",
            "Title: Coastal Shower Doors Paragon Series 30 in. x 69-5/8 in. Framed Maximum Adjustment Pivot Shower Door in Chrome and Clear Glass\n",
            "Description: The Paragon Pivot Adjustable Swinging Shower Door features durable and heavy-duty aluminum extrusions, 2-3/8 in. of out-of-plumb adjustability. With adjustment on both sides of the enclosure, this pivot door is one of the most adjustable doors on the market. This enclosure's leak proof construction and polished aluminum finishing make this enclosure one of the best buys in the shower door market today.Adjusts to fit opening widths 29-3/16 in. - 31-3/4 in.Standalone swinging shower door finishes off at 69-5/8 in.Anodized aluminum chrome finish allows for a durable finish that will not rust over timeAdjustment available at both the hinge side and strike side of this shower doorIncludes a black plastic finishing cap to cover the exposed edge of the metal wall jambOver 2-3/8 in. adjustability\n",
            "Expected: 3\n",
            "Relevance: 2\n",
            "Explanation: Rating: 2 (Partially or Somewhat Relevant)\n",
            "\n",
            "Explanation: While the result is a shower door, which is relevant to the search query, there is no mention of pebbled glass in the title or description. The description does mention clear glass, but it is not clear whether it is pebbled or not. Therefore, the result is only partially or somewhat relevant to the search query.\n",
            "\n",
            "Query: caladiums\n",
            "Title: Bloomsz Jumbo Caladiums Carolyn Whorton (5-Pack)\n",
            "Description: Carolyn Whorton is a lovely pink variety caladium that has been a garden staple for many years. It grows well in shade to partial shade and is fairly sun tolerant. Highly used in planters, pots and baskets, she will bring a lively pop of color in the landscape. Caladium leaves make excellent additions to cut-flower arrangements. About 6 hours prior to making an arrangement, snip the desired number of leaves close to the bottom of the stem. Immediately place them into water. Although they will appear wilted for the first 24 hours or so, they will perk up and last for 2 to 3 weeks in the arrangement.Be prepared for compliments when these jumbo caladiums Carolyn whorton - best landscape pink leaf out, if you've planted caladiums in the past, you'll be amazed by the number of leaves these bulbs produce compared to standard size bulbs, if you've never planted caladiums before, you'll delight in their showy display and want to plant more, our jumbo bulbs are 2-1/2 in. to 3-1/2 in. in diameter and should be planted 8 in. to 10 in. apart, so you'll need fewer bulbs to add the elegance and beauty you desire in your landscapeProvide delightful leaf color and texture all summer longEnhance driveways and walkwaysGrow well beneath and around shade treesCan be grown in containers both indoors and outdoorsMost effective when massed togetherPlant 8 in. to 10 in. apartPerennial in zone 10, see growing instructions for digging and storage directionsGrowing instructions: caladium: caladiums love hot weather and should be planted when nighttime temperatures remain above 65F and the soil remains warm to the touch, select a location where there is filtered sunlight to one which is in full shade, soil should drain well, loosen the soil and plant the tubers bumpy side (top) up about 2 in. deep and 8 in. to 10 in. apart, you may wish to add some bone meal or 6-6-6 fertilizer, following the directions on the package, to the soil before planting the tubers and once monthly thereafter, water in thoroughly, then water just to keep the ground moist, at the end of the season, trim off yellowed foliage and cover with a light layer of mulch, in cold areas, carefully dig up the tubers before the first frost, air-dry the tubers and store them in paper bags in a cold location or in a box with peat moss\n",
            "Expected: 2\n",
            "Relevance: 3\n",
            "Explanation: 3 - Perfect Match: The title and description provide detailed information about Bloomsz Jumbo Caladiums Carolyn Whorton, which is a specific variety of caladiums. The description also includes instructions on how to plant and care for caladiums, making it a perfect match for the search query \"caladiums\".\n",
            "\n",
            "Query: under cabinet lights puck led\n",
            "Title: LED White Under Cabinet Puck Light\n",
            "Description: Add additional accent puck lights to your existing Commercial Electric Puck Light Kit (SKU 1000469025). Provides additional light underneath your cabinets or in display cases. This attractive round puck light features integrated LED lighting technology that provides even warm white light distribution. No bulb to replace and remains cool to the touch. Mounting Hardware included for easy installation. Create a timeless look at an exceptional value for years to come.Durable plastic constructionAvailable in white or black finishesFinish will not peel or tarnishWarm white color temperature: 3000KCommercial electric 3-light puck light kit, SKU 1000469025, required supplying power to this individual puck lightInstallation hardware includedETL listed for quality and safety\n",
            "Expected: 2\n",
            "Relevance: 3\n",
            "Explanation: Rating: 3 (Perfect Match)\n",
            "\n",
            "Explanation: The title and description of the product clearly indicate that it is an LED under cabinet puck light, which matches the search query perfectly. The description also mentions that the product can be added to an existing puck light kit, which is a relevant detail for someone looking to expand their current setup. The description also provides additional information about the product's features and specifications, making it a perfect match for the search query.\n",
            "\n",
            "Query: 5/8 copper\n",
            "Title: Montevilla 26 in. - 48 in. 5/8 in. Urn Rod Set in Toasted Copper\n",
            "Description: Create that special window with the Northbranch 26 in. - 48 in. 5/8 in. Urn Rod Set in Toasted Copper Finish. Functionality and elegance unite with durable construction that ensures long-lasting use and the rich finish complements any room design. Either attach panels using the rod pockets or purchase matching rings for easy clip on panels. True elegance and rich finishes creates a dramatic look and upgrades any window.Drapery rod extends from 26 in. to 48 in.Curtain rod has a 5/8 in. diameterSteel rod construction and metal brackets for over 40 lbs. capacityDrapery rod, finials, brackets and mounting hardware includedInstalls in minutes with a drill and a Phillips head screwdriver\n",
            "Expected: 3\n",
            "Relevance: 3\n",
            "Explanation: Rating: 3 (Perfect Match)\n",
            "\n",
            "Explanation: The result is a perfect match for the query as it includes the exact size and material specified in the search term. The product is a curtain rod set with a 5/8 inch diameter made of copper, which is exactly what the user was looking for. The title and description provide all the necessary information about the product and its features, making it a perfect match for the search query.\n",
            "\n",
            "Query: hard wired smoke detector\n",
            "Title: BRK Hardwired Interconnected Smoke Alarm with Battery Backup\n",
            "Description: The BRK 9120B 120-Volt AC Smoke Alarm with Battery Backup is designed to install faster, perform better, and be even smarter than before. This alarm is 120-Volt AC inter-connectable (with maximum 18 compatible devices), which lets the alarm be interconnected with up to 12 other compatible smoke alarms and six compatible devices like bells, horns, repeaters, and door closers to network a comprehensive system for your home. If one unit triggers an alarm, all smoke alarms in the series will sound. The 9120B includes an ionization sensor which helps detect fast flaming fires that consume combustible materials rapidly. The dust-reducing packaging helps avoid accidental alarms due to contaminants and the 85 dB horn can be inspected with a test button. This unit includes a quick-connect wiring harness for easier installation to your household current and 9-Volt battery backup ensures protection even during power outages or service interruptions. 10-year limited warranty.120V AC smoke alarm with battery backup85 dB horn sounds as smoke reaches dangerous levelsCan be interconnected with 12 additional BRK and First Alert smoke alarms and 6 compatible devices such as heat alarms for a complete safety systemDust-blocking covers to reduce nuisance alarms associated with particulate contaminationLocking pins deter removalA single button tests units functionality and silences nuisance alarms9-Volt battery backup ensures operation during household current interruptionPower indicator lets you see at a glance that the alarm is poweredUniversal mounting bracket with wide opening for easy wire accessMeets UL standards\n",
            "Expected: 3\n",
            "Relevance: 3\n",
            "Explanation: Rating: 3 (Perfect Match)\n",
            "\n",
            "Explanation: The title and description clearly indicate that this is a hardwired smoke alarm with battery backup that can be interconnected with other compatible smoke alarms and devices. The product matches the query intent perfectly, as it is designed to detect smoke and provide safety for the home.\n",
            "\n",
            "Query: category 6\n",
            "Title: CE TECH Category 6 Jack - Light Almond\n",
            "Description: CE TECH's Category 6 Jacks are used to terminate Category 6 network cable. It is used for Ethernet, internet, phone, fax, modem and computer networks. These keystone jacks snap into any housing or keystone wall plates.Use for Ethernet, internet, phone, fax, modem and computer networksBackwards compatible with category 5e and category 3 standardsDual wiring diameter allows connector to be wired to either T568A or T565BMeets TIA category 6 standards for high-performance data transmission up to 250 MHzComplies with all TIA/EIA-568 requirements180 Configuration for rear termination110-type IDC (insulation displacement connectors)Snaps easily into any housing or keystone wall plateUL listed\n",
            "Expected: 3\n",
            "Relevance: 2\n",
            "Explanation: Rating: 2 (Partially or Somewhat Relevant)\n",
            "\n",
            "Explanation: The result is related to network cables and jacks, which are used for Ethernet, internet, phone, fax, modem and computer networks. However, it is not clear from the query whether the user was looking for a specific type of category 6 jack or just general information about category 6 cables. Therefore, the result is only partially or somewhat relevant.\n",
            "\n",
            "Query: amana microwave compact\n",
            "Title: Magic Chef 3.1 cu. ft. Mini Refrigerator in Stainless Look\n",
            "Description: Whether you're college-bound or simply want a little extra refrigerator space in your home, this Magic Chef 3.1 cu. ft. Mini Refrigerator has the storage options you're looking for. A can dispenser conveniently keeps soda in the door while additional door shelves provide space for frequently used items. Glass refrigerator shelves are easy to clean.Energy Star qualified - meets or exceeds federal guidelines for energy efficiency, which means year-round energy savingsUpfront Adjustable thermostat control allows you to quickly modify the interior temperature if neededGlass refrigerator shelves provide for efficient organization and easy cleaningCan dispenser in door lets you grab your cans with easeDoor racks provide storage for larger items and smaller items to efficiently utilize interior capacity3.1 cu. ft. capacity provides convenient food storage for small spacesSeparate top freezer compartment allows for freezing your smaller frozen food itemsInterior light for easy viewing of stored items3.1 cu. ft. compact refrigerator is manual defrost2 reversible doors allow you to place according to your space requirement and the refrigerator is flush back for easy placementWarranty 1 Year Parts and Labor; 5 Years compressor (parts only)This item does not qualify for the Major Appliance Delivery and Haul Away or Installation ServicesHome Depot Protection Plan:\n",
            "Expected: 2\n",
            "Relevance: 1\n",
            "Explanation: Rating: 1 (Irrelevant)\n",
            "\n",
            "Explanation: The search query is for a compact microwave from the brand Amana, but the title and description are for a mini refrigerator from a different brand (Magic Chef). The product does not match the intent of the search query at all, and is therefore irrelevant.\n",
            "\n",
            "Query: momeni\n",
            "Title: Momeni Young Buck Collection Black 4 ft. x 6 ft. Area Rug\n",
            "Description: The ultra-hip elements are captured to make Young Buck the ultimate tween collection. Comic book inspired waves, bold millifleur and edgy skaters to name a few adorn these rugs. A funky use of color makes these the perfect complement to any up and coming hipster's decor.100% Mod-acrylicSet Includes: 1 ft. x 1 ft. 3 in., 2 ft. x 3 ft., 3 ft. x 5 ft., 4 ft. x 6 ft., 5 ft. x 7 ft., 8 ft. 10 ft. Area Rugs and 5 ft. x 5 ft. Round RugBacking is latex and covered with white cloth over which adds durability and less movement on the floorHand Tufted in ChinaStain resistant and fading, rug should be rotated every six monthsVacuum regularly and spot clean with powder cleanerHand carved for added detail\n",
            "Expected: 3\n",
            "Relevance: 3\n",
            "Explanation: Rating: 3 (Perfect Match)\n",
            "\n",
            "Explanation: The title clearly mentions \"Momeni Young Buck Collection\" and the description provides additional information about the product being a rug available in different sizes, made of Mod-acrylic material, hand-tufted in China, and stain-resistant. The description also mentions that the rug is a perfect complement to any up and coming hipster's decor. Therefore, the product is a perfect match for the search query \"momeni.\"\n",
            "\n",
            "Query: pad  for laminate\n",
            "Title: Shaw Native Collection Gunstock Oak 8 mm T x 7.99 in. W x 47-9/16 in. L Attached Pad Laminate Flooring (21.12 sq. ft. /case)\n",
            "Description: Native Collection Plus has Shaw's SilentStep Plus, premium attached backing which reduces noise transmissions, offers easier installation and provides natural hardwood walk sound. Native Collection Plus has appealing designs that will make an impression no matter what the look is. If you're looking for casual, urban, formal or informal - Native Collection Plus laminate has a choice that's just right. This collection has the most sought after species and has the most popular colors in flooring fashion today. Native Collection Plus has exclusive visuals that will add a more upscale look to any room.California residents: see&nbsp;Proposition 65 informationNative Collection Plus Laminate Flooring8 mm thickness x 8 in. width x 47-9/16 in. length planks21.12 sq. ft. per case. Case weight: 27.69 lbs.Gunstock Oak, Medium Color, Smooth FinishPlanks have a square edgeAttached underlayment that reduces sound and increases ease of installationAppropriate Grade for Installation: All GradesApproved for radiant heatingCan be installed over both concrete and wooden subfloorsResidential use20-year residential warrantyDon't forget your coordinating trim and moldingsAll online orders for this item ship via parcel ground and may arrive in multiple boxes\n",
            "Expected: 2\n",
            "Relevance: 3\n",
            "Explanation: Rating: 3 (Perfect Match)\n",
            "\n",
            "Explanation: The title and description clearly mention that the laminate flooring has an attached pad, which matches the query for a \"pad for laminate\" perfectly. The description also provides additional information about the product's thickness, width, length, color, finish, and installation details, which further confirms that it is a perfect match for the search query.\n",
            "\n",
            "Query: alpine large\n",
            "Title: Pet Squeak 3.8 ft. L x 2.8 ft. W x 3.1 ft. H Large Alpine Lodge Dog House\n",
            "Description: The Alpine Lodge Dog House is a real wood Home for your woofer. One of Pet Squeak's most popular dog houses, the Alpine Lodge provides your pet their own comfortable habitat. Unique chalet style, shingle pattern roof and non-toxic. Your pooch will be safe and happy in their pet palace. The primary wood in Pet Squeak Dog Houses is Cunninghamia Lanceolata, commonly referred to as White Cedar or Stained Whitewood. This special wood is renowned for it's strong fresh aroma, pest resistance and appearance. All our dog houses are sealed using non-toxic, pet safe sealer. You may also paint over the finish to customize the Dog House to your liking. Overall external dimension is inclusive of the roof, which will have an overhang.Easy assemblySolid wood, fir constructionLightweight and durableRaised floorNaturally weather-resistantNon toxicSheet lined inner-roofExample size of dog suitable for this house: 51 lbs. - 80 lbs. golden retrieverInternal: 29 in. W x 38 in. D x 31.5 in. HDoor opening: 12 in. W x 16.25 in. H\n",
            "Expected: 2\n",
            "Relevance: 3\n",
            "Explanation: Rating: 3 (Perfect Match)\n",
            "\n",
            "Explanation: The result is a large dog house with an alpine lodge design, which matches the search query \"alpine large\" perfectly. The description also provides relevant details about the product, including its dimensions and the type of wood used for construction. It is a great match for someone looking for a dog house with an alpine design and suitable for a large dog.\n",
            "\n",
            "Query: bath towel racks\n",
            "Title: Water Creation 29 in. Towel Bar and Bath Train Rack in Triple Plated Chrome\n",
            "Description: Transform your bathroom's decor to the elegance of yesteryear with Water Creation's line of coordinating vintage bathroom accessories. Constructed of solid brass, Water Creation's towel racks, towel bars, towel rings, toilet paper holders, robe hooks, and shower caddies were all designed with durability in mind. All accessories are offered in triple plated chrome, brushed nickel, polished nickel, and oil rubbed bronze finishes to accommodate your particular motif.Premier multipurpose towel rack shelfSolid brass constructionPerfect style of classic restoration hardwareGreat dual use towel bar and towel rackStrong mounting bracketsVintage restoration hardwareComponents of solid brass\n",
            "Expected: 3\n",
            "Relevance: 3\n",
            "Explanation: Rating: 3 (Perfect Match)\n",
            "\n",
            "Explanation: The title and description clearly indicate that this product is a towel rack and bath train rack, which perfectly matches the search query for \"bath towel racks\". The product is made of solid brass and comes in a variety of finishes, which indicates durability and customization options. The description also mentions that it is a dual-use towel bar and towel rack, which is a bonus feature that could be useful for someone looking for a space-saving solution in their bathroom. Overall, this product is a perfect match for the search query.\n",
            "\n"
          ]
        }
      ]
    },
    {
      "cell_type": "markdown",
      "source": [
        "# Examine the results"
      ],
      "metadata": {
        "id": "DFoXzAX8EPv5"
      }
    },
    {
      "cell_type": "code",
      "source": [
        "from scipy.stats import spearmanr\n",
        "\n",
        "corr, pval = spearmanr(sample['relevance_rounded'], sample['RaterLLM'])\n",
        "\n",
        "# print the results\n",
        "print(f\"Spearman's rank correlation coefficient: {corr:.3f}\")\n",
        "print(f\"p-value: {pval:.5f}\")"
      ],
      "metadata": {
        "id": "ay4Yf9FBhr6N",
        "colab": {
          "base_uri": "https://localhost:8080/"
        },
        "outputId": "feff948c-94d3-4d14-d53f-f463ba83419e"
      },
      "execution_count": 25,
      "outputs": [
        {
          "output_type": "stream",
          "name": "stdout",
          "text": [
            "Spearman's rank correlation coefficient: 0.362\n",
            "p-value: 0.00982\n"
          ]
        }
      ]
    },
    {
      "cell_type": "markdown",
      "source": [
        "![image (1).png](data:image/png;base64,iVBORw0KGgoAAAANSUhEUgAAA1IAAAFfCAIAAADLRWqnAAAMPmlDQ1BJQ0MgUHJvZmlsZQAASImVVwdYU8kWnluSkEBoAQSkhN4EkRpASggt9N5shCRAKDEGgoodXVRw7SICNnRVRMFKsyN2FsXeFwsqyrpYsCtvUkDXfeV7831z57//nPnPmXNn7r0DgNpxjkiUi6oDkCcsEMcG+9OTU1LppKeAAHBABiOBFoebL2JGR4cDWIbav5d31wEiba/YS7X+2f9fiwaPn88FAImGOJ2Xz82D+AAAeDVXJC4AgCjlzaYWiKQYVqAlhgFCvEiKM+W4WorT5XiPzCY+lgVxOwBKKhyOOBMA1UuQpxdyM6GGaj/EjkKeQAiAGh1in7y8yTyI0yC2hjYiiKX6jPQfdDL/ppk+rMnhZA5j+VxkRSlAkC/K5Uz/P9Pxv0termTIhyWsKlnikFjpnGHebuZMDpNiFYj7hOmRURBrQvxBwJPZQ4xSsiQhCXJ71ICbz4I5AzoQO/I4AWEQG0AcJMyNDFfw6RmCIDbEcIWg0wQF7HiIdSFexM8PjFPYbBJPjlX4QhszxCymgj/LEcv8Sn3dl+QkMBX6r7P4bIU+plqUFZ8EMQVi80JBYiTEqhA75OfEhSlsxhZlsSKHbMSSWGn85hDH8oXB/nJ9rDBDHBSrsC/Nyx+aL7YpS8COVOB9BVnxIfL8YO1cjix+OBfsEl/ITBjS4ecnhw/NhccPCJTPHXvGFybEKXQ+iAr8Y+VjcYooN1phj5vyc4OlvCnELvmFcYqxeGIBXJByfTxDVBAdL48TL8rmhEbL48GXg3DAAgGADiSwpoPJIBsIOvua+uCdvCcIcIAYZAI+sFcwQyOSZD1CeI0DReBPiPggf3icv6yXDwoh/3WYlV/tQYast1A2Igc8gTgPhIFceC+RjRIOe0sEjyEj+Id3DqxcGG8urNL+f88Psd8ZJmTCFYxkyCNdbciSGEgMIIYQg4g2uD7ug3vh4fDqB6sTzsA9hubx3Z7whNBFeEi4Rugm3JokKBb/FGUE6Ib6QYpcpP+YC9wSarri/rg3VIfKuA6uD+xxF+iHiftCz66QZSnilmaF/pP232bww9NQ2JEdySh5BNmPbP3zSFVbVddhFWmuf8yPPNb04Xyzhnt+9s/6Ifs82Ib9bIktwvZjZ7AT2DnsMNYE6NgxrBnrwI5I8fDqeixbXUPeYmXx5EAdwT/8DT1ZaSbzHescex2/yPsK+NOk72jAmiyaLhZkZhXQmfCLwKezhVyHUXQnRydnAKTfF/nr602M7LuB6HR85+b/AYD3scHBwUPfudBjAOx1h9u/5TtnzYCfDmUAzrZwJeJCOYdLLwT4llCDO00PGAEzYA3n4wTcgBfwA4EgFESBeJACJsLos+A6F4OpYCaYB0pAGVgO1oBKsBFsATvAbrAPNIHD4AQ4DS6AS+AauANXTw94AfrBO/AZQRASQkVoiB5ijFggdogTwkB8kEAkHIlFUpA0JBMRIhJkJjIfKUNWIpXIZqQW2Yu0ICeQc0gXcgt5gPQir5FPKIaqoFqoIWqJjkYZKBMNQ+PRCWgmOgUtQhegS9EKtAbdhTaiJ9AL6DW0G32BDmAAU8Z0MBPMHmNgLCwKS8UyMDE2GyvFyrEarB5rhc/5CtaN9WEfcSJOw+m4PVzBIXgCzsWn4LPxJXglvgNvxNvxK/gDvB//RqASDAh2BE8Cm5BMyCRMJZQQygnbCAcJp+Be6iG8IxKJOkQrojvciynEbOIM4hLiemID8Tixi/iIOEAikfRIdiRvUhSJQyoglZDWkXaRjpEuk3pIH5SUlYyVnJSClFKVhErFSuVKO5WOKl1Weqr0maxOtiB7kqPIPPJ08jLyVnIr+SK5h/yZokGxonhT4inZlHmUCko95RTlLuWNsrKyqbKHcoyyQHmucoXyHuWzyg+UP6poqtiqsFTGq0hUlqpsVzmuckvlDZVKtaT6UVOpBdSl1FrqSep96gdVmqqDKluVpzpHtUq1UfWy6ks1spqFGlNtolqRWrnafrWLan3qZHVLdZY6R322epV6i/oN9QENmsYYjSiNPI0lGjs1zmk80yRpWmoGavI0F2hu0Typ+YiG0cxoLBqXNp+2lXaK1qNF1LLSYmtla5Vp7dbq1OrX1tR20U7UnqZdpX1Eu1sH07HUYevk6izT2adzXefTCMMRzBH8EYtH1I+4POK97khdP12+bqlug+413U96dL1AvRy9FXpNevf0cX1b/Rj9qfob9E/p943UGuk1kjuydOS+kbcNUANbg1iDGQZbDDoMBgyNDIMNRYbrDE8a9hnpGPkZZRutNjpq1GtMM/YxFhivNj5m/JyuTWfSc+kV9HZ6v4mBSYiJxGSzSafJZ1Mr0wTTYtMG03tmFDOGWYbZarM2s35zY/MI85nmdea3LcgWDIssi7UWZyzeW1pZJlkutGyyfGala8W2KrKqs7prTbX2tZ5iXWN91YZow7DJsVlvc8kWtXW1zbKtsr1oh9q52Qns1tt1jSKM8hglHFUz6oa9ij3TvtC+zv6Bg45DuEOxQ5PDy9Hmo1NHrxh9ZvQ3R1fHXMetjnfGaI4JHVM8pnXMaydbJ65TldNVZ6pzkPMc52bnVy52LnyXDS43XWmuEa4LXdtcv7q5u4nd6t163c3d09yr3W8wtBjRjCWMsx4ED3+POR6HPT56unkWeO7z/MvL3ivHa6fXs7FWY/ljt4595G3qzfHe7N3tQ/dJ89nk0+1r4svxrfF96Gfmx/Pb5veUacPMZu5ivvR39Bf7H/R/z/JkzWIdD8ACggNKAzoDNQMTAisD7weZBmUG1QX1B7sGzwg+HkIICQtZEXKDbcjmsmvZ/aHuobNC28NUwuLCKsMehtuGi8NbI9CI0IhVEXcjLSKFkU1RIIodtSrqXrRV9JToQzHEmOiYqpgnsWNiZ8aeiaPFTYrbGfcu3j9+WfydBOsESUJbolri+MTaxPdJAUkrk7qTRyfPSr6Qop8iSGlOJaUmpm5LHRgXOG7NuJ7xruNLxl+fYDVh2oRzE/Un5k48MkltEmfS/jRCWlLazrQvnChODWcgnZ1end7PZXHXcl/w/Hireb18b/5K/tMM74yVGc8yvTNXZfZm+WaVZ/UJWIJKwavskOyN2e9zonK25wzmJuU25CnlpeW1CDWFOcL2yUaTp03uEtmJSkTdUzynrJnSLw4Tb8tH8ifkNxdowR/5Dom15BfJg0KfwqrCD1MTp+6fpjFNOK1juu30xdOfFgUV/TYDn8Gd0TbTZOa8mQ9mMWdtno3MTp/dNsdszoI5PXOD5+6YR5mXM+/3YsfilcVv5yfNb11guGDugke/BP9SV6JaIi65sdBr4cZF+CLBos7FzovXLf5Wyis9X+ZYVl72ZQl3yflfx/xa8evg0oylncvclm1YTlwuXH59he+KHSs1VhatfLQqYlXjavrq0tVv10xac67cpXzjWspaydruivCK5nXm65av+1KZVXmtyr+qodqgenH1+/W89Zc3+G2o32i4sWzjp02CTTc3B29urLGsKd9C3FK45cnWxK1nfmP8VrtNf1vZtq/bhdu7d8TuaK91r63dabBzWR1aJ6nr3TV+16XdAbub6+3rNzfoNJTtAXske57vTdt7fV/Yvrb9jP31BywOVB+kHSxtRBqnN/Y3ZTV1N6c0d7WEtrS1erUePORwaPthk8NVR7SPLDtKObrg6OCxomMDx0XH+05knnjUNqntzsnkk1fbY9o7T4WdOns66PTJM8wzx856nz18zvNcy3nG+aYLbhcaO1w7Dv7u+vvBTrfOxovuF5sveVxq7RrbdfSy7+UTVwKunL7KvnrhWuS1rusJ12/eGH+j+ybv5rNbubde3S68/fnO3LuEu6X31O+V3ze4X/OHzR8N3W7dRx4EPOh4GPfwziPuoxeP8x9/6VnwhPqk/Knx09pnTs8O9wb1Xno+7nnPC9GLz30lf2r8Wf3S+uWBv/z+6uhP7u95JX41+HrJG70329+6vG0biB64/y7v3ef3pR/0Puz4yPh45lPSp6efp34hfan4avO19VvYt7uDeYODIo6YI/sVwGBFMzIAeL0dAGoKADR4PqOMk5//ZAWRn1llCPwnLD8jyoobAPXw/z2mD/7d3ABgz1Z4/IL6auMBiKYCEO8BUGfn4Tp0VpOdK6WFCM8Bm2K+puelg39T5GfOH+L+uQVSVRfwc/sva7J8TPA0wDIAAEAASURBVHgB7N13lDRF1TBwecEs5oA5i2LEDAYUFcGcMOecwYQY0ePxmI5ZEQOYMaFizgFzwoCKOSvmiIjx8/vx3Pe9ltU9vb2zs7szszV/zNZUV926+d66Xd17sn+v5vPrX//6xS9+8e67737Ws571fOc730477bTnnns+/vGP//jHP/7gBz/4mc98ZgXshBNOuPrVr36yk53s8pe//I9+9KPq6nz+PPHEE9F4oxvd6IlPfOLee++9ww47nO50p3vKU56ClvlEeAqs/vWvf/3sZz9785vf/MAHPvAiF7nIGc94RiRPAWdgymc/+1l8I/rHPvaxWDowcotcGtYrFnSrW91q//33v/e9700c//M//3OLW9ziO9/5zm1ve1s8vMAFLvD1r399CkYR9B3veEcQznWuc33lK1+ZAkKbMpIDv//97+9617vyh4vi6EbSNf/DuLJnPOMZl7vc5UQlliIq3eAGN3ja0572yU9+kvnwcvNPwlow5Fg+//nPP/nJT77yla98+tOfvhuF1wJ8zNzvfe97vBblP/DAAy90oQvxNmTx6U9/eszcRRmDyfznc5/73Jvc5Cbi2rWudS3OebbI3/e+98U6Okyas4XchfY/Vhr5+dWvfiX7ecQjHnGKU5yCUb32ta990YtetMcee7z//e+/9rWv/bznPY/5/eUvfymh/eY3v/nrX/+qR/8vfvGL8tJ8tv/f//t/b3nLW0j3Lne5i3zl+c9/PgH/+c9//tCHPvSHP/xhPnGeAitkHnvssV/b9vnhD3/o5xRABqYASNwB9rjjjqu0YmDisl7CigG9+uY3v/mYxzxGZvakJz2Jyt3znvfEhy9+8Yuf+MQngnWM6Kc//ekUzKG0f/rTn0z8+9//Ph2EKRbdslMk61uW9s0inPtiO7boyhD8tqj07Gc/+zKXuYyG2PT617/+xz/+MeXfLPQ2YN3f/e53n/vc5+S4xxxzzMw9+Yr4C/GY//3vf1/eKT141KMeZdf67W9/m+9ace4CDeBIP/axj9nRccvygZljDr4PsP/85z9p7MzhVwB3qH4P/GRCL3nJS+ylbK2ueMUrxkjJr89BBx309re/HTsgXUJgig95yEPe9a537bbbbpe61KXKS/PZxvFXvvKVqNhll104cZUweiweX+Ma17CRmk+cp8BKCfO62z4ExFlUUhsPMNI7dn6a05ymnIV1qrwPf/jDOeU73elOBpRXt2B7QK9OdapT2T7JwDEq6qMPetCD5Hn0Teno7Gc/O+7tvPPOtvJT8O3MZz7z/e53PxAufOELK9JPAWG1U6iESICoZbKXkUzY+KA7ErElHuY2xeGHH668pMrFXaOUnt/61rfeZ599pIOSD9uerlzspmRL5znPeRaRMzBHkbJQIC883f/+9/f95S9/2aUNpui9733vu9/9blVVCFhaw4ZfAeia17zmBmOyrstJe9wZw16b5ze+8Y1Tr8Wxc49dxeOi73Wve3GbLm0A68amfVI6ZVvfwk+ZwAnwTE6+jxgcYWOVu6cHSu46F2IrrO7CU7hTkHIlAySTh1QpO5emoXC7Frlgl1qvu5NV2oc/Eg4Zs4QyUpml4dh0hAzoFZs64ogjysyb5dtZ8ey4Ki8XxtZiPg4qXPWqVyWFjVFgCa4doD2FjdN0vFrcWWsxpcWlehMxdwOKu2Y7NplxezGQIQh+W+38AQ94wA9+8AOxlgNPPI2XqSgB3v72t8/ORWmIs9yFcmamfZuL+dve9rYoUwUa/MwBBxyAt8vq9kXMqRlO8d75zndOUjybfGfhNsZRj70roWzrg2BIdzdPMr973OMeTKt7O48FymQXwiEiTdGlIiHO9m1MyJxan6ae2BXleFB2de6nfOQjH5kEhD4sq/GP55KRA3rFLtxtr26/6sS6zKTXbj4gbIwCCwAqlyLBJJVYFd8WbvDWpHoTxaS+FbYjseuiIfO7wx3uoJ8B5lUy+vCHP+x25MYXxhKHqRvIfMUrXuF+VEnR1NDWPtEe77vf/a5spgQlMWpuv2RItj/60Y86HSdxz56qsWGOemzaR7QhXbsrt7e7Dk5FQSFU6aKiJH7m9N6rK3aaDrJP4LDi+O4ABiMmgdDFPAe7VOV8eWlMgykqdoIwjKRVoAEZKA0gEyuCGWM0uuTn1eBPd92gyEQjx5BQjTELRYFqdQnM17zmNW6vWHQgp4eAAV0yA7EVJVIxwc9AqUtphd6kn6EGZNRFqZwCfhA+hm8G44bPJJhBbAm/bJtY/uxtW8Jn0iWoAjJpQMzaBqAHAtzwBATfvfCj07BkRZDTpdeAI4880jkQoAZUYmCVRb+0NaneRKnRatro49yV7VOFCXE4mS0LKXVb3V3OJ1mZJCxqDCBQgFPyVPsSuAF8yKSrMdKYnKtt8LDbCZhhidrlctGGzwc/+EE7bW5zEvLlrMB/eNFyfNmOub2evxwGuJFjkClnRXtFenMKNsIEZ6yVnd0GgMlwiPlUbFxxAJhrYRo1G8AzFM93F/OyB5K9ZOrEAfCTxnJW2S7J1O5VvLE3LpXQnZxwDkyNx807BykUJMsSgrtRt7nNbeIGfyJhVZsqB7yYmYrgxS9+cT22aAjQyGEacbdRJwhAJWTCU2WUaHpwBs277rqrW67uH42stQLokQLTbQp/8pOfWOgSl7gETC52sYuVZX/4qPP59lCSMRZ1SNYdBLx2xw3aJardNhpxxrHWmA5JzDGxQpJaoMVIKP3yl788y1nOAhPleiRXlkO09gSYZjvliU7IuysB+A1veEO3zyAQXKVDbqAb7OqXvvSlq13tas5Zxk5Lp7moAAThqHYcM2rIXfy7PTgQFAHyxz/+EarSejf3bUcMpgOHHXaYG5GGwdNOwBE06xqQNSoIYCBfTO2Ur2OiuViKnJCIIyBYdMlLXhITaFfFroAAAWSiGpdoDseHD1e4whXANKXiW5eQ6KEGcEYRaG76nPrUp8YNi9qopKbFSNjSBCuS0W9/+9tzn/vcZIQuBHaBG4zAUE50hXJSrYQ5oFcAGmYVRJmLkG984xuilzbNpOSuQpvOY5dVgCW+EodAlXwpnsfMiZiM2E6KIAYHBERhVx7JdSlNA7GM6/znPz/41i1vHhljFXI0Bi2OTPn5mc985n3vex88r3Od67gBHZyhkM7+OuNrOR9jzEICJlenPkoSlqyNXUtG0ZyTwzC5BUbNQB73uMd5qoCvLn2CSCEqhQbyJ1/4whcMU3RhYt/61reU/RAotLEaDToMFEvhW/gix1eca+JqHGJJHQaEuYHDZBjvpS99aTbFRaTR0QGWQvnBAZP31uYhPRRo0etd73qMNJ1hsjdcIlvmc3bccUeWyFpZYngSyPC0nLzIa1GdfE7MRWBpsDqRD0kxlw3CH2IOpit8OnWTyw00BCnMhLyFvLjjHOc4BxP24SqTsWjEKHzwzSH4Cf9gJsh8yHC1j+sw1yq+f/7zn5/tbGeDXtBbIgYsiaDUMJECUQ4oYzWSK/hwEIbgjDNkRzrvec97jFfrhTmYuBcSQYJQAqbnDQy43e1uB2AsGr7aJZI1jNxJim4k1SVuVdvqJuKY2ARtvtTczDHQG4qHRXQA/OCVs2Q+CZ/bBEGQ0ml6LgF5pGGXq9TjnOc8Z4aknGuwdUPxjLQixcO9UDz6w1eDmTowNu2jW9e//vWhCzmwHD982MMeJslIDSYJwktcLWx54z2NbDycPKLIJvV7SNYw8gid1iYANgZLQFRB40lG/bgpltBdeIsuVFmFCVM8JuJYBg7mcr0NYCFw6KGHYpxnjS972ct6C4ZkxWDy9sA5lxETLf2mN70pbRWNb33rW5EGW/waSPsMINFXv/rV9J6iCL1uejpQQuSPfOQj4/0vsYS0Q23sHe94B01ih/hpJJ6wcMw0MshhdXK1sFhJABNiD45OIiS4BH9reW6L88IT0F760pd6SpTqO/NhXW4IEGcIaDb00OgSrlIRp/s9JR5xupdj0YntBx98MMvZa6+9+DXregmCRB9dXtPDA7J2OYpGaKqrkOc6Zbq8jOVInNRQgRYkQCn0hCAcAXaTwkIYSyKyVY7YVQ80kGm6MEsYiQRALIQJfr7hDW9AOzG97GUvY94e3OMCStXvJQo38MpcVuHRIo9HuAuJ8xCztO+EQMFoC7azqytd6UqMBAIYbq373Oc+UpzUWAsxQjdcaBSS4c9cYUWr2cXNbnazGDlJr5gDbcE0721BDjHB4VOf+pTx2pgAAc4uzYdESDDTPtPlYbSOO8ABefNXv/rVYKPVJWdQMqaEQP0UOTLts4rlPO1IWBw6cl7+8pejlAgYFy3SQ+7g45VUW25KRVFnGP7Ak4DQ65izUIRRuOEFB/gAVRSZpZPgqJ/vXrksX2cq0vKRNp8U8Tl8FOVk4yrN1JL26qH/gTCFZLzRNoaR+mZ39J9j4b6YyS1veUtKK2xzqnTbVX6M/xdrDADBKrHZZizOrdrzmGWMq44Piln8qphF4QEXDig/hyP8eXcS/+yhk1grTEZc4EXLxIWTZJtQuvGNb2w5kchPHsAH5vC5+c1vzo6OPvrooMu6cGBuwiKfbN1S8cCRICoKMkP4xKJW5BkAH5YjK0Y1z8/fRpD6wAc+ABQnyQHiJGRAsAROwpNHhYwe7ii8OkyQXFJXrUhGJMWvGqNOcd7znjcevpameEmI4B7jLUEiWAd/mAisPD/nTFJGipgwtJaf/BjB4SHOIxPJPCHmk5EpYgTmxwBjPPsCsmd9YgAPKS6Aw/PzbIoyWITJphxyyCGojiBesrcixypo55ytte+++4poUBKRrUs3JEgCgaiXisepQgPfQvGiNmR1PjYyJSKAf6Z9gRh14nsjJJEOici1SMSR1gg0qMYuiidkII0b58OdtykVD3u9IOx/RdN9p8ukHgUqbA3BI15wuvvd707//va3v3Wn/OMf/xDSbL+Ix2Bay5AMM5hZ2vp4o1jM0pAMRexhJ1aJfkUm6Y5gA04MdsmKZGAwChNCd3U9rmIQFbScjV2MgRU9joxTApRrxVXv5rEibG0iR74mTXJDQgJtLiHftyIgVpEbBWS0PPrRj6ZSGHL88cdHpxd9MW/85FaEcLjpV7ZBGtyCITTP87AUSHxl3mI8I8nXI/lJkHAGnAKFa0A4aNTCd4gGXSI6bfbR8DMQ8G0MOQrM+d4+aBiDyXKXlCwXAx/wSSrmYp1NMDK94FA1MQFqIPZ1r3sdhC1nAAnGm8xA1g8IduW7zSwhayQmfEAXngQoWyJGHt5Wnkox8MHIo446Cr1whiFtTAxLBMo2bphFoAbbWcYl7xQkHbiBnzrgqlWsxf5DFgbbZSLESC64VFqzAMQinAk9VERk5EayN0iWOAzolbkUkinSDc4iZ+mXEBNEuP7qKuao8vLC1C9WxzemYXVqAE9w9MsFJeuR6hExLxDwXbLlMJ02ElYMxiUixlW6Z5evE2/Bp3ukAzIeuuQnk/chxLBEfjPAUmyv7zJSfjzSfGLicny39/ZtihzZnSBHFSmeD/1nmMJ82EUXJckKPeeaXvjCF8ZVI4UYb5+N7b2AJTnwk5/R5mrCoFgxJ+muMQjhHyi8MRwX4wJNJ+/Nsnjj8N5Mj/dgxWxcohNxgTUFwFgd/jykTjhHj/QubJZb4N6lFHpcYo+wQiM8IRyD81t45VolgpySioZtLUy463Ch8EnXnVOqBgW2nCjDaWSM4ArQCCxWJOE5UdTjFsIVZ+dAA39Agz92acdI+SL/Jn156EMfGv6cRIIJvF+yJTqRYzk0irOm88/cNcdLCj4aggiOGeAnPvDqBsRPPaJVDJA7+klzABG/ZO2ePc0gLnDHbgEC5Vv0FNvECCKgBpywufgTPRge5PimJ8jhBjPM6eRgCYjilSP1o4u3lMkZD7IB+B+gII8EIUkozEiHZBqOCUIYP2y6wZgp6HjlXCieAgEdTsWjYCDTMeMD8sniz8hveOAaIYESH9pAF0vySlBwIkssQHCkfWwDchFsYiT2RRlDvKSpOR2KbLjiEeORJFma/JIROaVs4I7UhxLLk8p+KGErQ2VUsq7yEl0Pu5JOjYlbRM6ScV90TDiwotkwZCopFekO4cnhqgwJPyNXYDxykQSCnyEqUoQ/plE40IzRZp8RX1FBtETOAZE67mnzI1CSBJT8ocd2BrBicqWwummfWeF0IJYQMDM6bWICSZizHADlHxVRMcAqoceZ9jEqVoSiVL4YaRUqwQjpVWafLuknIEsgU7YRuYh+xAbTkJnuKUB1vxFuUc4i3EQMACFslVDkbdFpLSqBKFdLOJKn2HtxBMk6fKPSLLkcyX8JEhDG/LJ/QK9oI25YF41l2pfTYcURlGkftnBSTCMMKkaCAyUqZ3XpHSVJCBwK+D6Z9rE+DKQPlCqHUSqOz3QCKs2QcCNcMU8bklQJbGFcxnMIAQTYqNOTu6sJeYs0MJDcSyXZIoRvOplMm+IxE9roIyJypxxj7uhKDO1SWH03+rJ6j6Ca7pIoQJmZrZxDihbRSkTgPCVGpXHZm0Xw4mTSQYWjA4rPZEo5nosOCy0zTlYP4XSSUGXLEBA02Zcpfgb+TE9CCSw09JdEaUfa5ypQZSiBAN+iXzJUTal+So+4L0Gz4lsGI5Smt4y5eBJpn+y2gtb7U+LIbcpaMuczTMAScAPz4CHO21VyWfalFRwQuD6DpTXpi9AYnRx10A6mNDfTOOyKtEEIjmAdA6IuI6jBqszFLSrxgADRKDckDt20j6OLdKhMVNSbeFERrXSDMI/OjKEJNhr8M1BmZdpHh8mOrw4NzPHYHrFV9omQ7JdKRZgmKeSk4tkkAItpufT/bpJ0jfnA2z0diQjdCg12HOGpT33q3e52N3VIdcsKCK45HUWDs1/Pfvvth6HRo+bJBpRAGZvbfJGauKR0TI8NVvVVEVU49VEfppc+BpiiuJpgq4ZCrmq8W40y3FCpHACm0A6sir0llHnz0qoallBLRzVN8sm52EJOknSeKExC2ZbIldyJKiJlDuaA3G6GkrtpbmIq1cYlQgo5yaqxOlyA6GshbZ9gIGWV/mKdn8yVEljd7V0rqoqDlnwzJfQevarBXUklSpBhPATtLmSIOC7p1+Bhlaxz8EAD/tDLAQTtHrTbMcRBKNmvYRXnb7AihO52ZF6NRUkcE0LuLiGW43PJeFzNwd0GDsSizieUi4LgpIFqpew5bisojFMG4913wM8SlHTnpje9qR43gELJYSgBYpC4BIdkMtcTHhaZU+tVubS2JXCylBcc6DbFiGwsxuMGBVCNk84yIuJOOBgbupQ9INAByglsIk+sKDUGdW5DkFdCjoarVkyVoE7BUiLIwbnE1myUYtqaHNgUqpmw3ZGshYOl+aTAnTpm6i4YS+yiFF6l6jfRoTqd7MURaobMagCUx2vT8LiJ7IgIS0mrMSYSjjiAngoQS9iXsso0Rnj6WEJeFSNFNBmJtvExxVUNt/M4TxGKJerJT47JnqrBPN0SjdgflziKsFNbdwCr8fnTvVRBCl1IDieWl2Di9qWfnIazWFMbu6ik/IFk3r70sRgoJRA09UcK5Y6nhcTKSKkTEw3ikGFr8IFygLgE4ZPYty1yRSzGZ5ExHJoxBpCCASeF6m3BOgaII+6iqiVxs5aDW0rWAEgSjXvHMI+Fut8gQxKHg8nlANEkbiVnJwSy3W1QvJIt0htlBSLrhiQyjZAkw3FXVypSQePbJQOpeHCrFO8/4aGaOeknOsVgvPPSQvkpwuiBtfHLfsKlamJFqp8Zv40ExOk9eIso8qRElACQBCbrtaKRYRtG+hAnIITBrqrl4ieU7ABMwUqfaoyIRVSUxv14fqErsGp870/A1WmYmXOmFY2wkvubFVKUAYSCXvSiF82oGTBNpMSkyGvYpqA3nEiuKEGppuSlgF9FdMxxQ0GizAnS5mCab4MpEC3HYXE9+ktQ2TaAD3W8wNI66a64Dv9IsPzE21I7c+Jwg6/k4IxBYJX76sQBfOB67CJoFCMsoeGST9lzhjOcAVtgQgcinS2vZhsfbHos1x3DfdBhxAYtkaiBmZ4igeikLVDCN9sm21BqwxdQUQeJTE8ma/gJghWxazq9ynWjURGuExuJ0iqV6DGW4AKHEsg25v0X91BB0zhWrHbVlBhPuDTET5UP7Urx0jYTsTBkia9P18pKHLZIuyusLUL45pKJ7VTRLs6Gx6Nmiu5cLocjM2CGKhxlGgTVVPhetJlV179FQOFPFCnUCwNI2I5OVsNY+IcKYGUyfobrgxUTFte4a3iapVFiBSCHw7mVnbFotUT1E0qQr/QwDLlaopooAMmVdcpru2hHZoOrSmV3vvOdpzN20yWO8o8yAbCi5VRJ3GrAeW0kc3G4yml3/TYGyon5Lu7Xqb5SsuZGzKpIi5/AYgueV8wRcUQ38nVAMzxq8By74CkNNYW3LEsYJXxeV3JmcGQp0DZYNCFfC/mOdROHcm7VrhCDFY6RHWWoLulEeIQkBWmaH6snwEqCpofiwS0Ub9VpH9Cg4IjSAjMTaWyDBAlYqkmK3z65vEYwsezJtnxW4shaSNd/JiiDPeRclT8ZQOewNWclCyracoCG8aHExuT4HKDHkwpkTEhCePavqmEJ0i2FmtPBL/WPkUtoXO1FmMDIldUZg+oEMl0DPgRBWZ1alaD08g16vZjkipD34Y9YKWhKxy4FG31HIwcPNMqRNIRADe6ViE6yVqdkzF3vObDE8KVQy20o/1feY5bO0lQwn0nwmL2coZlUFGLsEEshaY8ocRQDaHsvk3vhDGM78iqJoKvkbUzU0w1XvTBjq+ZFmw5g5NxSk4Eaj/+AgfeuvsSdjRWbKFxKKzY7csAwnQlRMWKYMgNRySa8zFS6trMi2tIC3h4Qtx0da+k1eWBXC5nBRj7BN/I/VZbDBqtgOgZ+VwlzVja69EoxfQzoNXwBBSa8H78XeWoXwoo94JvOz3fRkMf4JAQOKqjoRUa4hA8n7P5mThnZ6DJHdObY1RopCT8fA2CokXj2ohErGgMZbeKDNueslAsmcjAqIeTgkXgaJiSBMykkUUUJdIQkyjkSLKJ8DJ4m7Ys1kESEjEoK6LEXluDmkTQcNgNsSvwwxbZMEVv6JdGOk6d5VQNAY3yDNgZgORdt1EKPRGpYTYML5dzx7cjSKtF2p0MgBKMo0rtcQFgRThdyb48lLCczmIJvARAESbOaP81zq9e9EqAUdJl974qTOpNYpJEjwzBSqg23SVP056yBMSMvAYX5ZXo3aaLDE3Ep1GbSsBK3kP7UTJ60xIr9KILGai2iAguCkh7fNCutq+BvzZ+NmZsud3bhNqUKn9tE7iPBx2bSQRpxPaVTWvGqEOa4fGZo8lyTV7q45cXTwtMBmCg4KUYIFifdjyzeMwDV6TDPWdnoUs2rcNFY1OsA9ft0Z62qJ4LgGDiBg/GCRe8SgKBlgJzeWb2dASSceZl69g7u7aQSzv84Sghhr6dwwNeNStLsotft6QUYnRGSTOmViDHByVXBzOVGyVLA9ooQFamclg1FTg85xzEjGHgAJziYAyY15Ijxsl83odWNu2EMVYzBFmEShIF+c2N7h2WTuGY6MStrDcAZvmQV1uLE6/AwS4QxGxmq3zteXj+d2lXQYMVlOM1a9Y/8SYi01nsB5Hm+nZy1BwVz5PRyWM4Ck3yjmmsHM8mYzcWotUikXD3bFGDFCuKZznQm2HJ8VK7XkIIWG7skyt2BSGRzoY1sSMEHdGkMJjL7XkrHzG1jejnQ+NnLlnXqZKpO7vYGCEcgnEGPJ7FEZednSmNJE14tYjwJq1/trOHxwp8M1YEQz3a84AUvUFPkfrX1ODRV3VucGvPAYWA6rxvRxyNc3OAknA3rRupJg3v7I6PtvZSdcRdYIjHJb0dAGbOfT5jDDdXWgag0MJd2SWPUrTTcYXO/VRyf5AcG+N9dIkISUJNCUkzBhCkkMjacOyjmqEQvPVQzjnzCA/G9YyqqyN4NMvRQbq+TKZU7dA4lNExSxWJ780jZg8piBTZ/mh4HPzmFXr8QI0VxCOSs1TZCOxlqry/gaFwCU7oTq9Ct0vvkcsExVfSZZDzUDmRL996/hoCNSC8agQ/GUl/Fagds7TVDpcbINMnJRs6i7vI550xdInRL5JiyYbxk3Uai7FxL27pkRKPi3GQXFNVCqX4CsjS2eEiqO0xP0OL+AueIJz5igLci9XLSvQy+uxfO2jtD6+hSYF4BhKf+XpPJkaEhIMRBiOzPBsvaxIw20Vi4xqrc+sJRN28IU3UPFyq09CKmcrbPPvvEJXGkHBO2XPas2CZZzpknUdfodV+W4FcHEqZJSwjbTrZ5EZ1U1V7d8/ieA/VYRhxJrDRqCszLdQem87q29wbwCQNUQDK8Rwl2ZBsDRQGOhch63aZIbTeLZHcRuVnFi97AGssB5bHFkUsPDItkV37JmfcSzk9WD9aU0FwSLoUDT7WuWB8Z4H8JM9rumsocMMrjwL0To5OeBwldCAM9o9I+6ZGg6Ohib8GPnCIUWUYCVyFRKa4xLMR7OoQWI91AVJMv8XO/WGbAGCJLcHCwG5wk5qqPhpUTyzbIiuc0g4lKgCpx4pf3j+gUxcszoSBsv/32JZyBNknbTaIOfEhWeuynw8VxRkE+Fzmoo3Ld+6QSZZYA2h577BEVyoFFV7wETlBEHbtpMZI9fQzhXjUK4B4oljdgYMp0xUUnDUjRW47NK4DrkRKBXyHgJ5t3lcGH3CfBjP6EPDzMojJXY7BC8bJalBZ5K3Ukx/FgjZH41k2XjeSD6CSlwmGcoTkGizpdgZIm5az2qeP1apgiV91253kpvwhRpXcIVP9YMeOMg60geLCuMg3wTffMR6XPK2JVDRgpoGrWov+sFGzRyZlz/AVFhsAGezf27DSOsaPCO4G7CtntGaAXNEfMDWAd7lNVIxmLmghvX/WP+UlnpEH8rVPsynuKIB4UkwhKsCw6BkI1ZoCugUscWjje3iAlZHNokPRfD5Kr1h0AWGHlp8wSURoOd3UTCT0iZjg0kULKoe2deZWLM11MFzTlWJ6S7q6y2h4ZiwBNCh6CrJw2UFRLcJ+0ByZ3738wC7ZizYpLY9d4jmVI8vhgNyRhi7pDRNUVE/HuoqPSPvrnPSzSYarZZQEMPDaLZuGQwEr6cbOq/+lxzJaAxRu3hhVFJWfJL8HVOU3cpFuq3/rl+16DJxi7pJ/+kYRo7XnV7lPDCQfCDvaGWnjetlIycmK9ROWVMWJ5zoKbV93kz+EGG/Ccf2inF+34jwVkAz3cAN9/JvVKJyTgOLbEa9ZlD54CQ0VCtqKkVh4G26A3L0WjK7BqQPUT4VITIsAuL2yjspTDiqSg4bALCTpGCflJ8L2ixWCfVDVIytWqPS7EAgiSgyJTLJr4mKUnf0KMvOK2i2MQlaeWgtAKlqzEWOrDJCStCH4Cn9QgXDv+yP49mxzZGIQJworPec5zvCYqlITlkxG+kR2mlQApKldID733R1bqEv8VhMhf3aAhQQChRPQYRRnsz0ppQnVAr8AfoCUpTU0gPq7KrFe96lUeqJJ3WhdRDNMhIaUC+6jSBkEwuKQIyVHa9EZ+iopkkjIMFQ7Ciz3+7UfckS9nJQLRWclXZ6kSIXrr0roSyHK3KxYtN7GbTh27psb2saIJ1a3w4a88dqqTtZYej9fii2hvTqGipYH0CtFaWUdwnN3eOP0qu2OJUhn+DeQKjepn6RLjkkjkARSeisVZRUARxXvhQOyUpzylb0ACDiqsXnqPsMqyxypBke+qv8TN6v5bCX6iy6nukiFmcXSSWgRWNRrDBmCW8LX52HCbHKY3tkgnrMVxiRrgc5sCZThYwzw3Y4qMR+gv4ZCaZ1c5K9W1FX1UOTGZUHZqu88TCb2FOHO1Pe4UfN98PgfrxTceXY1ZgASc+GlYpBak4JOdfDI8y5EuUTw9OAZyjAwVirZv0IKZMRFiJEIxIvXMYRqAZEiKilJ5VbtaGthQmBy2gprmOApBI5XiQIyKdKgmXIUKkZLKOqIXxZWcpeE50KDHt5+SCXEFJYqTtjVx91M/ShiqwOwSBlF9/1BPhYZysDECkCNKPb3mkYpQFBIqbw2XK0abTvh3NKDJJ+wIrUWrXMJ0tUZR3zvbBPJyIhWM4o0GfMpLvW3aYFvmQIbAaS2Jv0qbidQal2WriWG8nuZZz3qWxMuGKd0QpVHMV841nVXkKhAIOVGm4Fte0tATqoMPlThJx/uKxH4HDqDhzIGEUjGc4L2aEhuVVylKqgUIoME5ddHj8VTNuopJPCa5swRv6QyGgEDcNIGgJQeQoX96/LQcDmcujgSDA9uYS9akgFfG44P39YBjAO33FBU7cTWn64dz0F6Rqb9SKoN7P1SU+/AOF/kQVnt2FTcoHtyk2nIjHjwzpHhLu/Qd4fwOinDJWjQwXgmWKmRP4rV/9IorVF3zDax/leiFvVFJ9bhfKFtgZbkBvYJYUGpYlwpZONEwhxQ0z0istAvHnv70p7MRvpjJgMO4KFK4zgQlEwXBgIRAb5mquazDESjaQuiIteNiXERAXVNDyA56oFGJaARkMIMoA3x08gD+N5EGhVFexXwNcGztYsrSf5f8WXpi54FAEYFis2Kcp9J5l40pKb8xDa7MAeUoMgXCylrcDs2n9szWSFoaR7LiED1vk84waaTMgoUKgkgnFxEBzfWuE28MZv6iiTdRxB0AU9IieLaEoOEnYywHWJ134kk0JKmcbfgczkSba4K5uBDG6JvrRq/lIC/AgQbbePN8uErf8eKFXBcygQZ3EWPyUtXgKu1Xn/e854kdbj3ZHFoLYzl2/pnb5FuEqnIWTIA1psuxcli0sZ3bxD0hg2gcDONnhEhxn9vkb+N18QbzJPJC1CmsyqdxgGT1w1/gwC4jPTkRGYh+OCDT1cy9YsX8DtqN6Q6AgAxSzmc56TtM7Nj9D3rOHKpEwJnTogCVzORLLcct77bbbvITnlA9RSdWcKGKlHDT1iAmsUBiQD0EDi46FM90muPfh2TyGtK0UMAhbu/icOjIriZDUoAVkvzfDkFKSKInSSb0LOpn+OpQGz8pSfrqGLD9E57whJw20JDzWsztIc8l4BHJAaQho1JV8iZx73NhYEkDPcA1RqK+hYOIZCHUSARV7IGfV6+hwRt6aIA8QCemUzipBl6c9rSnxXovulOPcciUZuCgkUpo5OSfOtDL4Rtn2223nf+IrHBtdfCxLwQpTkNeTollpz71qYNkasHqXLLRgXnkGRoEwLNMYgtyIs6Jl4BjiK0bvbngBS/ohe8whEPMtUvbddddSZ1N0hJEEb8SqbtsZIMcBhAjrQhbQvXNF3gtuB5vLad/lI/M7HX8K1ivC4YkPxVIwgS7AgKbISZzg28s2UJMBbu8Hl05DdXgOEfCMzIqyZlaFDiQBEeOqIcrdB9c8MYWg5krBNz7Y+cuITCyIvQaRjEcnkOIx+WIlUslVvapIkvQMnV88DGLQDky5NujYxftNFFOBhn5qET85Cc/eVDBVTlUQN1BAwEO4Pu/4PplZrYHGE7rkKmT1k1SBq9gpQOGkRF2QR4VMiTiwHa+DGKxopGyH9yT4+KYhfABCdCjk9Kscl+lx8ez+uwCB1DBfdMxkYBBuQ8bYAf0yj8gJxpHZlkErmKUFVGEJyD7SZGcFsJGHCAgOoBGKsR7SriJgyWGIpERETgCTL5qluENWRxCwGdTcUwbE0AwzCdSQ0qIBNzgXomMDvCnrDh0Cc8lnbgt2rmE4SCDgOFOODmbi5PwBBax7qOZRbVoGrAGaBAcWy4z4GD1Un6zU9rCKpHMCpaSxnkjioWKsqo1Iigr0GbmnBKbUqFg0V5RJKiX4mA+ZtFPRkHtTbRrYlzMhP/nbz3h7sPiqDojTZKFJJ7EJdYqHjEu8cii+q2iMMN5MgdJkrIC06APlIHJhHNmX1ASMf1PBdakX3ji0jkl8QgaQhvMTfQtRvB+nDyXYrccSQ8rQxEIaLSKYYyXy4UATHhyKHEgAALO6PhzfkywYL8WRRqiGC87TaeX1Gkw3tjz88Y8P3fEw2ARF8Qr+schIlqM5xngQNvxORbltdDOHXFQ8CnBlm1eQhTAPcznT5DsBreGjFPETEcBPdkML8q3QICwcJK3xBCUuqPIdcfguDnjCRhX0Q6ByDQIDtstbS2zYkBgGL40+BO4yWVFEKBgxdmSqVV4RQ6fMxdMDSMyqEoPfEKy4pGPt/Za2iwSxDTcAE12IYejZsTnklhjGCUU8kLxKINL8jaqSzSkyVFLBnAVb8HHAeOxi0TIBVh8wCgwBRo4QFhIijol9JAGAYoHScocikcByJpGSUmlTyCjglaLL9tZNYgf/hYvQYxqp7Y1RLtIKlHFcmCQSTFQUEekj8gXkOkiXP2MHkjA1XdcDSb6xjWpMT2LfjZGvykicVJ6cZowclcXY4a/QRBBsZs6gs/sQWDAuYTp1IuYiUojodE8DMo9XPZXDSwGnzWSSqRNuGGitaqR6CVg2TD1IlS0M2l8Q3KORCZo+GZwQMA30GRLNNUUEPDfsLjqWx4MjjEJRIPRirtACb2wkm+hGpAwBnCoI1CGxSxwwDcANGGb3gv5FA7DCR0rLCrZkrsT917b/tk5EVMJCQc9kyzGzcdYGjPBNyCA2xURGQQCZ9TxdFQ53LF1McFCKI3xvimJMTCJKdCGmGQF4VbE8xjpKlGSUTk3gWSDSYOG81ClBuAwuXKflCPhHCMtIbXSDzj0qG6OyQYyMRmjCEsuhYQYGTgbNkmvcIPIaCYIKQLjKSesIidzlZFDI2wETIzCQ98BWZCjdcwQ7dwKimyLkw9QCtdTQQA8CEcp5BErHpglCLmEhKDaEqEkmMZZBEXkSEN8IEZ5yCKGMXzbACzSYzzloXX8O5Wg28kNg5f4g892kqQmFkacXmJi54Q0ysbFKbxRUSGJNdmGMSj6LF7yw1Sa0lbY8ip2vJywgMK5CTekRp9ZROiqbzbCQkvPHECkEeKRwTwJ98gWmKSR6VcZHZsKUOCwJg4EHOhxoawSHJbFiq3rm2tyJxH+HDjM4Rb2bljYL2crnIfNusTqJYVyO/UIhDNYTkanwTmRG+GIfMOTqUa/b8jAdjh6whBLkYCTEaR4FdBKlQYKH5AD+VxUPOUB4GPdiuHVT2ICX95jLfkZPoCfbqccLMEwkpcjUB+iJFCfzDQYHR2ATM4CB6rkEnI3AATBKL2QfgPgWSYApuMVfyjTRRGsDIAVAcVEAiVBkSucnvGmg4M5OuVkMk45Flp4QsogMsrtJF5qhzxzAIEGxbOEGKSYaiQgmBCunvSTmdYV14Q8C1maRJBpQHAJdRYqQ5KJFMAwymAtHyN7FU9ebu7YtA+18IMliFDxE0N9o5CYQ+n1r9MH5Qgj+KkXAgH+kAcBnJnjGfwBv1Km7kLQMDjJCX52h82kZzxW1XLQw7GK4YE2BibOhkVnKkYFZ9LPgO87OJYAJ42fSX9oUaw4DJCMDDYGsT4Dg4MQAypeDUyZ4aWQL4Cr5X/isHYICSobAXNqlBLOYjX4Q3fBON+W9m2Y4NJIw4H4abtI/eiezGDAcsNsp7bZ8Z5kmBUCuTNCcjgbBpEe2LLuoC3YxwklGV6CigiCuvUIZLFKOsBg0Xr456B0DBXYAh+IEev6kRyEj8cqxaERHq+khYLpxLdKCadWvFIi+FCuPkV7bAIE+5IA7dh/TLHkFFPWTufaIQyjvY09Q/lBTqe46627udZ4rHJKNOhrd5dcKkAOm46xvfArHGb+czyqBNS7++yitCmEJBpTy3eGEBJUNtaOVYJarAafvlgILzq2lUX7WfVMInCNZjtylUmrR7+0wANVDkE57B73aoCtSmV63J6rHO+2ADI2cA/jMOnqeAc4CcKK/d34MmnKTLg9CXjVPx6rcmLX41GwXrSnVrzZSmR9tadkTWs3DjQONA4sMQf49CWmrpE2Ww4oTDpzpryk0QtZXuiGskTEndneAa2zcWA6DrS0bzq+tVmNA40DjQP/xYFW7fsvdrQfgxywSVDbczLMyxzcx3SYzFkxRR3Znpu/Tgs4seehDY/tj7zzMLhau9g48B8OtLTvP7xorcaBxoHGgak50Kp9U7NuC050+tDDmP7Hg0cWPB7hPq8nPyLtc05UqufIf/X2mS3IpUbyenCgpX3rwdUGs3GgcWDLcaBV+7acyNdAsAzPU7qOyHsy1xugPBXrMV4HwjyA6R8ByPk8yzndUbM1INWmbgkOtLRvS4i5Edk40Diw3hxo1b715vCSwfcogPTOG0niAWTbBrmgVE+pT2PJiG3kzA8Hmm7NjywaJo0DjQMLzIFW7Vtg4W0e6ip8Ppu3flt5y3GgPXq25UTeCG4caBxYDw60at96cLXBbBxoHJgtB1raN1t+NmiNA40DW5QDrdq3RQXfyG4cWCgOtLRvocTVkG0caByYVw60at+8Sqbh1TjQOPAfDrS07z+8aK3GgcaBxoGpOdCqfVOzrk1sHGgc2DAOtLRvw1jdFmocaBxYZg60at8yS7fR1jiwLBxoad+ySLLR0TjQOLCpHGjVvk1lf1u8caBxYBQHWto3ik1tUONA40DjwDAHWrVvmD/tauNA48A8cKClffMghYZD40DjwMJzoFX7Fl6EjYDGgS3AgZb2bQEhNxIbBxoH1p8Drdq3/jxuKzQONA6slQMt7VsrB9v8xoHGgcYBHGjVvqYGjQONA/PPgZb2zb+MGoaNA40DC8CBVu1bACE1FBsHtjwHWtq35VWgMaBxoHFgFhxo1b5ZcLHBaBxoHFhfDrS0b33526A3DjQObBEOtGrfFhF0I7NxYKE50NK+hRZfQ75xoHFgXjjQqn3zIomGR+NA48BkDrS0bzJv2pXGgcaBxoHRHGjVvtGsagMbBxoHNo0DO/z973/ftMXbwo0DjQONA4vPAQnfP7d9FPx4VN9+LT5ZjYLGgcaBJeTADocccggnxW2178aBxoHGgcaB6Tjw5z//+Wtf+9pf/vKXww8//IxnPKNYMR2cNqtxoHGgcWBdObDdxS9+8SXMZhtJjQONA40DG8gB5b0//OEPpznNaU53utNx2Ru4cluqcaBxoHFgFRzY7qijjlrF8Da0caBxoHGgcaDDgT/96U+HHnrob37zm/3222+nnXZqmV+HQ62jcaBxYC44sMM1r3nNuUCkIdE40DjQOLCwHJD2vfWtb/V95Stf+XznO9/C0tEQbxxoHFhyDrQneZdcwI28xoHGgQ3ggPJeq/BtAJ/bEo0DjQNr5EBL+9bIwDa9caBxoHHgJA60F7g0PWgcaByYfw60tG/+ZdQwbBxoHFgADrRq3wIIqaHYOLDlOdDSvi2vAo0BjQONA7PgQKv2zYKLDUbjQOPA+nJgFWmfNxT8+Mc/9nqqVWEULy9d1ZRNGewRvM985jNOZHdX9y6u4447bor3Wtv9TzGrRACEn/70p3ArOwfav/rVr6C6rFUHL8jAjVW9CHftIhjg9gwvIcpb3775zW92qUMCBRivA6vCynLdFcdD+Otf/zreJ1hoVco8Ho05Gbmsdjcn7G1oNA40DsyEAzusCIUvE43e8IY3+LadlRid5zznuelNb7rnnnue6lSnmjTdLPnHEUcc8fOf//xRj3pUvL900uBN75ecPeIRj/jYxz52k5vc5ElPelK8eUug/eIXv/i5z33uk5/85GUucxlUnPnMZx6DKtp9jj322De96U1nOctZHvzgB09RBvjhD3/4zne+0+t1znrWs0p3Tn/609/pTne64hWv2Mvz3/3ud+9///vf85737LDDDoIrcm5+85vvvffeZo1BeM7HSLvf+973vu9978MHjEXgFa5whdve9rYXutCFJjE2hpGdhyuvdKUrGTznNEL1QQ96ENKe+cxnsix0EeK3v/1tGkgHmNI97nGPW93qVrOiAn/s3z74wQ9+5CMfoVcePl0VZHgec8wxeAtDRmGzscsuu9zhDne4yEUuQgO7oL7//e9T5o9//OOUma6aYrBFT3GKU3QHL27PJG1cXIoa5uvKATb49re//Stf+Qp7zIXCgu5yl7tUr9RVleDkTzjhhBhM2Xbcccf9999ftMq5rdE4MIoD/x78/OMf/3jb294m27jrXe/66U9/+nvf+x7fLYh6Q8HjH//43/72t93Zf/vb3370ox+96EUv4ta9vNQLYn796193h81Vz9e//vULXOAC+CW9O/roo+GG0kc/+tG3uMUtInMScX/5y1+uiPO//vUvZgnaYx/72Itd7GLIv/e9761zxYnVADhI2q561atKHDHzq1/9qtwRQCnpH//4x2qwxPr+978/H/HsZz/7O9s+z33ucw2++93vjopq8ML9xPaHPvSh5PLiF7/4G9/4xre+9S0NPzHnAx/4QJe3eo4//vjPfvaz973vfe1P7Dee8YxnzDnVrEy2F+Z64IEHUiFGxO6QcLnLXY5/R8VLX/rSmVBhLWZrh3Czm91M+sWQ5dOrgozD1JIIWAdvQD993+AGN7j85S9vcwh+Be3zn//8XnvtRV5vfvObDRbkHvjAB9LPJz/5yV1lruYu0M/f//73nKSUHY0LhHZDdRM5wJR+9rOfiZXMQbbnc/azn/2JT3wiR8cJVIgxFrZzwAEHCCs2/3y+YV0HWM1qPxsHuhw4Wber7BE+BYZMhuKSZEJSYqf+lKc8pdJOWiiKSJhufetbxy5k3tK+iKkljdqirG2TzMl3hCLR68QTT5RvXf3qVxePR6Z9Eo7Xvva1D3/4w1EdZixyV2ut+PMHP/iBoqN0E6i0at5BJ4OX9JSR1YqW0+87ZaEhKYeAZFE0WnHFuR2AEE4QITQKpYEnnrz85S9XNyIvKUWFvDTxhS98ITlSWoLDGRlVNWYTf0KegqVYExOE0BmZE/OJq3QS+TJ4muAzq7TPnkS+JWbIifHHt+w50RjT+NCHPqS2p9QqCCUhHIUe1T61yRIIX3GjG90I/q973ety8E9+8hOd/AOiSmUuJy5cm6HZaLW0b+EENw8IP+1pT4twKe3j9gdQ+tKXvsRmr3vd69oADwyb/0vh3+Yfz6XEcCjtE5+kGoKuIFERz4nbcMgIKy/Ps6tU+ZYw2d+LK9e61rXmp9qnzqHk0GswtFClLDOnoNfGXYKLClnsmGqf1EQsNNcq5zrXudRppH0Z7Soe9v6Ua6pOmah8Iv8rx3AHnIKIG/VIl0B+17vepWZjs+huXTnYGIUi4VZhZnEjq4wEyT7us5fU4RK54NLtb3/7Kq9V+wz5qn3K+eYt7WMXvSUx1FEw+VClLa985SvJd4ZpH+ZYiJ7TzCnSPnPxHOfLbQbkmY86JV9hg0QEISxiEs+sIsmramDokrhf6lKXEsZKyS5uu1X7Fld2m445w7frYymxxR3Ah8NnOAqEA2Pm/xLPYH/rLsH8o7qUGA490vGFbR/p3aUvfWkaWX4UWuQfTnPLKhy9ykvigYqFbz3xXZ5ayGGb0nBY6i1vecurX/3qEuHERPFSrUKWkD1lYyQVdmxRZAraA0LZLmH2tn/xi19IqS13tatdLe4757Ddd9/dP31ywtKA6ESR8OmwlLSvOp6lR9rnIKZ/GNVLb4Kd24aDL9I+Jywpm8yvxJOwrn3ta3ORjmN+4hOfKC9hEdr1rIrtJYT1a7MXaZB6W686odE+fr3Rxpxg5nQLOYPoRCDO3/CGNyyNRc/1r3993x/d9gkeOpJor6J9jWtcwxaxZKwiOjRKZS6vLmh7OpYuKLEN7RlygOHf8pa3FD6cmuXTHJntBc6Tc4lMWDGld8BCdPJ+nPbzn/98kWshEF4+JFdI+xyil/bZXlSUc9mRlLz73e8efrZ3410hrfKpENbzqU99SiFNKJoCpSmmJAJdZPJS1WDzkPREp+qOW2bVVYFTYgoam0GFq47VC8Nw6yasPMglLnEJYVjqLriOxwFYg1c1PqZU2K79J71CHUyUuyhhCRDJdh3SDk+GKgSWl+ah3cs95NijO8FNyvOA5BQ4IEFR2QMcVFExu4RAIqKR6CVNdwhYfMIEikr3HEysNjAm6qG0ofChzCW0BW33yn1BaWlobzAHnLWNrZGnuGydeldXFLDpctQ+dra9Y3TSw/GqOH7kpOUm9W/Dog7EBnvAyzkTwWvSxKp/EoYBf9LVCkj+HDM+IOeU5Wv0PHaXRLofxH1LQbrP4WYnRZSm2HxMSozGcDlWNFL5yid+ivTxoJ8e4cGn6vcz+oUN4V8xTI+G3ZL3SqiZy5wSggTCs7p2UWxG9IoXtcgbJEYB1ir6PT8rnqkYRWd+j6cip2RjEmdyQDaQI2TCBOZVWDUGnLhxjEauQdu3DZMMb+edd04g2ZCsu4RSDMkSbF7tNqxOmljkYy3FQoGZ6Lv4GwlJ1ot7HBCmWcJaTu5TjC7k6XronqTBXDCrtE8n8kN2xmCC1HC6VcpZpaYBblG0h1oiOXRAD0pjlh798Pzud78LSazQ/vKXv0zZSJBCwiq4Z/v0ghe84OCDD6ZjlJNQwKecsQRosQrJgqC6GXpb4jYPbSldOGsYJhMSMTgTClbgAEIkdg78YSkt0p/DshGlTRVQ43sH5MhFaXQtZVEwb3huOgcEndvd7naOMvMAHufiS6vNElcjHeQ9lNV7Nc0A7sUbJHwMCAdeOWRjwnWzVobJdYPJyVtONATcgGAFCD6lg8qr4bgGOGakoMyuOTpekbsAx8cU/kEgtiiTRymErWjp8HjhUfkZiLl/5ao6CGfiLCNuwAcEY8A3QJzyDQ5KORPwY0AgFqAgIEBEPOWEeWbMMV5ArDgTkI3fxr9j4QPtwDwCjQEl/FhlQb+H0j5SQRUt6W7HOf3IjTCXVAaIH88pcGxl3MGUR0pZHvOYx8R7N4hKVvGOd7xDhICM25rOvVlX1YH2OCJAM0iReik9OiROFQhPPfJhD3uYB2nJD0DbC1oCT9/elAF/IVknuVIynUA5NgG+imA37RtPRZcVUB053cgIq3AOI6mgXfCCF9RPfRmPS57kYhgIYTbVSD/ZA3s22Hmy7tWqh4hf85rXYDI2XvjCF3as0JMQ+HCf+9wHtzPvt5zUUBUH29URDzroIEJ53OMeFxXKRz7ykZ6lqCBP/TO8mOlWtC6VKEHxArikB4EzSfswnyKpZr3+9a8Hc88993RD1v6bLnl9jOcYPvzhD0MDf7QtzfVwKC657YIJ/DVkHCikw/Bx1V6IgnEx7Ojwww/3GIqGVbzViEpreAuSU7NARerj6VpKyP9aN0gr6Z2HNraEEVHCdIWJmE7ulakiJyqCKyozMvEqlDnhLG6DTBcX+Yb55nKALThJ74k9cTDu+VRpH+/hWLBcLZ4yrLB1lS9ypoJBCQfslOPiTPhkN0YEID/DdfNXXDd/Zd/OgXPdoqGGU7mveMUrHIISEI23a73Oda6jBhnRUIDgxERnblnedsc73nFSULOQLa4t32677cZLeFjNEoIUtwYx4RV1kLeKF1O4AWKMl6Mp0+gxknd1S8SDARy+Z0a1BWXeGGnwtLpsEpcQCMNTn/rUyEGj6UKVmk54To6a8xHOOG2u2CqcEufM8XJiVsdqzlmymGwEmet261mwc6pN0MQT/l+STRCuyii49N64nEAWpTGU9qGWSDA9OFWRFFLn6TDU9yQlGO8KycAbEAjMC4qIih7HiqQbubl0TU/0w4oIJR90nTZTkZe85CWeydh3331hQkVoNjEzEmf/hV7aTLde9rKXCduUwAk8iFGRELYTinRRrBK39FSU+jmeiu7cSZzpjrS0nFU/zfPpDohYiwOeknHV4KCit1hi3Vgaf4bxJ0EpstohM3P6HluwVw7NNdzrXveSybnKbq0o0XFYkC0J1TBk0nAmOEsA4mByF+epeyKNYL1T8bgWAABAAElEQVT8CH2o4AQrdHJzPtXVKX7iFd9BYfDBS+b4oGCaTaEHemw9ORo5Daqjnx/kJuRqkmD+yL1mJ5Q1HvKQh9DDV73qVRjIU8iesc7zExTvAQ94ACA2M7Y08I8POLwYIDQWMwl3WFhTkDarKWyTlEGjb73uD0WuEgeRoSLyuZNUuaPMuG2wb/R60GpWGG4unDC3zcWhrb64HBB9vBTpec97noArw4vUJ8kRoXgPKVe3TMWIhDZZjquSQg5cDN1vv/0kagxWKYTz4brtPNN1RyU+Xbcnrjgrb37wPJakjW06XM5rpS8y0v5foBRPITlJ1Y1XPlCaEXwlnZAXSqR3PCofDg15lbKCjMpy4ov0i9PjTJAcdQdZHXLkHrbf3IgpHDLkDQONy+VgXfW6BpegwVGDecghh+CPzDIeQuV5eGa5QdxJUNDBByWePfbYw/00R/xxBhB+ONJEkG2573e/+0kcJaZwg49skhsHVlAgGs+f9SbcKaAFagylfcQjjKFfSPNuAu0uYfguBkxSAuMHLlXQYiSdjuCREzXsEqRu5XiKQsA6Rc3IOciPqkVNSFbnhKzdDMzjkU/jA6BvI30CmoYnE8V1L62lZ+USZTuRKTtHtlnCyOnUnZEAi9W93HYJKABlqNphCUiInGwSPsPlWNbIbJilyhOWRjgnAvs8E9nnc57znLOd7WzetaaTVUjBuRg+RRLAGg2QEpnOj3hH9CQcpugndIYt7VN15+8YbS8QCuPTe2m1nXiLfOuamCKLBrOPXW/26/FCQd+2HwSHFZyIxBGXIunhvr1eVQ5EOmYRU8w1wCqpgfxp7IDd4uGbEv5qkd+A8ciMVbyEPPHPdTNCIN/H4OghnV5ljqupzAlncRvJgcUloWG+iRxgJu4ACEPcu/yG08tbHFTLnV8D5F5dDKUs3vSkrqEqxr0YIEHxRnQQ5H9KHhIvXpr3lh5Jm7hul7huPcppdu/CpVn8ktdEH3nkkQoK/Hn4rlzOFG0Y9ppzDGP1loOt5QIT32ByjzGA34h+P7Xjo81JeiWhm7neSy9Xk7d5aEz5RkMGfNGLXpQbgYDCBOYI9JKwAMgtqweJEdCWR8rY0C4xUOM8wxnOAJQERiaAOfG0pbiGLntyhMuSIQAOfwWmfnlh1FBwXhYocZRgwCpKlbHiEnwPPdKBWnkuIiW86C+pxfpQAlEqDqKWV8v2urpCChQ6JD+Ql6SR0ObAiswSgeGAGluHEvOynUDKzpHt4XVLIBS0/DncZmBRA1sLbpZgGLZZWOdxy8j5Yl2MlQUyFQvZL8pIEh+8DaJMsSU1ki0xSKaeY9be4AhYPpTYpO0jUZYwubNIkQ1LuZcD1qldcTu8BiRvc5vbpM/lofxrEJeYic1oF5OuSqBC/mdkBb87d7N6IJb66S0zK6JBakHL3FK0IgmrHdAV62ohtPFbnAM21WppmMB1eAtY3uWQ1ojCbjJ2b+ywSv8vhxPOTCt4GMVCTtI9ivRCcQfPAPlNuG7Lcd0iZswSB7l9bXVBG9rojG91sqh7lZ1VGzI+8ieL5iU43/jGN87gMmAmkra4MyCZc1fEFOmdnPXOd76zGofEDlhkSukSuIZZkkXJqBqBHFHAiquxIm/snlXkfPohE23VIqjGSJSay1OFP49OrIiIhvnDpZMYv0DfQ2mf6O7uHgGg2Y3www47jPb4KO0obLgthU7aRpMGBDlwaYZsItpyIe0wj1DBWCjCTzksEdB58pOfvPdSjBm4lEAmNcaHPenL+IUUpUKtx0/pYgg3xXAyZWwKV9UAPdwB+FKuELcBfgZFEJCpjFzdlN5PtWL5E2SVWsavYXNG5Tg+Jm3jqJBm+xVGi2k+5cR1bZf0ZpuzSKcWq590X3Pb7WDpMsIrlLo9QDElwxJmNWXMz14Od9caA6o7BmLj+WywRDZoWQtFXTTmuWdWrJ5nGhtu68oBTuN617se26FL7kXmZlvM5aXtLcu8JDBRmeMYpYmCtfstqnE+Go5c85Csz8So0RgfLkKG1E0fAxqv7qAUSwfQGSqbt+jndd1shZscK3p6v2EOsrTP6p5gA8Qwy0klY1vrZ5hJr1tICzJYTC+XAMqxPz1ST1wqLwElP4v4BUm1vfIqz1w5ZzevkCkhzmROCpjJYs41y51uPxVHM//OqwvdOCnSTPrgpiqOq25CqbWKuyrJ1E4iqJhBMLKB6vxBF1QKsntphj3VKjCPIEq0cSfUWqFn1cjAobezRG/FAeXgqh3rVp29P/E20IbzpBWjn3WBEC5AT9LYC3bYUO1yTAeKJXSn77rrrmyM8XvbXFwtESvb3bnZYxhTpELleG1UqMb3rhtzaZo7EbyGxyA4QaknX4BFklE7NgU/c/1/3lxoAxoVCbFi2Rk9hB5y5y9cjXaiV/3Mfo0uqPLqQJvbsivlvyrgsUEPvRqYPuYSPwg4DHv1M9clFJ8VlTnHhzKPQWDOxyRFc45nQ2+eOSCkuk3pFqTw6oav/7fEqJ0b5ip7D7q4yvDNkvYJyqUDCatniRxpkBwqWo7pskItTZamysPlulMchUA3hYxUjOyOL3u4CIW3OJnjbJznLdxIhXm5YxyDQxdDuRcyrcW3dL2ZGCHzs65EGUPyFnCJW7ZNh4MlMpkTVnBJmPNfhXKYMZF6clBVDppjFrQxlPYhiRSde1NbFnGFbYwQbj1j4dCSFNAA6T8xDBAfMh4YsB6XSNSnghw90+Ez3axAwLojp1NHheVQXDaf26MkJEig4uc+97l1iuimxBm7KEfnSA2DY7xt0AACseMRyNMGSiBl8I7+AVDlxLINuLu0z3rWs+K2bFzSyVU5CIKKcnDVVku261Cld34FpSzQ+TkbSs9tSXR4KECqKev6syS/bE9atHdMyKV3Su/43pFVJ2dnY+ZIUAkBk/17aOda6Ek1foqfFI84ZPCKB2RRGf42dTvJ6MQYWwUrilLUOD7d6kKM509DmafAZ96mDIh13lBt+MwtB1iKd9EzZP7NeT4vo1DBkvGon/VukELrRGqxo3vHpiJzjIpaRVlRfVEk8piIFMos5/80evPOcgnOx11j+ZMbxyKL5NXm3GO/nmbjOmJk4FC6qRLCpLbwxMW5qsGtdYfhgE7Ae6+W47tMiGIh+G4iozpOiIGjhx+T+HbdVwlw4dorBwPi4cfjwAHy/FQ0dmdQIZcSxIOfA2R3WTwweIaXUquqxnT4TDcryEkEVqSOhsmqGTyF8+mO9w+g9KveRarkhcwiMdzKdCpnCcwsRN52yUtecgCHCN4MVXietEkyHZyAPAUrTIcDVSmJAoefgn8iPKnBnrEFbuCY5RuLeBMNG5IVN6CTwE7XX5IfbWgMgCrH57CBKb3jc+JAgxzdkvBdAgeNkpQ9AxBWvCSZY/LSPvrWxVMPnwAIp0lFLUpqTgidpModZTbYA7z6jVwxVq2I2JwMmBWf54SchsZmcYCrdEaNi7O/8oYK/yWV+5WaDCgYq2R9K5rSAISSWJa75557qjUq+HnYkb3LOz2ZEalVObLbNsYDoByFJwU5apmThwK9mcWxHGCNDxy6DqQLquwxC2RBTTYpIZ5UfhNDfcqJY9q8kKqkJ0KQ6dkOD3PwddpucztldLe73S3D3xho8z9mLINSXUjL+UdZvACDO7PSs5lzKrWqaiQhq1pxulmxBARGTqev7p77Lo8klngquLJAWXicaWVFtN+hh9gGlSO1pXEcATF1C4HlSOmUUm6kfWV/2ab0HuuOnpG0lNNRxHh8ys7VtmNd31D1+ijGj3wauFo4axxfkh/tVLBeyOX4HDAwpXd8Thxo0Ar3gwYGrP2SMgDFc86SvnVrwzSTflqFx7c5Roj7774ps0+1un6DpX1GhjJXAxbx54BYF5GchvNmccCu3oZWkU+W43E67lcimNWyCqvwGPyh43f2wPGzHKNMIxDYY+scqaKcyT777OOeHpjKfqIMUx1zXwXC/LMsCv78gIcwPJiihOaRULtBiSBaAocuniXO3bYCAYDecoVSS8CwHJPQ9Jc3lMsxA23TnWdDphvTDkrC8JznPKd32XgSxd3OFZOcAcjzeWmoUNGLsV2FtJ0muf3vBY8rZsEj9ax3rbKzG2bKq9126kHVmA6f6WYFVolAF8mqx0h2S8lkbPhcXcXzuM/u5EdUoZmBpA1nvFuywlAM9k9WfMv5hNUBHDzSJTXkF44++mi2XS3KwABhxu7sx6VqoWr8ev+0+hvf+Ea7Dl7AWZaNzBiCOSX50R7gLW6U45M5A1N6x+fEzW3g+VWuchXO0T44DmuX+Lg54nQ5n6voaCQa49YJN91VZtMps/0AZe4eZijBLlB7QKwLREVDdR444FBd3NJhPopbXhrMpnoRU5cSDvgNm2ExohojOki5ZJDRP15FvXWPbXJ63irqvXde2jAp7yxXhC3/HMFaBubNf16wF48Gy9jU/HLwah2dPWfknYDwMwknGvCMvaVawPCpoWpi/hTm7GadJpKbusct3jlH5J0yy5fzIfl/0z7S8mZC+hECS15UDc7aI73SYe92cZBo4IZ3qlc2KlCTfkpBBAMyKOOKPYSK96Qpvf2pVdmIYflTIwJ51d8LbbVUlEByxarT+VMvwGMM5QAh0PbCSGcpSg7owXZikoHxCIEPR6ACj2PuBZQWZbCYCr6Gyrw4rdH7Ace2LMqBirjCeTkMf+SCnA67LW1pLdwo4WfbQiqOuGFzmZ3dBka5a+AFyLSU+jl4MHNMAAz3Kg+mdYkD9mJ+/oxGrF6KLwdkZxdDl+IqqqNh1ra+kw7GdccnzA1uIF967b2mZS2Zqjhb6RJ5MdJECS1EQ1XsWziH6E9l9g6wKiBRZnsbgcHbCueH5CRnukZKc7rpbVbjQHLAlp4dCYV6GF3cHs2rZYOVMTo9Tj/LsWzUw7HQRvbo5VzuVIaHN2a8irJNTwTbxfHJ4ot7vuWik9pWLJ//NUzgkD9lkU9P2nsiA+FJALNfdut9XlIOS0hDS+dsDHctfmGFIuWk/DhBaeTS0QkBj7A4yKiqildyPl5uuFxSQlu49klpH5Yp4Llf5h62szgVR4IkLt6OQZKh5CsvKd+X2EszPvq4FN+9Y3o76be8nmjtXRSZpT5KBUQicsT4L33pSwJwhpzANn/GGIvKe0r41M4rH/VEhkRpaLM0N8d4hMcs0AJg9GsH5Ap+zprUCFCultDKwdDwkkmf+M8NeUkOZ6tB89xKkxFmP4Z4OROTdsK3dAFecSInA005PdfS4AJMd1+VuYbvSFBVg2F7gaf9IvkqyJfmJJCDAxkDyrJucAONPhW06X6yWNss3PDwQZlklNBoKTXwmBjqnBe2j8SrckDVTtySLdWA3p9SZA8vu+TJNf+PhO7RQDcpPJISWTj+SFnsLIGNDy+mkcsFWFlOjHcpejgsKbs2aC4ZQL2zDAZgEF7BweqAUPUHzKm/E2ENny4cyznWg9vk4nQR9Ysx9IQT4F698V/elhO1Gax+UwSM6A9ldiCa0yiVGQ8ps2/AlasTyKI3Mp4tOiEN/03nAKdtxy4UcrzK5yxrEkouCRl8CyP12JwgroLDdTuZ55ale8Re5pIlq3AjTH5MRHPfMxJK08fc4YUhE1D1t1cs4TuThwp+IG7OuN2sh7sT00U04wWvqDdt80YnuaP0eyXVsjEv8DNXQVHISJeIcP9Wjkf17Ii8LaeEZwMqR8Yl/03KlNJaBVBFPg7Zf/BSffDiCB9YySJUFrnrkpyEv7iN7Z/whCf4T1/k5A0dWH/Zy17WfZzkCMY5eY0pTpiKtccff7zYTJl4/+22265LtvHuiGOr9NFTSJiLXzYu//73vw0+7WlP251S9UjqBXi5nX8XIy1TbyAAr9umu3AQlUnXKo6akWWsoscUydApT3lKmb4IZJag9be//Y3x+D+27tPrh7BdAnJEdLVDj8QrXLsEWxkPvSFdkIVnHxzQ7z+04kxSAb5/AjiQRUEpbnXJn7zc8h//+IdFd955Z4yl96YnsepqXkFuRZyBRqSkcVUexpK/8pWv0Ozznve8OkNAYifzxvySjWxA4CQgy8ENozz2gS3exu6xeaXZ85///LlobwOGqvcMWx4MCDsEH2LagPA7XEmcCzEdnxURuRU8DEM1FwmmpM70rjLcaS2WTLuQI08llBxvFVk+VthpkAU3hCjb0Ek5H2HRHObqGWFMpn477rgjbZFkQHJAdrEiKqiK2h4gsJJ8Q0yeZ6tDcwAEjWKc4xznkNyQtf9WxHlZFD72tfAHgfYSLkbh7ZnOdCar+/afLchUEZd+muIdVLTFHXYYSv48I0W+ekxnL7SF9rpNTy2xWj/kwYe/JYBN/qy2Ib/kyBAob/vlL3954oknUjYvsjrhhBMoT0KGFWNhgBoo9Whh7qGRA0mE0DpqEwz3JkU8P/DAA6vqHcge1EWCtI/ToCoWJUeMNZIyT5Ljauna9PEUFbucvhcscXLT8WkILDoHuBomxvb9N6DSJXbpYoYil/8JyT/zUcKfIp8khtNjkrwlgxUl+R+um19i9dtvv33Y44DrFlD4OgD9K4TI/7pLVz2cmzDt0JEoZgnmAIL9s1U8MxHBSBBn/kaKONyC6qB0UIhReYE5tyMQIISfAYG74wxjFQFUUONDuC8R3CVUgy/W88Nu/qgaWMhgxggHrttI0AR0DHSJU3WbgnPmuvk6nk38wmdjBE3+9qijjlLzE763JX5HyAJtem3Uee/Ap6J3QX+elPYhG0NRrq6jiEJgQQyeKvaQCncmCrrZ786aIir2ZXioyCYSWiIkUEEMdaabOCkfdtOhYd0NUBRUuQVKPngtvgoP1M7rlGUkkn3/IpYeUx3BkpB4WKt4XNEqpohhJC1OExJNFXKYDf0GKqAhyhTyvuc976mQi+rIAqWbUl76hzShDhNoJFDmgi93FN7oH/hl9laRT9uEfOTTWighBAICqrlWhHOOFw7xxE//bMdN2xImBCDv2Q55hnyUlcpQhWqJr9KgBCKBRAOqEkect7TB7EGSJHfnLDJdq6ZUP1kXbJ3kICPWwvzA4XGA5TUgk+MjFycISTbqcFIb8tiyYkaVQLoNUpaOEJ83hVKwBCX7ZIRe/sQmraU4FERBuAskejgaTMME/0kikCRZUiYaouQpJk3MfqLx3LElMFbWC4hipxcV8RS4RATq4mgHnweh5wYHK0gZHygJk0GOiZxUJGr0B299W4UasCD/p1xhDOHAUleMlfrTNB6KJodHQzhV9H/BaSbmcNbwgRUbSWxX25BD4w/dxk8GAknQQEYO9BIytNmLUMFTsxQE5kIumWgzI88TSGgdL2G6OrTqcsouxlNm2aqNvq0LQzMe0xDrn0HhJBwS7KI3KBh5kXtL+xZdlHOCP1Oy1+Jd/fvQSQE3UBUcVeM4Cs6HS5EFatPDhz/84c7whEmKIBJBnjC8In8SrptXHHCntr4clO0ZLzqGLZFQWt0s9Tzu0RaXmfPb6UM4NxgKf7wZZ6iWAVWOTpFFwOVwuEHuhSkJanIGqObSdomiNj9sugNIPAlXxvRURrnl3EOayynxOTwVJ8ytKcHEHlUygyE8qnIJrwU3iYpaKUxgC0kI6EQvBwhDflt6ykWLyJG2JjKL29gOZ2EvNxJicQ3x6fr14xFNEmmwxqWNpJPkxD/cjzIDtfDJksN0mCCTrtMS4hyTAUy3yshZ0MBzvE1lrSbKUNmqOB12YmQ1oPrJzKTCZrFk+Ucpx2rkwE+RHmLmEvcauT2wSvcSWZM4Gku52BFKYWXMzBJRVUrRBTLDHsoGH8y0dHAysrE14oC3tgRsigZOJ6AZ0jgMCu04gA+E0ku1SzI/OowWud0kNY5VQEtlNtiU4dUX7ipe2R6IdsqodHXh8G8IzyEHmBh3wQGOxC3iOFvjvX1Gzpo0DDQnOmxE3ejjsiYNK/tN4dZ8NFiEnbA2/CsHAkPuVCzO+F4CGdNOSkHmTEaiNwkyP+bJFQUOJUM859NgbjDkeWyOSwlTYr00dyf+N+2bxI7W3zjQONA40DiwIgcEOY+WixAt7VuRV23AQnBAwYxKO13jRpAEaCFwngJJhRV3h6WhbulOyrAdK1dZxI21J9NTYDjzKUsry5lzqgFsHGgcaBwY4IAaxsDVdqlxYM45oNAl+/HRUO7ykJZTT3EOZM4xXwt6Dhp6ekPdcdL9CgyR87n1PGnAWlbflLljX9e8Kci1RRsHGgcaBxaFA0tcEVkUETQ818IB2Y/HHUBw8tijmR5l8HyrfGgtMOd/rtvoEjvn2TwC4gEG9bw4aBS5rxu+2OL0pJJndat6/kmbhGFL+yZxpvU3DjQONA6sggOt2rcKZrWh88cBz6J5lhZevqU+ngjxlOf8oTljjDxV6dlQz7t4yMzzH54C8RyJpz0kfI7Lywg92uixtmU6jtzSvhnrUAPXONA4sDU50Kp9W1PuS0O15+s93OAjxfECPM/GLsdRtmEBuYvtmRWvzfL4oHN+XgdjPA54jFUK6M0Sct81PjIyjMDGX21p38bzvK3YONA4sIQcaNW+JRTqViLJy/89hO79CW7sSoO2Qs4X4lXkQ6/3YCjvubdr/4Z2b8OIN/gunwq0tG/5ZNooahxoHNgEDrRq3yYwvS05Ow5QYG+z85kdyIWB5Ka251d8FgbjNSDanuRdA/Pa1MaBxoHGgf/jQKv2/R8n2t/GgcaB+eVAS/vmVzYNs8aBxoEF4kCr9i2QsBqqjQNblgMt7duyom+ENw40DsySA63aN0tuNliNA40D68OBlvatD18b1MaBxoEtxoFW7dtiAm/kNg4sJAda2reQYmtINw40DswbB1q1b94k0vBpHGgc6HKgpX1dnrSexoHGgcaBVXOgVftWzbI2oXGgcWDDOdDSvg1neVuwcaBxYBk50Kp9yyjVRlPjwLJxoKV9yybRRk/jQOPApnCgVfs2he1t0caBxoFVcaClfatiVxvcONA40DjQz4FW7evnS+ttHGgcmCcOtLRvnqTRcGkcaBxYWA60at/Ciq4h3jiwhTjQ0r4tJOxGauNA48D6caBV+9aPtw1y40DjwKw40NK+WXGywWkcaBzY0hxo1b4tLf5GfOPAgnCgpX0LIqiGZuNA48B8c6BV++ZbPg27xoHGgZM40NK+pgeNA40DjQMz4ECr9s2AiQ1E40DjwDpzoKV968zgBr5xoHFga3CgVfu2hpwblY0Di82BHZqrWmwBNuwbBxoHNpsDZZ0vPGrzq5stk7Z+40DjQD8Htrv3ve/df6X1Ng40DjQONA6M48Bf//rXY445RrZ3uctd7lSnOtW4SW1U40DjQOPARnNgu4tf/OIbvWZbr3GgcaBxYLk4IOH71a9+dZrTnOaMZzxjK/Utl2wbNY0DS8WB7U488cSlIqgR0zjQONA4sOEc+MMf/vDIRz7yxz/+8Ytf/OILXOACLfPbcAm0BRsHGgdGcWCHdj9iFJ/aoMaBxoHGgckc4Eid8PPROMUpTjF5YLvSONA40DiwmRxoT/JuJvfb2o0DjQNLwwE539LQ0ghpHGgcWFYOND+1rJJtdDUONA5sKAfajd0NZXdbrHGgcWAqDrS0byq2tUmNA40DjQP/zYFW7ftvfrRfjQONA/PIgZb2TSMV23onuP/5z3/2TtY/6VLv+IFOC3kxxMCA8pJF//73v7eSQ8mTBWr/ZdunF2EyJdneSzPvtNB47Q39bCoXUmh8mLk2NoAz5wAtZeClrkbPzBdqAOeWAzvMELM///nP3/72twWvSTCp16Uudakzn/nM3QEU0UNw3/3udy9zmcvstNNO3QFz1fOpT33qda973aUvfek73vGOpzvd6eCGtN/85jfe4IADf/rTn651rWt5mm8tOP/iF7/42te+9tOf/vR3v/vdWc961gtd6EI4c/rTn74L09LHHXecwb7liNjrzWEXuchFdthhlsLtrrsBPbTi+9//Pq5OWgvt5zrXuRDbO4BEsAX3aF3vgPnpjCdAlYvucY97pOZQJGrww20f0r/qVa+6fgjL9o499lgGSIugcb7znW+XXXahdZMqWLY9xpMOq/cEg/dA0TqvL1k/DOcf8iRezT/mDcOtwAH+RHj65je/KaxETGHgLD0i73Wve92twIRGIw7MMjP44he/+LjHPU4k6E04RGjh4dBDD73mNa9Zsl4/tXv/+9//1re+lTp6/cGcp33y2uc///lvfOMbJVgSDtYi8n3wgx/89Kc//dGPfvTLX/6yeCnPyOBdEjumjSGf+9znXvSiF4nE4J/hDGf4wAc+wFxF/Qc84AF6yugiMbLoS1/6UgnfVa5yFXnhu971Lkzed999b3GLW7DtMSvO7RgJ31Oe8hS87dUoaCP/Pve5z2Mf+9iKBAmf1PzNb36zbwPmPO0jcfr/1Kc+VWPHHXfcf//9iZg1IfyTn/zkZz7zGf3PeMYz1i/tw65XvepVH/rQh2jXuc997t///veMEQ5y0Jvc5CbdZI420k8ptWR05513/upXv/ra1772yle+8l3ucpet/B5QYqr0sP1sHJgTDtjRiQvvfOc74XOe85xHcPERL5iwkO3xc6WKSW52TkhoaMyKA7NM+2QnoqxIPAk59YCqXiXPe/e73/35z3/+LW95i7LWQHVhEsyN7xcOpVO+hcN4/Y322c9+dlkX8tnSGlGSON7vfvcD+ZnPfObuu+8Oml3ac57znOc+97nCrYxTbI4lhJlPfOITD3vYw5irMCzu6r/VrW71qEc9yivE1GMe+MAHdmP2GtHbyOnqSW9/+9spxqRFZd7VJiFT8COPPBK7kE86k6bPST8M2YWysR1FapSfl7/85X/wgx+gaF2FaMPwtKc9TdpnU/HQhz7UuvTKxsNPqkX37n73u5fxQPHxiU984nvf+176efvb395eDoTDDjvMlg/DaamgMieM3WA05l/TNpghbbk54YDEjs0eccQRN7vZzfbbbz8WKkyrtrzvfe97wQtewMZvdKMb2ftVvnROkG9ozJwDM0v7lI6Fitve9rZ2/KJUufEVM1yibcoVEruSBpqnNuYj/xNIykub3kYC9ERi6JXICMzyqt12283txSte8YouoVd+JvgdddRR8rBy8GrbbO9JT3qSzE91J3I+EOQEEjjJsb3as5/9bOE2kgN3AAVsJv2Yxzwmcj6Dme6DHvQgJaIXvvCFdnJ77733anGYk/GcEa+keoQcpdNqOyEZUouSbVfFYwyUiNzhDneQf0tQ5oSWREMuLjeSz5WJlKs3uMENFMwom+Ix/PVsM4td1DvtiCraE9pMGq9//eslbTjp/zTGiQXpC3WiVGrG9A0mV7/61WMtXJUgysXhKYQEqrTRaYePfOQjTFjh2cTonwl6CwSkdHoLhHZDdek5ICpxIwKWyCUoBL2cKkd03vOeV42A5xG/Kj7wsTbebpWs67azWrT93AAOzCzt+8IXvqCY95CHPKS7Y6BPbldRnbgLWVJF7UQIAb47qxy2KW1JlTvOcK7SPsjYLUlwRUefGeImbEjXlD8ZJGaWkJW1rne967mfa8d205vedK+99nJVQYs9C9juxJWDlQP33HPPgw8+WFUfhw0ory5KG/+dM4vktctnGYYUhEvK2mfQRTR0SSJy4QtfuEqtNp1whiBn8l0JF2LyLZmfRpfSdUVbWulWuHrqrW99azqWa0HDlsY+TQHbMVZ89j/HXLUhMV48kBGWlXv4U0sK6fDDta99bTeMEtTWaWyw7LYOYxula+GA8PrZz35WYnexi12sirPM1obtJz/5CXfKFZQHkwQj5vytb33LrJb2rYX/czh3NlmLaoSTobe73e0qrQqCqZ37v8o2uc9IRgjP4SvnbaMssLmdqhAyqdAipZi5l5fHYJRvIbaMqcEu2afArJrl9J4edaP3vOc98MT5KvUxd9dddzVGmjiHFa+U/kCDPmAvjZIhdfnsqoNo+qXC1VVyiVLovGkUYhXJ3AN1cq6XcIRUtPQOm22n83nq9NY95znPWa1Oi+JM5Ic//GFlb+uyBVlgPCXDlsvx2gqE9NYRIluX2SK5KNDmUOUWhXUNz/XjgJDBxsFnxWJxtZDMzxZOBBFKyksf+9jH3EoypTTzckBrLy4HZpP2ibXutXVrGMEXkcBNXiGkWzaLARupWEKXbU0UtLWptQJGdXrMxug1r3nNS17yEhnYpIoRF8+Eula0FlUAEzIgiLhRXCmhqWMxUWMwk4ka6XYh1vUmRgYr8jF4mR8qSjgDbQxRYFO4BXyYNDABB8oU8oWJxgDk1V5CF0/kxEnvREvzSvag81BVIhEpuE+gSpdwz6EF/Ym8NkG4cU/fBm6AUktwyokJYZ0adgWqqrjtBlC1hOz5/Oc/v04xg4g1sN0jJtBjyN1tiT2JIxzUQGkB+RW0rfBzI/3YVuBno3EmHOBwIpow5MMPP7xK7yyhcOCmVhkmjjnmGDmfDd4kZyVERtDksoB10Kj0WtrChxvEQlXlCbsUWZcLiunaQol1we+OjB4ehtfyxJvviOOTRrb+SRyY2U3eSQsQpBNatOeyl71slGG6I0uN6V7t7aEWVIp2/uhHP5KZXeMa13CITYOSUQj9f/zjH+nHHnvs4QQSCJaQ7bkkJolej3jEIyQN7rg5kKRfHduOR5IBgquHHHKII03U2hj3ST/+8Y+DcJvb3MZtL549VFPZ4+ijj77hDW9Y3WDtxXZkJ4SlBQbT5q5CC8xRbJcZGEbpYQ7hc5zjHN14w849d2KAE4FATbLeRMzSsj3PbxoMponIvNKVroQ66VcJP0wO365whSvgGB5G9dEDs24UJsB1bWA+QSsv9VaXp1uahlAbH8+lantA1cMxUhlekqbxRG6F6Mdtzz1gkVW4NuMplSm3vOUt3Vh3WwQPeS45N91wEoAUcFKdz5FNg3HS/ZTI7a52tavFc7LAyrYVyWjaBS94wXve857y++moWO0s2o5A6pFpa0JgrTYP8TPSemM09CCqq1F4YjxeGYOcnJsAl75BjktPYyNw4TggcMjqnO2jn+Lav/71L48Mlp7TFo7rjugsENhRH3TQQXFInad1HJDXuuQlL8mbCSusm417bcU+++yj4uBYsBsvIDi777wv5sjhrPX1r39dtOIhhVFrcYYKQxG/goEWilAiIlvagWA/X/3qV1uRw3Q26U53ulP17gL4W/ptb3ubAaZzMtws0gwOyNArT6osnKQ2DOGNSPvEOYLPZw66tJVZRfdqb48YY4+irKIsJ0ehBHHcjfj1S8icbJMa6pf2hbo4Mu+IobqFJO/6178+7THR0r5lPD5iLcWlgp6l+N73vmdjJLYZ7OkNEOKEHKV04E8SAI7OS1ziEr3oTdcJGQGV9ovEPhUQphWxFl1MS+YnDMM2dnLVYHyI1GHFzZaJAL7iFa945StfKa+VvkSZELs8O4JLzB5vMRzJL3/5yzkFeztLQ0bS4AlimGAFTDYs7VNzggAhTqE5FaPyZzAf7ZSEXtEEH04kshlsdNM/lOfBD36wTmJyjk2SRxn85BblfxDTBorOS+O4p/vf//56nHDAWB4QnPDCxsin8TAgG8yfUkXPxt71rndNrNa7EUrFTH77298SYrVcqpaUFy2Z9ukPVSzHIzN8Lq0YLhWXs5apPUNtXCa2NFo2lwPUkivj28U4Jvz0pz+dy5KlCXNsFm6+c5NmsACqCMKKlfH4Q5t/0YTXUr1705vexFPx/7yBNz1xd+Kv9IvrMMsqlnjyk5/M/CVtcfdPxHQ+24F1WaNFI4wqLnCzDg2LJmKZDbObIZ4GA8da3G/4Q0di8g6hS5yq7FCSd7e73Y0L8tPrvRzEsrRZApBDQfbMm8vthVh93dO+kJ8nAQfSvm68WZF3oo47SmBSo8jeYorA4yPLVLGTzUQnVRZ3PfhJHakyPZOsUB2bCbmRo0uKf4KurQb90+ObigvqlElJxgvwEh9wpEHu1lFNejZbR8/8ZJksJ7K6fJI3Vy8bJ5xwgp+mUPqyP9pYGlyVnTDR7oDsEfLZJHOyHNLS/lGKupe97GWYgyf2aizfY9qnPOUpkW8WPG984xs74K+UJWW060qY69pAkT0flHgZ5M9wLbSTKREQLtp9AI8eKZoMWNqXy1E85UBjZHu4QXk4HYmyxF0ejJNexafTGAJywoHD5eZM15YfJ+bG3+te91Lkw2cii0VzlfVusBQIcNwiASq6yVyJgAFRhKYJ2FJe0g5902CPiK2uboWfyYGtQGyjcYE4IAPzAhceRlxjwjw2ryWueUkC71T6HG2+zj5fhodAQZYH42y1RU+7RErO84uMXltx85vf/B3veIdagAjiNLkdbJQJ+T03ggKsvI274OK8g0wPHGKrKfgCwpmbxfnwjd4YFYeJpZLgyBcldpn2caqSPNUQCWW8WIC7Vp2JQC+zXNyHFzdekWZztm8S3lTE3UDC9nDfQEQJ/ZgEZKB/0sRuQmZzIJxHhgQTTxxHPJYj0v541sQ9uMyQYJ6fEgHj5UPuHWuU/TNpSwVAhp6ykMc17LdKsKwu0GM2Vs/ImglEOTjbEafzZ7chSDMnnFSOypzPMAkBA0MsT+Gch9VZKR7yCJgJE75AaYpDOfDAA91KPuCAA7rA16OHmGw3peaxcVyPJbow8Sf4nCqHGx58wx/9VMVzrF6y46csigPiEAHBuhSTMQE29CqXoKv8rJzbXJ0JPwesa4NXjXcqceV23tVaiXw8Fk1VYsDJT37yYTwliBWorfBzmCdbgQONxvnkAM3kt92v4DaFD+Yp3/LGPlU9r4ZIM+8iXzorE7kL91i4LOFAsFDA4/+FDzdqPRHswI8aniXUCNIWhDM9NrqqMI7Lx71jV/lJ0CKMijXyPMM0fLwolG833nPEgRKEeSdzhR6f6NRwoxkcwUg6CJr8sktC6+lyYH3TPsqheEtL6EF37ezJiJg9IxvTTaQo5RaHCop8vumZMtuYpYX8CPZjBo8fA6bDXsErr+hjRYEPtVaMtFuS7oBmdbZh8DBkFA0PcBUD7fxkJ3gSaUc5xX2BKNTLCVRt41Ksy5hdDTPTZr2kXM5dpzaEpZg2iNe5znXwYZ1WGQBbqRwm64kUsOQAAeEJbxV3wCuAXdGYG+RU8KuJM/8pj3dolUOnac79KKPGPsGWww5eETdWJGhS9omfjgfNHJMlALjBslsCjjUSNowD/LYH4N7whjc4ZGxfypaFFY5dHc7dG/X+kZiE/+cx3N6JDIzj4uvkkUoVYCr7lZ4QWIPdFzLMvtGrKmQFuVZ4wpNyvZ12Sq9oup2wMcofMRhYmaUeY3KYn4YJW+zuO9/5ztbcaiYnV9VYIXVYFazuYOm5sCd16L66pRxcCrLs37A2PYMD3aJn5buLNh4xuxxmSY9tbjQcnmBFXvnBYKAXDJGkMpLIEgYwjCCkJjcwBkDmJNIbJvOrGI4tDnbIC9keB2G/WA7Yfvvty5/DbRC6pxW5Ho5jxfy1hCzxVfyXtefBlPLqBrQrZk6K9CelSNuSJDtpY0bOgn81cjxFvJ61UklyIsn6DIC1Tf/1r3/tXonTDpI/UvYP4jwpBZSNEDh0MiqCuc8eFr21gvbEYYs0Bpi8RTjQyJxnDtBPTt5NCcdjPKroVJxsj2d+1rOexdj9lx352Xj8K20X6OMMjCpg16XLz9zAtat0foabyoXCf1ag4BDRjf8RNWJwwPQznFLgyTUJhTG+C2Q8LVtt5PqmfZ73IeMVj95Pip0bL4xKdQYQq0bOClVgHVh0UsHJMM91Krr4tjlzqE7ipVMIV+iy3JnOdCaDmattVu/qgaEMqWuE5fjyvFrZH+3IL2XDjvx3r47skZF4tsthkXJDhrc2as7AraoyL+3jOLzZmMGPXH22wyqVWFENqvGBzMCs3vFjSKAqTkBTkhI4aE4cSuwG8jDJnH/C5rls5zEcsgGBzng03v7HxsPSTuGEjGwDbOspgyc8OF8/exEjmkwQewcsa+fUsltWhjS65pAD/IP7oY76KSh4/MJhd9t+d5Z4ADdtp0aY/7FpBLzXCqRxkZ8ZFvcTYqFwVr1TSky4L28CMVi0cm8qn/AV/nyMdHXAxZWgWhsH1jHtcyfOnUHCUD8YzjxC9nMojwHEVtTUqcmxqHzI9sh5CBaCgWKtXY5cUA7NYiU9gCvA2LqJwXniqlyRMYR1ATXM/BgGPjhu+ZVAZth29lYxqUz7tKUOPuNXMVj5E8mOinZrk+PhrGVkpRIrqkE1PpYemNU7fgzCmOOYtrM1pbgx2S7C97BPtJ92usDZGryFm58+qryRRNq2xaFPyRx1Um3lu8PbVoiFNA3eLOlU+Gzwz6llt8F4tuW2DgeYM/OnmaVbQL7ygSSPnXrxlkId5+89a6qAU1tuOgQVRCtWy0HDx7ow8Un+Z2f29DZAc4eag+Lf3Kd2DirOZckCFQKczne1BNsLpHUmB9Yx7XP0nlScAFuxMBOyT5zmpzGA2HorGUWP7VFwwwvhhFv1FVYa/JQXagjAxx9/PDwrfJTuXTJ3xW0QOKK7tC/G9zIfMv6LQ++lMZ1w8wyNJ6krfiJnVV4Ghu59M/j1S09XJKcioWJ7d3o1PgYMzOod3wXb7VGicxSvm0bL1SaV5SogJ90M/r/3Bcr/3AYCTSTwiZFA4Tw9pC1dPPl9Oz0jCWhFk6+WXo6fXZ4sB12NisXlAFP1NgbOwSOMFRW8ukTK87Ne4yBRk/wpK6zKIZcATcxbAaCVl7R5vHB6PEO5BY3OMYbj5oO7GYqUHu/1OLCHUcz1HgnbWv9TeFW3jCrctuDPdUz7JBM0yZshM5ZM4m/IftLVTewfQGyMps4Kc9mziG5DZlvj4VnmCrK6C0twV06VvouMAGzXJXFUDy/NrIuS2r6cEnBperzauhzDgAEnwXi2o7w0vo2NPILP+Cm9I93OVj9W7JRY9A7YgM5KJbqcr3CoxsfVgVm94yuYvT+rfULvmJGdhO7cj+osZ+rEdybZJEhbvOLRA0YiROVqBRiqCA1jyh3LyEWXYNjUslsC2hsJ88kBWz77Ma9HUQ/rpnRCg39z4ClaJk9716LAavzcsu2iew62i1XQ5/GiHOiUf3kCJDzhmHWNAd+jIdyOVwYq8llCEUSAi4OA88n/+cTqP+XW8fhREfkcvv9/9u48/v5q2h/47VcXCSHXTEhCMs9zkTmZp4hCqFRSXCRcumR2zTLP85wx85BMyZS5kkoSkiRffv2eWve3H7v3+33en3PO55zP5wzr/HEe++z33muv/dprr7X22vu9T4nrtuuy0A722Soibf1uh7o9VrBNuc75l5z+n391wU5lTaSft5pCpINInV+otR8p1plZVx8mzXA6pmCe9BcWt7O9a4kjbmpZU6YuoTcHIMzzMxw1EVWOPvpoOTwkwbz6USOtI7bgTSRj6g3ZeHG4LgNJ5tzhQouqOn+yaWiL5HEacD6IsiG2DYFPb5k0HI5BVcbLD6+abGurUMCe8fKzCEY8WlESGuXV6q/SLl94WH0ChpYQlgR119pkvX3v5T580qr1/+PJoWQtAMhbY7GBbR45YXZwWwihTXMZcqY6dssAYPZx4ggwvqIDNklcDdE560vknlNVVuYkOYS5X1nV3FocxkWzNIOIT1QvBShPpoTxcj6HzSr5Qb9RuDytE3SXm3RpHrHJAw444KCDDtpvv/1sRLCDwzNZE1zm9MhunxGyyyOGJwwgHjBowIwxr98evPDyMPiON3KCCuEGYYm0RUN8Kf8wEbtdvjtlvcESo65YzQOyJgwvJPatdNObBMXNZd6k6/JBsJ3TaKj8RMHVvvY9Hart8fy07gUr520hqTzPr1CQcB6LNyZQJ1xX5wOfm8g3cjdHmcl1gTotauh9Eb6O16zY+/oROo75m6W2aBurt7rY6tO66d0OaNSXbDfIGkoHO6iwqTqgFo6a0DQp4seE8BAPGkeISz5JCP8v2Av5b487ZeqjTHkEwFiVcryiloSxCzp6Fy5vKR/55XtQfimwYoLEkhPT1h2tetdZXhkv33jDg5K1xvB/JI2VtMW6KwmFEEyx6GDQUd4rO6YMN9EioZP4wmeufowWHqLs4NojwEpSL3ZIOX+heQoP5rt9Ut+MhTvwShzOrI+08I2nyts74nL1SLgqzI1Vn7bsTdXKAQWqGymnCeOm5cJA0Z81ZZlUbpSJfDlMvB3e4447Dh2a0zfzVIoVgpkYBoGRN3npdxdzu9ML9bDBbcdCGYPEpHkfsP+UT4y68qQKQZYvfCD5tRwM6gmfkhi5JoZP5oyCyCKZ40O49JgUIsv7sTjg1nBuCF8YbOJbi4sWw6IrUDwwvgU7jSvmjTE75ZRTtthiC0SCYS8oYJWrVP+llerEEataWbEXGPbnbwQXM97Mjbc0Sje1ghonzAWbkPQmpriLlzkamMBW7zwSw4eDSIyK5ptL0rHnUWOOFfp1Qu/22GMPHfF3dsKKdIRFm0zDR1OYXSab+I2mo+94Biz2jj32WGjzABpc1cSHTBtB3gbQELSAa/sNmraKsA3N/V1xuzn4POmkkzht0m4niZxh+CQ2hMcfTQp86rgIKDEwrI5IknZokC5/McR5gi2UYqB9e1Q6CxwSZSC0SNKidath4qoXFktuTFDX30bzdKMWSUNZGinVJdRSHVmY+BkTJDKjyqjfOOGZESpk7cMSZjwEkeAQA87zOQlkv8YdfmSyXpdHSVV23XVX/0GsF1xh/yMXqHr/g5fsJSTSGDmjsrcA5QPGBehIdmGREKDBaHUWx+qdlRQsENQwSdkpAQXHOXh4pm05wqvvvED6gZUXCxBusKnq5X1eHc1AGdKrTIC7lGkqRrDMd1EJOtPBOzdOsCb+J41vYFL46R9NtYuB4llqhYYM5UZbMlhhSpSniFiZKCAf8zLl+FCPDCK9pFEfVRD08WdafEo/F2ngpteXjZ/5zGeORH2jjTYiLv6YxXiTA/9XK9GgwGNgODds2EDI/OtU42n985hjjrHa8Gd8/kXXKHrkwjCjjgKx01ZduJ1WYOutt8aPRQD/yc4m+WCKLFxcPm5/kyjERieCbC2HVQG1tMLo+u8BDtx//dd/se6In3vuuWSaDOHZN8k2VTgNvok739F9ZjouIsWbPPvss3WcO2g+bLbZZqaH65Tta+uFWYEZAkpeCWhnL9x8prCe+i9XfxPHp4zeYY+/gk8OHyONgks0GFoeQ5uOHIzxSEQ6Dz/8cJ4Br8J8s+0rooMsJ6YNWjuHXnD3pl6rrmlGXQe5kuecc44gnH/vCP8AyLwBR7vcI+h/GiBj5puWW2655SrnG+SFFY0jj9OQwbPBpPuBecn65emOO+7YeFr/5K75n1zui7tD8Y9zQ2+4+U86uOmmm9aFO9NeXjHQ/krc4ILCUBInfh4hwSHPRriL24Rn7rV/+aO8oHHqqacaOOMl7V8vebEkBCxAoxy32WabzTff3E9yzsMm9nqkL9ttt51OWRxbXRg+f3wHW9yqQj5JlOGgGUPS0IeMJmKmdDLfk0nkgKAXrv6hkcv8Qp/HxgDw8sk/YbOBYiAGYWVq8MsJqlfqsEr2iIrpxmyITBPIHh4W+BF14SpaEuKArLFe4J5m1+YLAQqKNqM2TXnXgVGk1n7WaXQXq0Gf8AHM+nqNR1fQgZbZ1CkFRWU5Vs5MOPvBKhF1Wo56pC5oOethP2GiFnPMJaDEuIwW83Z7KQeN2gRgSlixgI72YKyf97znUUesGHVHT1KJLLJJJJ9iofRwzryqxQ2ltWhI2oZhlaCWPWK+bVww0HxB/oam8TBfo7Mu3G7Eeo3aMDthOA0V754NaFdXgAPBOAn51sLULomIwr7JgfLxbbxZa0LWLt+ZQzisA7hQqpDsiD4SWeLI70EqXDEOioaKyWSDleeiyfddWlfFx0+MkXhOg6CaUE10pDAc5fGDvvIoKF/3IrqgL508yzRniCzKPoUrIRkOHy/QgkzE0ZwMZgYRka9RXUBKl0Gh18ZFxVFdMV1TXZd1BD967bSH1ksXooBvjUb3fQeMhf8ePnseQQ//nBJ7iPhvl9RHvQPOiv/AEwOByRhTpNQ1FnphuIfkU3VqBT+IGB1KRzdpHGiAJSQKWXDBShNBNprwzfajEJmKqUt4/ETNoCOLgo4YYoWVRMS3ksr4lqmKb/RVCTQ8koOBaL0N0TA5ADQx4cBv00RUsdw3fTCjp/D3VBMrUsOzjqBGBZtxRM4qS90VKy5qAYMumEFs/EVpMW+L2tns1xwhwE+i1U1P85RKCbtj2prm5jtVIJ9uafSIIjLBFZbPqtKBcsJWyqk1VWPWK0Y5oK9uqLJouiicaIjvGPoNqcih3HwiH5HSBPrqImgjAs/MIj1GZdGZwQn/LxwSq/2pHgEKPhfgexy3T7eNSiA+CIIVCwyqOHZ+o8WQm7Gp1RUnSKomK92mLMfHI0Lv0yjf83Psim2aSGk6vttPp5ezYosrFpgsb5pDcKRRGIaBKZEdpmll2q3XnuWonUXNR61RKw7J7RwV4/Y5E8lSpts3R6O2JKzGJI3OSkvE9zAzt647ElzRhCqrVw5iOg7BI+j/fzmpEj7I+g6WRCW9j+x9EQeiRmJyOQs3ffwhUVhxIFcsMGRDwxdrtNj4OTyddskJkmoQb1OW085s1Or8OXbFNrVgYDw22tSGz1mxxRULDN/WMCWn1NyUyA7TI2XarbcX+kOSCmptgsNXX7CSxQgtWL+yO/OOQD1JI13n9Pdu+JINOmNXbNCxLnU00K70oYceyufzFOUgHt9yRARtPHbuFDWo5c9/AZgoJAKJQCKQCKwegWKEVk8qKSQCiUAgYDXl9hkbu/4+3oZ1GxZbz06cO/zXfhewXThzIDBmtC+xSwQSgUQgEagRyGhfjUamE4GJIGA15QIHh7+9dma310u73DunAJ3tc+DPhRJxRN6lcjIn0uLCE0m3b+GHODuYCCQCa4FARvvWAuVsY8kQcArFW8C2er185i4YryFz72T6eMPD6yZuFHGNgJfSlgyY8bubbt/42GXNRCARSAQKAhntK1BkIhGYIAIupnCwb5dddnHjtPd2uYB8PrdiuUDAlQhxT8IEm1t4Uun2LfwQZwcTgURgLRDIaN9aoJxtLCUCXtpwmai/JKh7nzOuRmP4dLp9w2OVJROBRCARGIhARvsGQpMPEoFJIJB+3iRQzDd5J4JiEkkEEoGlRyBt0tKLQAKQCMwBAnmByxwMUrKYCCQCs49ARvtmf4ySw0QgEUi3L2UgEUgEEoEJIJDRvgmAmCQSgURgygik2zdlgJN8IpAILAcCGe1bjnHOXiYC841Aun3zPX7JfSKQCMwIAhntm5GBSDYSgUSgB4F0+3rAyUeJQCKQCAyLQEb7hkUqyyUCicD6IZBu3/phny0nAonAAiGQ0b4FGszsSiKwsAik27ewQ5sdSwQSgbVEIKN9a4l2tpUIJALjIZBu33i4Za1EIBFIBM6HQEb7zgdH/kgEEoGZRCDdvpkclmQqEUgE5g2BjPbN24glv4nAMiKQbt8yjnr2ORFIBCaOQEb7Jg5pEkwEEoGJI5Bu38QhTYKJQCKwjAhktG8ZRz37nAjMGwLp9s3biCW/iUAiMJMIZLRvJoclmUoEEoHzIZBu3/ngyB+JQCKQCIyHQEb7xsMtayUCicBaIpBu31qinW0lAonAwiKQ0b6FHdrsWCKwQAik27dAg5ldSQQSgXVCIH2+dQI+m00EEoHRENjkU5/61Gg1snQikAgkAonA+RH4y1/+8rvf/e5vf/vbl7/85Utf+tK54Xt+ePJXIpAIzAoCG1396lefFV6Sj0QgEUgE5hMBft6f/vSnC5/3SZ9vPscwuU4ElgKBjY4++uil6Gh2MhFIBBKB6SBgh/fPf/7zC17wAgG/ZzzjGZe//OXT85sO0kk1EUgEVovAIZxwpAAAQABJREFUJte//vVXSyPrJwKJQCKw3AgI9V3qUpey1Xvta1/7yle+8nKDkb1PBBKB2UUgX+mY3bFJzhKBRGCOEMgI3xwNVrKaCCwtAun2Le3QZ8cTgURgkgjky7yTRDNpJQKJwHQQSLdvOrgm1UQgEVgyBDLat2QDnt1NBOYSgTV1+6jFhdGM//jHPwb15bxe/t+1F4f1anfte1paXKQu9/fF09LrmUrMLGNrj1JG+9Ye82xxdhDo12Czw2dyssk0IOASOeDcpnzyySd7x83B5/YjEuPKq9///veXvOQlL3KRi7QLzFTO8ccf/5nPfOY617nOTW960002+V8M8f/3v/9dF7zNd7WrXc3dXWPwHDj89a9/HVRXgQtc4AIXv/jFS4GoAnDwOlF+xSteUdMXu9jFSoHFSOgguWr0RabuX+Ma12jkx0/D8Yc//IExHm8sOmlOKdN7oG7QJEt3vOMdy9jpL6Hy6De/+Y0RH9TNVbKkFU2AcRAdj7RO6uoCsFWLqP/2t781o81rM3fJ/Z4eDGvoMp0IjIEAo2DGqWiWxUQzJdnKSPcQJJbsAk0SJUNKVXTXUE+t4R8hiLjP97//fUqAWVyRpeGJZ8lpIDAVt+973/ve0572tIbvwk7c/e5332effdrdIM0/+clP3vWud6n43Oc+9+Y3v3m7zOzkkPJDDz30da97HQfrQx/60A1veENdw//Xv/71r3zlK1/84hflv/rVrx7P1TB53vjGN77nPe8Z1F+t8zVf8pKXRAE/+aBvf/vbNa1dMxkn7mJ8+MMfjrELXehCg+jMVz5n+sADD/zFL35Rs81fucpVrvKsZz2rzow0GH/9619/4hOfMED3ve99O6WuXWsdc6widtttNz165Stf+YhHPILe5Op94xvfMKyf//znTZBnP/vZU3L7TDrybM0wSFlzRl/2spdd97rXLfhwpj/60Y9+5CMfIX6E7Wc/+5m6u+yyC5+V3i/Fli0xCMBlwyH7Ow0EzNOPfexj5inNwOJo4prXvKY7g+oQQGe7FmaKffvb3/aUiFqk0ST3v//9GYjO8iNlcigxRkd97nOf08RTnvIUxBfG7owExRwVnrzbRw7e9KY3MWMNFLhBLEdDRkVrvvvd7371q19VhfsiSNaoNYM/dTCCTBImocnDwbXQEfnQFzl6yhyOxzmD+pa3vCWmaCcFNrierjwh/tAPf/hD7vK97nUv6z/pxz/+8dw+Ofe5z30WwxRxMj784Q+DvcZEZ295y1s2nCEK8cc//jGH6W1ve5tvCmjnnXeua81gmrfHr8W5BPnxbdR+9atfmRGceE6VpbnMKXFuqvKPG4u0uq0GwkbhFa94Bff0UY961BOf+ER+HqHllZK63Xffnd4v0cqayDKkx571ywBO9nGVCNB1Amls5SGHHCLEgBpzs9NOO93jHvfoV/L04Tvf+U7mSRWzVcjgLne5y3hRiXYXaANu37HHHuvPaTzdsGFDu0zmzBoCk3f7OCLM7f3ud796r5bR2m677Qhuo/+smqgMEWy4g41i6/WTPWMORdFqBli1vfbaC89XutKVbn3rW3uE+Yc+9KEiTKeeeqoe1YVHSjMbZjXDz6ButdVWbSvCOcbSne985yArCPSiF73oiCOOeOxjH8vDi+1mqoHpfdjDHiaEw42ufcSRmJmdwrp8+OGH3/jGN24PhAhZg09LW46vqOdlL3vZfm3YqLg2PwmJ8RWkrHkzcHQ3vXzmmWc+4AEPiLXy7c/7WJpbA7QlYVLcihx84QtfcHknoQr5KZRx+NOf/vTNb37zbW9724I8Tj74wQ/y+QT5zIKI7fnm/+Hz9a9/PbklvYXIUiXqMV2qjmdn1wYBpmeHHXY48sgjw+2jTMQIhNh7tmvZCMozfD5MWsKxFLVpXiXnNMPee+/Nsgv4lVZWSXPs6rQT/U9/hl4am87CV5yw28e9s63G27ArRBZrc2Uw2tKpJJMjznHUUUdZNMwU3CbMe9/7XmLt02CMt4dt3Wko+obhbNRa8ScX0xR1yz/b3/aDxX4+8IEPaLRsgovTsMFE/N73vnfdNN7oAis8biKE26RW5GSmClhH8vwEL21q1BKly239BQ1rWd6S4Zu1/5vGvCHjaXGMGkflyNiTnvQksIfPV/DXx4aMlUcTSTiTQEIe97jHicQ3GjKXRfUwcItb3KKoUaFHYVT6/elPfzqQCw+cbNtGnL83vOENDiHUO8KlzMInauFc+M5mB9cFAfpBuEHTJqYZKsJiCt/tbncbxIwwhAI0Z8QjzNnGNB9UcaR8XImDrLvbR7W+//3v5xkXfTVSL5an8ITf5IU7w+Y0FfHibUC/fNo+H5TJComhLmdNY5pR7373u1/72tdaUXVKA4dj4vNHwPwGN7jBQx7ykE5HLQKBZDo20TDmcJXNQR5DI6QH1Zvc5CbY/vjHPy621Mn/vGRyhZ1o0UGaqyFRcGgPgXEJd2TWJArgdLQNmpNOOqkTfBPBp/PRlPpCyHmfD37wg60T2kgSrc9+9rNgFz8uXOmCD5Ct72vPlRESFMS/0w4RiihVlifRxnB5+p49XTMEzDUTNmYl9d5zEFw8RRSG5bVzEOz9y9COewCpv4NTItvfaP3UOt8uhMjIunNSczWb6Qm7fVwlqwqRZ+ZN1NcGbs+ZoYLIGqtLDhODp3XygT2RJNOjMBP5IkzxD5s9vCHSqFgTGSMtZGK7th3BClJO9/MLHeYw7eWwrxEf9WdQtQGOwvbgONzw5yxGZ4fkByAWbW1MGtVBFw6xhPnmM6XJxoewWiVLgqCCr44QAGFKbTX6OPxPYlAkQQJ6bbF3Vo9EGbIeidIv1desdzi55z3vGQcV2p1lUcwCBobnF085gl/60peMu62i9srEy7ykTse/9rWvKdkmuPA5azZwC49kdrAHAWJmfWXmsheKWYZR8p3lKSLHdp3fuNa1rhUFepSPeW3a+oRi7yRYZ0Z52rjOHJSm1pT06TFGxZ7qoJKOzjeoKaBHzFPb3GBGnM97lhrq6SPKSiKC+DLP1klu8jLJ73vf+wyYzTUxv//+7/9mMLxnIPjX3kKqR3SMATC6fBqWiQRwgxyWYoqMt9ZFHG3wK4CsDSxeUbTFIClvl4oBdr6BV8Sl+PSnP6282Nid7nQn3KJAIPDvTWTdYdvsPqOPlICTuJoC0uQGEY6XKoOsZt3BIdMa8uks7Lwaj4FlDSaVwYAJoPxVr3rVtqCLhGEenw6CCB8OciVLWzoFNIBAwwlFWG255Za6zOo3DDzAlcGMJmwl0zg2pk1IL5E4flcITiRhLEQ09RQ1LdpzFMi0o/HABz4wYksTaaUQCcmBAzyFDK2nLZSpCZImM9QQJI14AK7X8m2+kwRACYBJkPzvfOc7BI+2BQgKimHeSw9eTFHRukhCo8poIlx2xLWiGIVuk7ozNF74nFQCM4Pii6aPWYBzR3IjuqxRkyu2ivznbFuiiGLYIUfITbSIuU6K1bmgE1IxF6wmk3ONAHV9hzvcwaqM/mGn7Ic4+dOwHco452MiU5hcw+ivzHbHuXrf/OY30Tn99NPN8ctc5jK0Gd1F2bYLy6GslKeslL/gBS9IiVERjdZLRQS9euLg73HHHYcZ21n0JH+gLs9O0X6KsW6oOa1un4GBZlPifTJK2FPKB6unnXYarYWOwyRx/kqmnrrSQVtIqY4a+goULRQGDtss6S9/+UsMo0CTW6kWVpcn0e1kjNd/Xkic6YE+C2qMQcwGGAZeFOEbpBYH5fewYRQ1wSdwipyPst9++zn7xYJySjh2Ir18fww4bfryl79cYZl2PD/5yU+SHs4Th8ZZdbKFZyaK0Ng8dR6RzKGGMonnbaDAkMvBCZOmormBDrtuIpE2ojZBt6+nv9jQtDN/xQb7iQFdbhtgdBQzbXTBh/HuoeyRAjSIHW3o7bjjjje72c1MGx48QLxq4OAX19kYUTGiboKOMDSsbkVRHgKw9RSSPdsN/QwMeoq+jlATJrNBoW7w4IIbEuW90T333HOC7hEh0QXDKian+5YBbuHhmQHHT+89aFfr1NAxxxxD7yjMwyOBqpCQuANFnFth3Ap7i03KtChHAfMg4kCbGtxElx3oMumi5nSKF/itb30rVJIhJooT7NcgbPvz6Vmzg1atXXnMG2sVsdees0QxtDCUINBPfyGfEqGF7Fd2agYRYKEe/ehHc6coEGqZqeWr1Xyag7QT18cULm5fY9qSWN4bRcdM3O52t7ve9a5njrOedkvtC9P8bW+S3mMXqD5qSriE6mNVKT35deuRpusOO+ww2o/7dYUrXME+AMVI6T3hCU+g6GgMVsxmjnwdoTesjbHqPUVGGas+crBE977jHe+gk291q1vhmf7Ud6qV9bEEVeCUU06hfHSZyaBLTzjhBDqKrg63TxU2y7FjKjfsOAsiNKiPT37yk8sOeJv/Rc2ZpNvH5+N7hdLnFtgPIo5GwkC6ZASCfIhOHMdQl+yu0SI35E9b5CMoEwIf3pt8XlFpTknjrRgRUZcvKO7NGWWJRTW8087vYbPZadOJE2mtQFA8fcxjHiNgGXSCT5mE0jzpNH6lxQkmTC1BO0jyyYqTd8YZZ+AHnyKdnW0FJiZkv9uHCIdj33331R3zn0OMmkyz2qi95jWvMXXhE6suzWGDD6oMfaEJp/i5RBwXsHSysZpMk5aC8FayodQREkVH8DyknSIwh70GgaXVNFHq6ou+Ex6toC8/AAS4oCb1p792TEp5CezxrQk86eLyUrveLEaBLjMRoARPFa0WiJDCOCd+gnneh1AlSHGwIA9w5fWopr9eacyYU+Sfw127fVg1+riiYU2iBntqRQ4DoJuNp8vwMwRmGXqafZwFBLhB1LJ5SnXwYxqnfRhfM5GqqVktkzQyaSoKnFvGINJLkUndcad4Wp7S/DRYEWzzmuK1oPXt8opQYspznqjBuiFpVlIxfhjXLcyHhhgaryE6scMcq4iyj5IUDgvClGy77baeCjrYerroRS+Kjqu7wr0rl0Nhib0W2eGnMtYidrrJSsKBNVSs4QHLV4BXgM9wBO1APvKRj2T6wxHkiTaYX+yfkzGZgRED6WM4/bQH5w4XI8eR4sgLz1oiALczpmrgx0P5PJnpqMt1q70BxYRtMOZCCtPDSFvZkFrcahdXpM0ksV9pVgQzEvGpfSaPiK8PCpyANTPSHC8YEmWCG0DhyiJPGkuchk708C/fRI1EZxmZZgsfhaNjsoXPJxNZbVlRWUTydZh5egGAlmi+AWWims9e3uTri+NaFw7yPge1O0w+tWKWxkTVC8sG/FiJUhz6JYHhoq2GIThMmVpySvnzRPtf0hLiIUHGqF0D4a5skkDAaLQId+HKkNE1FjxQ4vYpH+JUCJYExxGq5gVFVi9gSoF1SVg1weE2t7lNiS5jI3w+ic0226wTpWAVJhzEdWF7fRvtn2jry1u2vngIUB3uSKdn6B/7vNaWxbzS6kJ9dHi9bINAUV/S5imjbM3vuk0eWMHHwjXiiB4xDa6DCA2sgG0x6o7KfdCDHlQWrvSb5S4nrDHrbYv5iLGxmEGcenTpBEUnaOLfGTRKbTIcTJhM6gV7LqvHwA477MCPjIqiibRoMBx0KCVlmGD3BUaO75h9bTWrmyKOXFj2onSE2QprwkVh+pfN7evwmQqOq0mwCvwDgmjUI4gKX59OmmOry/EqYgxL4fPhRyJGnSfRGalu80x6RDvGa71NbcUcIhuhF65GFNY0aZbu4aGe4YOaUN2KRwhNj8yERjFzL5ZNPD9zLJ6aoigb3ziiIdNk5uWbh43qk/2p0djwpar22GMP+HM9J76tjOceSDufKk+E3HISPp8yWKV/cUv5YrKBQyd9qIZK6nzaoDDtn9S3HV4sNQ4whMhp/Z///Oe0eZhH+sPMuHnsV/I8mwiQN75LuHpsq0Vm0R68KJECy/J62aYXpYC0KpQ/TW6vtrGKo/Ypf2W4RIpFLarM/q9wg2OFjWA/w9TQ/wJ7PFGOKTWiorCCj0whPTkoMyjsmoRPMEmLbr/99kFHpyifsHdUa/wsJrv0AsEVTTYcoIEC5zjYCE5sOus1Xef4PtMfnCzJ9ySjfW3IyKXIs8iqFYl9Or456MsqoZRfY3XZbo7YkQBWjQxFbCZ4a5fszy89mmDCQieOgolQlo1UGEZ6EIcYiLnRRrvBm7N6ZrJZUbyWUkATNIL4qFlBpzgmUh5pV8in/FwxYdyL01AKI4K9ni6UknWCe2Tn12Smj0SRDVnxhutiU0rX3A5Ka5pq8wEslafjtVataxUmS2ZJlEdDJgw3kItCLLU0vaIMlMKRAKzluLVQPeIehWMqsfHGGzeqNH7W/W08WuCfbfAXuLPZtVlAgNL2eqK3JykZF2raf6AM6QGvKgqV8Zwa+qT+SYWKqPGlKP9GX3h1ND/9z/owEMJ7dIjyjqlICBDUdNT1szHlOWQcOwrQSSqasNA3R1hYTOK8OFsxcVBoeJNRyxlu8Ujt+vDSaFTaievmqV77FOISDcbkYMPei1CiLamaSRV1xDfrj89iW2tqi5qertsXwyDOTG4Ehw2zYTN4DTRnRF02BAiTgxgblN/o10R+cpctVghoIxAdcwnPZeut0VxMALOrlvVGGT9tLPpuz9soSXeYFZpwSLZdd8gccOmCM3M1btLuHbVZYEU4JJ1SzIrQ4QxqSDgNb2vp9jW6gKW2oil8StTlI7+d01++ftqTNrmcsHSMoeZHWxbQYtvtSddDitsHWAdJG7X8JHUe/fGPf2RaGjq6tGtAY/ne08RCPioILGTvslMziID5aNvUBiuHzKaNxbkXHQRZnMNxds2+VoPnWvn8/Oc/N5dN1U65ZThUp1X4TFGLpeBycY+GOc9DLfP8uKHxYlzdbmGptFsS5VGdoHZ8KBwKX9eQ9XOQUWs3xHLx6nbddVfnzWoHtG6in4G65GKkp+72gQnWW2+9tYQhaY+K/JkFfd0ZA5fTbGTdtmZjTebeFvaVQFv6tGVRRfNEvlqDZkjUiiUXdzwSbVKrz+Gb2jR88Ytf3HCsrQcc7xjD7TMunGCTf/W8jUqhFolId4p0IVuXj8x2Tiks0f+0LtlI07PeSaL6G/l+2o4fHivLDOt7tajsBjM0vmVArJ7DYNRtFZGzmh9jTGtSc5rul4Q57VSyPeMI0IROV3P7KHyH2Ex2+zOWZO1Qn47UM7ocmKM6evpYpNp1LdIohGXpqVIesSlRuG63PC2J0kTJqROe6p03eUX4vMPhPjIaxuu6vMC6WKQHNUStKTDoaZvOYueshdsH69iVt0lUtudrWPtHvS65xukextZGgHhjwvUWZDe60Y0aKxWHYeFpXp1zzjltWEzpcOPcu9Zv8mNFyH1sv4pVyHIcL3GJS5SfoyZUd/TYPUkNPPFvAo9KLcoTJEMAk7LzOB6dUWvVXYh0vyTU5aOtdk7NQ//TumQjbRy9reYsdiPfKYtGWK5RoPHTKVILCdHlxjJDseL2dep9Pn2IkGDAWsZfG/yv489+SVhHxrLpBUaAJnTYTsBPGEy0zw0p3oEQ4G/sDgUCtXqJSWouq9iDjyVcLdjKi//RNnXmoOpO7/X7lFGxnxSNRLNpVOAwVrDMYt2RuvVB+aInanW6H3X1JUmvhdvHHrgBmIXeZpttOiNP/aO+jiPRw9gg8Zost7wx71SKt5d3eAt9s5rPZBnkg5kGq068CciTcvOk3+oz8HHZTTlgW5qQQNkHhU4lUpfsSeNNKz49ZUZ9pIPI4mqN3b4a50jDp4f5unwUa+fU1fuf1iUbaWO9w3mnsBv5o/60hmYGyu0MdXUGwGrb9Q1UMMmsH0nTqkRRwkCP7c03aM7Xz35JmK++JLdzhAAnz0t1XrO11LeVySe7613vuqKpdYWZhZyJ/KMf/WhQZ6kjgYNQSlb+Etw+h0BcoTKoSuRrXbiBz2e72c0GbRtEV7BQOFe+Z+JEj7xZsv/+++vjiuqxXWDTTTfVhEghn7jz8mAcMiKrMXDR5Tn6HudNXoNki4e49IxWDYGSNoa8HFTuB6mfSg9Jp1HLzzLGDQqkrbGf2K5b5xQ6daY0sp2POjMbdVf8af6Qad+DSmrdnh0bbGct3qitS1qrObZlatkCbqyoGOAf/OAHKA9a8xU6OuIIl8lvQIXN27Zc/AY1kUVbBqXWNBJaEaEcctQg48Zsjg7tNnFmYnA14VOIYw9EftaZke4Xhrp8odaTGLV8D6n2I8SBrCODWiFsbohUkVS0NTVho+4F87xJE0eqSxMIWk+TFqLi3aNOk1MKL2qiXxIWtdfZrzVGoK2lacKdd96Zt0d/msKMRePelprDIqUiAgIKqriopb3VY1eUebJ+s5iM6WzfwE+a0ImdBg+mv49WystezFM4UjZn28eQOHzCk+gHY4Wlms9IczGxJz32dhPriRkM2wEvLZaGeCb203Sq5CxDYhy3zyi6gFHclaIvGDEnvGkn9z0NCYhHpEowSUlX+7RDVqV6z8CXMu2E3U8f+U6bxua9tIR73cJIa71dS1uN5sIQ1plsnp88J/1CQY9MjEKNlEjX5aOVdk679chBgdy7D9mbLoNkTqPe4RUl5d61bTA67nsztTAG4bohM9/ySBV/YkYX1I/aaW9rOgUs3+wygnUB3qT707Fh63CqQTWz0b+tuDjUPU8FZOATGx3x3YCIp+v1Be8JBec1z6tM82xi70NAq3g2WodwREOhUTiM4ZbTHnfM+2CmPEI5tGfx0SWK9lQ4+ljKR0fKz5IYu4P4NMRerBMPaGv5IGsJDlurat5bZ0PxepZH/uI9plgUg4l7wnxbaUx7hdDJ2CxkQngW2EgeFhgBGiP+5SzUS+mpk7gRGuDJecmDtimP6oQZWqSUG+eGFyVpNje51MXoIss/ltSbEEUVsBSqKEaN+IuLMv0RjNCdR2eddVaoR2/dRUSQ9qZzVKHukGVPLRpdB+hNiwj1lXY7VRxNpcto+ke16HI0Rz+XihLqholUOBSpKqHlBJt4fso48shvwSoelMGPOB9ONt988x7PpG5lYdIjb/LCy4viz3ve80BgAOAYjpe9Ic6BrTdrCPfWOqpPnphz8Sonzb2A7fbmQaihE2444g1pHlQl8kkkWbcg0IqLvMV+UBC1Yl/DxHrkT9gwYzJoJYiT5iKy6Mgk9576qB6UkdUvcsOYERoJXTMHgizXlugQtVJeLdWVkZBZ5wfBxrdFBuhMAP4E+p2WUqPcaGx0PkVQRVC7HwfCTHXceKQ7rtmLt0Dap/IbbPhptiDCxcGJSxbFcuJQly6AznQ1drb8ouPKmy16qhUb921q4+XE8BkXOoIj6xMNcYvNVbqGaOFBVFK7oHN3tJ1ETzu94eDBAOFTesWxqHmGtmui+KBEwhXzHGgraYsK/4kSbWHSuykupMQkTII4XdNYR8ITULWEkFVCqINw9jE7jL5Nh0BbYStgnNSS6afmdFlCd2o+x0gj5cJSywxcbbHFFq5FKGMa1MDlGA3OoT3onQz4WL8pZtHCulDcqKlu+nPZzX23JDQOoY7B6pxWCSjmlPlkey4QYBSoI04PNUgxlilMN7rcwLqdl9OwFxTISSedFL0zu1EInUNc3Y3sfV46wZ3MNCqrJ5PDZFEtdELL7bXXXmU6C/XRDNwmrfv/NJrK9KcVqUr3p4bwMz3uwwu1RlGwvzQeanhmocQO6Ek5uKVdfQdXVJMELRqJeiDixAj1iJ+tttqK1tUcxzd0O/2MuNAG4o6/48FTJlsCn3SsmyJYSX+1Rdki/qpXvQpL/FdaHQ44kfaOSIGxbnqB0xs/85nPHKl74OZSiMFI2M0x8MBFgV1kvPlDvHLOCvFSTEgA+hw+/69VxrhuzlMBLf/E4mpHC4Wzzz7b2EsY5i233HKjjTaqC7fTRsv/RmvRhymKW4XJLoFz0MFfuxAab7wSF5Tf+ta3Ou7qj5zPPPNMP105ywybD67/ZbG0a3oQSjLkw+y5ZZBYkDDd4c8JLBFok438uWGcwEFArzds2ODvqB2PEM127AnzSKHvqS673K6zFzqIW/8kiH/TFSft3vlTGh9yyUKX4HldDGXHJUW/OWec3XPPPRcOeGOSxfx5RZe73OXq8p1pRMxGrQBET80KnWXFEUEWb+hYD6nLL9FH6zxTSGFuXyApPAaBTuJDZqJsCHg29BFdEz4H7aNTNnPNT++WuppE7xTDpLdD/CMwD7WNLWD95wpxIgAGFxFjaow0QW0Nw6fu6Jeh16LtDNT4OrwZ8kCnAMq9MxQubegpPSIzWjHi3CkyyV3miGvdiHj9jQwQZp3CG3gNuu7AECkfM4Uk0Lw6GxKFmoqkiLgSWstikhn/xYd/dELDDoltKQYEsVutILLTTjvBsEEHw/xCylHYNV69L3XrhFlgTp144onGAp+6wzVX0ax5znOeo0d14eVJWwAImRgmAhzzZXn6nj1dAwTYU4bSRKMAKSimkw0yAU3GUIMUl78Lp6lK7EqB+F8NhinWjeSTvqKI6DRqn6CasBQUtcCmU+la4TZZl/IdDzroILqu7hqvi02hkbROldGNdkjR9E4JbckFtGYWfcASTUjfsrwue+ImsikMtOiatBYPPvhgf8KGbWqQqvRHcFil9xQLQ6xumDydwi2z61t1jarlBUHOnKaVR4EhEFmkGDXBXgNBqJIutS6NTSqF0aGpaC1ajl1Dil0wVek6bdV9XIb0RuRm1H4yw3wCpghqJQLsp7ExKkcffbR1AKliV4wHA+m7YWBKi2yM8fZNaUYZ34aKwxQrklKyJ2HgDSS7TuysdXx4ogQdbz6oscSEPjaCoxU5rBRpIGQMfIRYCIp8mcEwAWXPCBYK5oB8PGgFwySm8INV5VFQHgiRjw450zocSsk6QcR5yeDipMZlmPXTSHuqX7bVBFEGAaikRnWBo0ampc1hCJhaGGjT7MnRKRBpUVs+OKc+zPOy2oOhhkw/T4MOwM0Z3ZfoobziI6PPhzCOFm2gDvqGg0sEJSrJKMj0PgGpMBC4GtSigVBLedwWPo2Rj+EYVKvBoerAD39OW3QKaWHUseSnLqMDarrPoEcrvjWBN3BRnUQ6aKrCpw+GIUy3qkU+DauPwkoGw0qq4ttKVBXfSpLPwhu9BmrDWvpVHg2ZgLDFMT5d8RoKsa6IE08Rd/V/+2ldUlrHhRZAxAKRdssPUgrhsXlr0J+7nwaXCQGLwEnE3eeuC8nwLCPA9IiqUL+mGz4pCmqEQqASY9LJoTFqbRwqnSZkbsrEVCw0VTEQdCbNz2eibWg2ZEPzK9YGBClqhLnBD1I0FY1NWVGY0phRq7SluhmhMEWhMA3GH/Apa1eaFrVaV4f2M4OimyjQS1QNDpGlYMO0hbKChhyxJ42izzzxiVFTnSnBT+HE0+gj8y2TDseGuoMMdLvji5Qzjtun/+HfkI8GFvKJDogha/zaBRrlJ/VTi5omKEVWSGdJj91Km+zYpNoVgziIimg2yuiCT0+BunwgrzxPAvL1o5HS6GBMlfOwHPkMwEht1YUHoaFHtBKuFNY1WmkQXDW1iaSj0SLDAcsqW0dEj7BXyE6E1eGJ6JQudE6Nwpunw3RTeZOdy64vtOcwVYbnc+5KMrH+PIYHn27f3I1dMgwBeilU0zCaP3SF7zBPEj6dWiWwjbDOIM0zDP5BoVabWsRwQ1md14mBRlOVotWXWV+Naddr9Osxk8+Rr3PWJm0IG4GcHhEcnqU22eHrrlhyReLDTL/SyqSQHzSypaEpJQahAYT1WpA1oMDh6vuOSIPs6mmORKGn9VF5U97QrNfojNTrtSk8EQlZG1azlUSggcBI5qahK/z0aRCsfzasc/1oyHSbghbb2qy/F6q06QzJwCIV6xuqRepn9iURSAQSgakiIJYwVfpJPBFIBBKB1SOQbt/qMUwKiUAikAj86xaJRCERSAQSgRlHIPXUjA9QspcIJALzgUBG++ZjnJLLRGC5EUi3b7nHP3ufCCQCE0Igo30TAjLJJAKJwBQRSLdviuAm6UQgEVgeBDLatzxjnT1NBOYXgXT75nfskvNEIBGYIQQy2jdDg5GsJAKJwAAE0u0bAExmJwKJQCIwCgIZ7RsFrSybCCQC64NAun3rg3u2mggkAguGQEb7FmxAszuJwEIikG7fQg5rdioRSATWGoGM9q014tleIpAIjI5Aun2jY5Y1EoFEIBFoIZDRvhYkmZEIJAIzh0C6fTM3JMlQIpAIzCMCGe2bx1FLnhOBZUMg3b5lG/HsbyKQCEwFgYz2TQXWJJoIJAITRSDdvonCmcQSgURgWRHIaN+yjnz2OxGYJwTS7Zun0UpeE4FEYGYRyGjfzA5NMpYIJAIFgXT7ChSZSAQSgURgfAQy2jc+dlkzEUgE1gqBdPvWCulsJxFIBBYagYz2LfTwZucSgQVBIN2+BRnI7EYikAisLwIZ7Vtf/LP1RCARGAaBdPuGQSnLJAKJQCKwAgIZ7VsBoHycCCQCM4BAun0zMAjJQiKQCMw/Ahntm/8xzB4kAouPQLp9iz/G2cNEIBFYAwQy2rcGIGcTiUAisEoE0u1bJYBZPRFIBBKBRCARSAQSgflAYJO//e1v88FpcpkIJAKJwEwiIM7397///R//+Id9XhpVOjd8Z3KgkqlEIBH4t01e+MIXJgyJQCKQCCQCq0Hg7LPP/t73vsfne8Mb3rD55pun27caMLNuIpAITA+Bja5znetMj3pSTgQSgURgsRGII31Cfb///e8vfOELX+xiF0ufb7FHPHuXCMw1AhsdddRR1BY9ld+JQCKQCCQCoyLAAKjy5z//+ZWvfCXP78ADD7zsZS8rM5VqIpAIJAIziMAmN73pTefab03mE4FEIBFYdwS4fRe/+MX/9Kc/Xfe6173yla+87vwkA4lAIpAIdCKQb/J2wpKZiUAikAiMgIA1vc8IFbJoIpAIJALrgUC6feuBeraZCCQCC4eArd6F61N2KBFIBBYNgdRTizai2Z9EIBFYFwQy2rcusGejiUAiMBIC6faNBFcWTgQSgUSgG4GM9nXjkrmJQCIwSwhMxe2LVe9vf/vb448/3s2lw/fXrVfuQRi+/HqVdHz7i1/84q9//ev2+l4X5Cuwet4Qb3/Qh2on8d/97ne/+tWvFviq2L/85S8/+9nPfHd2vzOTOEGs89FMZRq17373uy5+a8g/AZBjKvmsAcNtedPob37zm0GYy//FL37hPYY14G32m4De7DOZHC4tAu3ZHTkBSP/TQWWmCibVR+H/4Q9/mGorS0h8k4n3mQ14//vf/7GPfYw9IEnuMrjzne/8qEc96lKXutSgthQztB/96Ee/9rWvPf7xj7/+9a8/qOSM5L/iFa949atffbWrXe0tb3nLVa5yFfzrNbP9zW9+8wtf+IKLu57xjGd4oW813KL5xje+8Tvf+U5NRKaIwoMf/GCNlnwu5mc+85mPfOQjJsmFLnQhzh/A73e/+0F+McIPXCJO9rve9a7vf//7/AzvS3r9/DGPecy1r33tQR0EFG/vq1/96gc+8IFb3epWu+66a4FrNhNf//rX9QjbL3vZy+5yl7vo11//+tef/OQnIVEnn3zyXnvt9aAHPWiqzNOwpFq7NapgvN71rtcAkKRhDLbmODHD3jWucY2HP/zh17zmNS9wgQtMlclZJl7jNst8Jm/LicCnPvUp5qlewrEXl7vc5Q444ABzn9U+9dRTTe0AhzC7hHKrrbZ66EMfepGLXCQyjzjiiM997nMR1FBgk002ue9973vLW95SYoKQ0jk//OEPae+vfOUrdP5rX/vaHXbYYYL0k9S/nTvRzy9/+UsOB3/Ih2tyyUteknAQGm4fkWo3dc4555x44oks+u1vf3tCptaRRx7ZLjZTOaeffvo973lPosP/eN/73oc3OS95yUt23333y1/+8vK5rd/61rdWyTMcOm/SBtQZZ5xRiGvapIXbIYcccsIJJwCZ/8fjvNOd7jT7SJZe9CR09uCDD+ZVhERxMqgYH7rm6KOP/uc//9moKwcmtBtPxUrDGL3gBS9olJm1nxs2bCA/oYz+8z//86yzzjIvjOOee+55wxve0AzSi8MOO2yqbGtU022FqOn3vOc9ddO4fdvb3mZEuKGG4LTTTvN9r3vdixf+pje9Ced14eVJ//GPf3zEIx7BPpmGy9Pr7OkcIUCX+gsZipT+pFVcM/SOd7zD/NUF0/a4446jAcx3j+iBO97xjqIwdGmtY88888xPfvKThBwFqokeIPYTR8B6sqg+nBx++OETb2LJCU7S7SMiXJ8HPOABxok0EBGJ2972tsTIquK5z31uG2vRLP7KPvvsc8UrXtEAz5rb5w+Xah+r8C/Ix+1g9visMk0M00aXdV8vVu/2IQiWq1/96hw41Mrnxje+sZnG7gYnGlWMV21BVvj0FHt8aL6pmVx4nseEDr785S+nZSz4TjrpJMNxzDHHMK6x+rzHPe4hp9GvU045xa259BesjAUcXvSiFzXKrONPI0tOak0azOjX3e52N5OFwxpPjaOEvgge+0zb7fvpT38qhsp1K8ImYeFBpBtSRO/z+Xx+9KMfFSR5fkJ9Vnqf/vSnS+ZSJWL6p9u3VIM+d521ujv00EM5bXQj42LW111gwXl7HvnsvffebTWlcOhkK+rpaSSqj2K3hgxO0u2rx2gi6UnGZj/84Q9bKzz72c+OoJcxY8mkxYGdOWMYhJdLuDhG1E9+Pb9Q3PjNb35zZM7It1Dz5z//eQ4rVd5gSSRJps5Gd/Bvb8sOXaN3jVrD/xRyF9+2rwfARq1Yq0WmjTarN54NhHkGkWlK401Q8OMf/7j9TS61LjSIzMvPH//4x8SGRHGyg2eqSvSOINmScBLOsTPOcd0dY2GTFEo2L1SvH81C2kkAg2tphM+aH/3i0NthoU/jUahmEiVBtOrCE09rl7SQZ5u8tQxrV8D+0pe+dGnRfi6R04WnPvWpQC75HERh/uc973n8VL5jrOLK0yVJTHuYlgTG7Ob0EGAszFPhNLaDUTaRrd9KczSAoxoOnDjpYXfVU2u58jQShFw8W37bLDZKjv2TxvNZTh0yNmgjVTyf7RmpZqMwv41A7LbbbsXniwLkQwxDmiRxpBq1yBxRU9Gn8Wh9f+Lny1/+skDRoPOkhLI2kJPl1lE2xG2c/Suocv6P+RBt4dAWs9c77HsGwoUHdvoWt7iFAnbP2emSP18Jvohzine9612Lzxf8c4y23357bq4C7ZcJ9L12R2aqy07CWWofe+yxndIeDlbDHQz+O8tPsGv+UkwMb5dddrFxU4ubyVv7fFpkLayFLHKcH62XE9iWQzidyDFxJsjbHJHqHLs54j9ZXQYEWK573/veemrxLDZfH/UjwJy5cPW+fd6nDQgjbu1661vfembVbJvnzGkgMDG3j8a3q8hmNBrwkzB56hGD3X4aBTrzp5RZG1Fp3kOdE42y0PZPnanvUeVqtSuunmcvAnshRhxL9PQb3/iGadbJoaWYZRkGzNIS6ovWWWURF46jcJcpOhKTCmuus8VG1wpZiZJulFnlT/uMQndtIgbFh/6aEdVTIyDdiR4PVSTMyzf9WPU/bUMxkRxvUxF1Jy7EUK0TOvnXkKWdPWgLIRFWi426acNhLGzyeupIUG1L6mKLnV6XsVtsSLN3E0eAdbCQDs0pxm9pXTdh8bnzzjubzsI0MdnrpyTcuo6KuN3tblfnl7QCPoMUSCkmMXzJulamJ4LAxDZ5RY992jxFuJgXYiOy/TRySMCgR4PyVYnwIQkjo9G6hLc++Uk+QVN+cYnkyCflHCYHv0QZXYoR97A41SQnSiLIBD75yU8WtBDqYMZUkal86aBWGDauoSqxNhrE56j5mDSvOAcqctq4buyrQ2z3v//9NVRCfZ5i0vSTs+222+p4oyHc+vAdv/SlL9kpLpw3itU/gaM8svolPwI/PPW6UfmggDzf1DfQJIR/AMLpbwR6a+JjpLXbCDUVIgJmuuzV1zK45dFqEnoU8oOIUBbw8VBLmnw58aKStEfKc4ZIlExCHi90c9ZpVSFYYxdDQ4S8tPG6170OyCSH4KETwhkFoOqR2K1vG75U82o6MlJdzDhGY+ix9853vhOkhtXb4s4JEKGalLngDTs5egec+pE0xPSX/NgeIhXQaBRY+J/tabjwXc4OziMCQjDUu01eFoTn55wVdRQdiZBBpJmhxz3ucTRb6SON99nPftbqTrSvZEbCI5qNJmS2kDX96TEr80K5lFeSJmFlFKZ8KA321/slKxoputGHqvQx1ygcxH3nvCvYDpmYmNvX2R45cAsJC8GLuvnNb95ZRuYYw8ZCE0pRMVJLjJw/fdrTnkZkGU5eiLcghaiVIdCOgmnCNpbYmMOh/DyGzfkkXp2TTGQ0Ngq9nyG8x88giF4gcG5MLY9cqGGrFIdPfOITHXdl41VBSnic1D7lKU+ZrNsHMafZsIF5ac2ZQuyoMMyBBx6ISVIeMJq0OoWxztliriISbhzXpLNM0PENQLh5EQR0DmltvfXW3sgGDqAe/ehH3+c+94kwLX6Ycz6Nd/jBSCOgDHY5pp8D/l6/KDSnlMCqawg4H9qFRlunjN0uynYwLXDf+ta3Atar0Bw1ysgQkDTKzjdtRZ3xpI2CATIuJBBoxojwUEaqkCtiAytLalu6NJqSH/zgB8VuFdCK0JqKEjvttNNjH/tYXeAqkTcSpS4fncSupdunacwQGKOp4z6EAcjOGAC5jt/rF5mHMHFqIy+HOxjrKETGHoj5rQjG+WU+OV8eBHhaTgHRSKY8Dea1rbKKo6woInPZI+bDdK5XoYyjqITTIA2DQrMxuE4nM47sDgXifJRW2CxHCevCyLKeVBzj4ug5RcpYU56U+ROe8ITGOrMeEU1QPk4lvve978Ukt3XHHXeM1XVNv66S6UEITNHtYyO9pcEQegGC8ejx7cZQl8SUO8JWkSHSQA6ih7affPguItUyLQ7ko08QjzrqqChssRKH3pwbI8FONZkAb3/727fZZpv999/fAoWr574iLh0pfPrTn+4APpkzE9DRlpfeWXoJ0iZ/ELLj5ZsGglgY49X9/Oc/54jwCUw204nrrEemaHh+Xlk1hfCA4c62AnAeyYrwAmfffffVkLlqU5XPgfIRRxzB6ssXWpPg+WHDXR6f+MQnOArKyPf6sInHxZHjaScbE8zEFd/LiOgypypwmBR9cIlvceL1hWemU4EbGSAAmrM85fXGIkGjAnhx/MUYkUb+os1NbqIrGw2cyBmNSZB8QMe9Q5mjDGQKThnipEUfA0SXcfgIJ3HSx0n1aEg6FKh1DsZw4uIhLinZ4+yK/JnCFHRZ2MCEJUBWWLcTfN3xVC0lh2x9kYpF9xepR9mXRUVAFMa8tn4232kwR/qipyY4teap00FmMafQNREcuHhK+VNQdp9qUacnqS9LXH6Y+zr4czSA9/DcbitWouJDHvIQ6i4o0HIMHCIUJm0p0zbR3e9+d4WvdKUruegtirW/UcCwMuh7hYAdZP0Vqzlp18qcTgQm7/YRAtaRHHCnIkDy0pe+lFHpCfiNPXJsTyMuEqS4fXW+TPtW4jR4I+iEkv9ELkPsbMaxc0Qfw/vtt5/C8QmRkpYIqZU2H3xe+MIXstydgK4yE9vhuZqHuDUJzRN7cBxNfoZVEQfaI5yER4uxkP5B7bLl/b4pOlxzTp6+CzVFT7Eh3MUd5PC95jWvucxlLuN2QIw961nPuslNbvLIRz4SM0B72MMephjosNcO+w9iaYx80SOtWIbSO9wvnpl+WR1ONuCHMd3vdGg4mlaxCoQ8SFg8iCXLt/wlTvjhj5INBWK9QUigStgiVloqSvgEzuhwoYiiiKl9VYB7JHMtP/rl4xilRil6E+RDH/qQkCc/XswPexR6rMKLM3eJS1yinl8NbhXjNTYyl+GnCbsM3cw+LgACFnvCeGENzXc2RacIsClPBfnTBOtVmo3WpWwpeZnUGl+NGaUTagTYAhqMDuG08ck8YpJ4Zta96to1sktWqngNUcREsEDJ0HUeoSmuYdnc4/Zp3ULUrgtXkt+ZEb56CEZNT97GEB1Gms0wrmyJ4eFYCKeRDI5CJ39jq8tRK4atJaAWHOHz4Yf9JnYSxLdhrgbRVzfku7M7k8o0KzQk1GTmuKyOO8K3EJjhxoHUR0ODOPQoJtWKzJjY7373u7kmwv7FF1FL2uwyghrid5axs/ILx8gj81krfB3XeTTeJl6x3ZEK8CT0XRUOfWgQi1EuKc0yEp3VF24ADiU5AInb6gNzMn+DG9xAJp+vc7uzPTT8qojaNuivnuGRKAhbGk1LGisBXj5Jc4iCSxpEyuxwoddIZJekcHtYl6Tj2c25Q4B2ovBZMXM8NsF0gWsl9iFEYv0fy3hhOY5aBA7EBYVvvAVcu1z0lcUtpw21WBwGFLQ0t1Ka5+dpUWsMjaa5ffVkiTUkDU9hdiKputNi/EL+aGPXuLN8ZvYjMHm3z3CyzXGozhE6i4ZwsASEBhnpWgL62Z3IU2LXaJEjyH4T+vAtSiuNYiU/3KMiyiV/Ggk8mCQlVioCz6XWhXIaY1Cjwd6gLkQtZYTQIiKllQYpA0cFoKBFqqE8VctEdTFe4FDyexKqdH56qtSPKBGBPcFOHjAf1G6sp4LK0nWxNUjXeJY0NHzq1ulTSlCXMem7fiTdzkEqqMV3o/yQPzsRbre1IjVqnW4VTNUpM6Jo7Qhbqr7xxhv3E1lNL/opz/LTMaCe5e4kb4uNgPM8YZpjT0ln7dFZ3ntLlwbgxtG6RJrhjjU/EyDfYeV6dvMIeYoWhGy9K5zK54EPfGCUZ6rEFMvUcBmts9FxC71MMQUaxkfr7G9ZWNbIM092TlxkK87HGa1br4tlengEJr/Ja1SMdHDA+DnYx/7ZFjSiTtc5kFevCaJYkYnh+Z5syZAkbDROVg1ibFD+ZLmqqQm92AS0coq4l+laQI6wX1040tEpwbl+5yxeL6hHrSbl/1hF7B1oc5Kvzh8pDS7LRN5DXUsmymJLK/qvap3nVv3Lr1KYj65TrhWFBoWCcjl8VtOfUroe+pIuidJogO8nifK0/IwCjZ+llkSbVP20J00wREA56DVx1ESy4dMvA22yyjtzY/fHUt4pUhoZ8kQOcTTd1N/ms7SrpE+b5sLnFAQWvqfZwQVAwDrfVi+1bJvL5inTLARAJ8cfddDMnnLI7FdQAky5N/ns8JS1XyDA7bNfZL7bQKMxIi7oUcyF+Fa3TA3a24f2YFN4k/aU/b3NoCBfNGHnweKZu6niAsA+C12YvNvX6BWD7dyAoLGdRJv6ZKjt9hWZaNRd+58NTho/156fukX2G3Sse0wth1tNNl6FeWs3ti4Z6ShmC7vf5HMUlFe4031UN0Ao87nd0Io56noP5vnPf36DiJksn0e7IoW6AH6Ek72Lw+EjTmvs9tUiUadrDut0Z5m2z1SqdJYvT3sSdLeTl5bmjTL+p86hw34ZaFSJn5Q1nGn8MmpyDJZZ7EMO670eVXQq+sUpb8/xziYWLDO6v2Cdyu4sKgJUjcsEnL8SkbGJ5LII60bG2jTXZT6WY9xO55vpbsAQ+eOlWWzH0xqTiJWY8hE7rB91pjl8Tg2KEZovLiYL51L0YZDqY8J4nyKRTpl753I5l5SdSI6dOXW3D2fMw3bbbcftk2jshQXfM6suexgbJKNjj8SKFa3DhFvEXWLiWatZeInPNyKUQcdc9ZFmuTsxL80FNTPf1FK45NcJnS3BxTp/yLTqN7rRjbx7VePJmfC6dFuJDEMTwbhWQNcazscw1VdTpu5CpPsloS5f2u2p0lm+VOxJ0IZeiKMia+JAprvH8Pk0BNsttthCwhiFCNHs4fZFCLPBDM7jICPtv5zr8hr5Bjj5MxGYQQSclmFHbJt4mcypcSbDLm1R9aIJluXWeArEK7qdBoLY8+T8ve8wHRRlcO7LJSzOkHhHmEqhTGLiDFJ9trm8yChqYGuY9+mY+3gKbRj2lqTMWrh9BjUkic3gu7SRnVl12cPYIBlt925SOeYkK07umXY07dwJq5iuJ554ImYarDLA3DjW+mY3u1nY7EFsmMnOXJq3AumDyhg+Ltqgpyvmm6V2EHxWLDl8gZAo4lRfLDd89bFL1jhHul8S6vKl0Z4qneVLxZ4ET8tSuKfAqI8I25lnnokf9ziGCEGbt+1laqLVjg1T33HRt7A0KR21uQUo3zOsC9C77MLiIWBF54SfozImr4CfdH1gxmR3ttuk5qv5uOqhM55HOdAViDAi3LgGSh6hjA4roBWum7ta3Anqpd3iX0aVQapPMfeIOSko4OeKMQp/qq8PNvhfyJ9jvtJBwQ2v45TksohGCPl0RmiHJ9UYg0GCIiQ2Ns26CUQGNTEov67en0Y8Pv3FylMxdrbWwYuIb5mB8b6FpZj+lmISZlpswzmK4dPPqgO8BsWM9d9cKtZ0pOWbq/zLqd7PoqH/D0bz7YcGP+UniaJu9C5egC35k0rgpyblZ4BT50e6H966fCHYU6WzfKm4+gT6QzZBqGygWxUUS0DwrCI4f84VMAMNZqxArBx4n25hXeMQbIOT9frZM6zrxVK2mwj0IMAVE94Lo0wt3OEOd6jjMp7aQIgNGTtLXvJom28yHyFAJ/w6X9mUb6c4lKedXFeiUixWkog3GBuklzTBALleQNiIRnKUJV4xaVTPn8MjMI7b5wCmHVtXMTdUP6ckIlKN5kWenAblNwxy0sdWl9YBPpqrww/cFMuCiEYMkqQGh+1iWPKRXzwhBEsxCR8FGnTaOY0C5afq1kD/8z//YxEjXfJNCXDZci3txiM5bjM3J/1tRkwYbXlbitNjn7dcsRGFjYt33aWjQCHeTiAizu8uYo/MT9OyLgNJ9/diSaAuQoz10wmmNeRQmlVggwEgkKga+WhUeaePrSyd8Gurj9UwhlqouRiFQir2QcrPSMRwd0qCTB/FikiUhE7FI70oo3xe8fOVb7Q1kZ/cste//vUO8RCnIIgBnr0ZbZTrJvBDPokEhB2+KY8cxyQwClPx+C/56DidLV+BOBJeHi1PIoZ1efqbPZ13BCglsXlvb+iIKBob3dgacmNfrKvtBZflX91rClPgQC0m2O6t04HUQmgzCYY4/qkoyApGKKa61zjKZKE0yisdRUnWTUSa8+BNXutJmseOc6nSLpk5KyLQdFxWrGAs/aGF13b85QATUqyFYfCWtft73a9jaMugckEcGkDWufJBroPCYf98l4orcqIAglYAEjaeuKEWASLSEt5LCptEzggi1yGoBfG2G6FiMFBaJ+IcSrbfe+MOy6Pj/7WCJlLMZxjOqFWIBxoy6/x42vgWLxG4JsdeaJeOp+hbynh51t1ITtoWz1Vbrs/Fgz8OMf0KKSbW8QhP/StOGQhdYK15UV6j8WpVYxqXuiXBeXLMwpzn2biiiRMQj9CBqnlrvmG10An0PD3rrLMKkVUmuK0kChuu4uPFBjVoAIHbYZKDqECqp8ZCFWj0xCBVj9EsFYdh0nJWTJr24YDaj7BzIYgFB2dcAhloW7wSDMTjg6y2fGr6xJ7YyCmt057WrHKoLfKjm8giHrUQj46X8pFfZLWRH09H+taELRLyZuWg6SDobLW79a3jTc/CjL4AXPc5cASs1sV2b81x887VOaU8NvTIP7gQTu/sN971G4nJuS5cAzXXHUnmlwcBq9ztt99ef1mT2rgEAp7akJUW0ouoXgMZbp/LnkIPMxaUAxNmYSkwJOHeMerU05gadqgoB2qTAveuGAUi6kEpieEhy0yzcdLFjEZbyktoyB1eDohL80Be9apXUcJRIL9HRWDjZz7zmSPVcXeDd3BE71zZ6rwXidl0001ROOGEE/wlqxW/D2N57rnn8ugjqOsCCP/xECGlRltMo0XDfzkAAEAASURBVKOgRx55JLPKcTz77LP/4z/+46IXvSiXwj8BbLTRRo3yjZ88M/LEXznppJM4Ov5Jxv9csZRsG4+BuPz7v/87GcKnhACYk6THHXechq5whStohcfDFrqQloyefvrpiDvD7g1Zj8TV9FGnCCLRdNWQ/UT/3saj9Z+5uGUX9REDDCHi+qjYYYcdhjgG/K3F5ptv7qlPg+f4iSwzSXDV9fJUnJzbsGGDGLi2uKHuQ/fXZ5oAJin3f186xZMr7hc6rk/jIyICQO2aUXqBDUFEE/g5z3nOtttu29l6nQnkLbfcUtc0CiL+Cpa4ILwT/9Jrovp7LmZeFViJAOm7i3iIgTHixwAZXOZkTXPUtP1lHqeRQooXEu4R+jrOiQcI55svQjz8WTDxwycVIJZ5wQtesNFW6A6gcZSBphbEDDd3zYisyCdxoulU1JDOeoWNCvvBD37A+zzttNP87zCQAW7Q7WbSUCRHMSMONK3wGuFpCHDuyhtpORw+tWJvlEdOVPBvfDFPIeo1WRLKFb80p+AJc3xCmKTxrkwigiFHvhHfbLPNVpwXDUzip+GjbYMaXWyJjxo51EGLJWFdH+J66qmn4oRwOtljWRJr/Zog0TLljznmGOyZLM7/mcJEjuS4tZsNGI+9uol5TJMBqs+cZSZJ2jx2IXleQgQoFoqIRrLAa9toKoL+pH5dxMYCduJDI4ka0CGsOfuoMJXCkLGeVDSzVaYDNagYvcE3UEB0hpXRKCtm/UmBsCxmECtMpYhlUFZaZEzjyCDNTL2rThUzeTSVpsX/2lvPnXxmZkFgZLePeTMMDLB4mLABdyFoGRiG0FMfg2rY2AOWhqy4unnQCwFMoJJEgWNh+J0cCkPOcvBFhrEfTglc9apX1Tqjywj5K944eUoEWSCXepM8RjpcFiLu4JGGMKkhdhSrLLG6MrEqXy+UJ0y6Rui5ID5eJuJy8Qn4RmSRdWQ1fRRmqkkzEWQI8YxO/EODukGnsxcqyscDI4HPcObQ1xdp8q06z8NMwKE++lPXOBVbRi4S+LzNbW6DAYV5J0KbZoVdOR0fNEsbFPzUrqCpWL35poPeEUFNjwR7ROCgFFV4liYbbwwnusn8c6p4ANAL/tuUh8xx8zNSWvfvjRrVdxWBg7JvxPk9fCMM+CgmNMhhMppt+vQCf4t/RhcYIHwizpcS3CIeqLWrNHLQ5/FwQLVuBEXCSJSQJ0B4S7SY1i18jbsRl0lotWJSyFGFbNChaGo9TsMYTeItH8i+DZa1DV+fJpWgKEmUUTZq6CiD23AfKUEMI+ITkqY899F4NXge5idRsZTiTWJsjz32QEqtIGgQfYysyQhh9P3piLFQvk3Z6FDT9ob0nXsNBJFXDIPF7Iuxa9da+BxuHzNGz6Tbt/BjvWAdNN8pPfqHpWt3jd6QaTWuTPupHIaMahUAokwoNy6gizv8rfzee+/tL6aKz6ck88qqKoOUYi4Z2GeffRwftLa0+mVoKEDbBbQ9W8YihLFGQRPh4VlyY5KFpXWpLJNOrUGMdXKbmf8aMvGkMYCg3RgnzlbDAsm33cPEMtVGl4lapUMwJG+GXziHTWViVcGbnJDXISm0iwURbgSTtkpSbeJyiDUTC0Ns1wXkC7ZBUiYASXmjQF24pHVfzFyvlTeLGuNSiq2Y0C4iqk+p14MYMO11oS0wmCFRRgFLJApcGBtEZIL5ZBg/ZABLASZOOJqdvubw7RpcZBHRkeFrTaqk7hA5UxKGtYTIBLKnJI38tOd1JwMgInLqFr+2s9iSZJo41khgFKAtK6Ul6Xt2c64RMPEpWGqh09CEJhxSJ1BuoSepzUGYhBaif+iNok7pfx96qZOHQaQyfzwExnT7xmssayUCiUAisJAIcPvsifOD0+1byPHNTiUCC4PAOLtFC9P57EgikAgkApNCQBhjUqSSTiKQCCQCU0Ig3b4pAZtkE4FEYLkQqPfNl6vn2dtEIBGYHwTS7ZufsUpOE4FEYIYRyGjfDA9OspYIJAL/i0C6fSkKiUAikAhMAIGM9k0AxCSRCCQCU0Yg3b4pA5zkE4FEYDkQyGjfcoxz9jIRmG8E0u2b7/FL7hOBRGBGEMho34wMRLKRCCQCPQik29cDTj5KBBKBRGBYBDLaNyxSWS4RSATWD4F0+9YP+2w5EUgEFgiBjPYt0GBmVxKBhUUg3b6FHdrsWCKQCKwlAhntW0u0s61EIBEYD4F0+8bDLWslAolAInA+BDLadz448kcikAjMJALp9s3ksCRTiUAiMG8IZLRv3kYs+U0ElhGBdPuWcdSzz4lAIjBxBDLaN3FIk2AikAhMHIF0+yYOaRJMBBKBZUQgo33LOOrZ50Rg3hBIt2/eRiz5TQQSgZlEIKN9MzksyVQikAicD4F0+84HR/5IBBKBRGA8BDLaNx5uWSsRSATWEoF0+9YS7WwrEUgEFhaBjPYt7NBmxxKBBUIg3b4FGszsSiKQCKwfAhntWz/ss+VEIBEYFoF0+4ZFKsslAolAItCDQEb7esDJR4lAIjAjCKTbNyMDkWwkAonAfCOQ0b75Hr/kPhFYDgTS7VuOcc5eJgKJwJQRyGjflAFO8olAIjABBNLtmwCISSIRSAQSgYz2pQwkAonA7COwyd///vfZ5zI5TAQSgURglhH4xz/+we3zoVEjPcvcJm+JQCKwtAhsdJ3rXGdpO58dTwQSgURgIghw+H77299e6EIXuuQlLzkRgkkkEUgEEoFpILDJjW9842nQTZqJQCKQCCwJAk71/e1vf/vhD3+ovxbSnD9e4JL0PbuZCCQC84XARv/85z/ni+PkNhFIBBKBWUPgT3/60xOf+MRf//rXb3jDG65ylauk2zdrA5T8JAKJQCCwSb59lqKQCCQCicAqEaBIQ5fW36ukmdUTgUQgEZg4Avkm78QhTYKJQCKwjAhkhG8ZRz37nAjMGwLp9s3biCW/iUAiMJMIRJxvJllLphKBRCAR+F8E0u1LUUgEEoFEYAIIZLRvAiAmiUQgEZgyAmvh9tGGf/3rXxf1gsC//OUvf/7znwcNkxu8vOI36OlI+egMj6F2Ye57pCbmqDA0fOaI4Tar5sUf/vCHQb0w1sMPd5v4SDkxQ4f3WjCG7eHLj8TM/BbOaN/8jl1yvmwIUF9s97L1Ovq7yVS7zR9yqYEPFwTKV7va1W5961tf6lKX6m/0d7/73Xe/+92LXexit7zlLftLrvvTk08++WUvexnpecxjHnPd61638MOc/+Y3v/nJT37iWy9ufvObl0ejJpjYH//4x0j97Gc/UxeG17/+9QfdtgjkQO9Xv/qVihe4wAWUvOlNb3rhC1941HZns7xO/eIXv/j2t7/txUlpsgTeq1/96v0W1wB9//vfNyh3utOdYDIjXfvqV7/6lre85apXveqee+4Zl73F8JEZI66DuL3mNa85VW618r3vfY+0/PznP99iiy0gSVouf/nLdzZqFXH88ccDn4wB/+IXvzjBxuEmm0xXjXQyM4OZhm8GuUqW5ggBhtJ8pKnqOWXe+TRMJ2GjCRkFqi+0nzKU2w477FDXnaO+rw2rFBerTeOxCNIHHHBAoLc2rc9IK1PU16zXK1/5ym984xs3vOENb3CDG8D61a9+9Qc+8IFHP/rRTHWnaBL3z3/+8x/60Ie+/vWvP+QhD1FsRmDqZMPEY7mf//zne3qRi1yEQ+abJMn87Gc/qwsMpJyXvOQlY7t9/ObXvOY173rXu/gBKGsIbqg9+clPvsc97tHmirv88pe/3LWxt7vd7a585Sv/6Ec/es973gPG3XbbbdoORJuZiefQie9+97uhcdnLXlYH3Y726U9/2s9ddtnlXve6l3VCu0VBKaPwkY985BOf+MQVr3jF2972tjPi9mGMz/fGN76RhFz72te+z33uwzf9zGc+85WvfIX8UEkuAbGQmOqosRkWLR//+MdN1XBZYHjPe97z6U9/+jWucY0GmMTvox/9qNtJlAE+tr/2ta+94x3vuP/97/+ABzxgxbVcg9pC/lxC+7GQ47i+naLzP/axj7GDEYsy3e54xzve5CY3aS8q+HmsKltDY+CZcrv3ve+9vszPeOvWq5QYHcs6c5otcZ/0pCfNOM/TYG9abh98X/CCF7z5zW9+2tOetvfee4s2kVpm7PGPfzyTxnjwBWstyaIfccQRxoN55uKw6PXTafR8VJr4b7DkJ2vHBfn9738vUhKOrEzuxV3velcIkC2tNGoN3y5DC0OA3OUudwEjBng5/B6TnEYQa7H+q6mJqirm+7Wvfe3d7nY37fItXve617HirhN70YteNCiKUxOZ2TQ09F0H9fq5z30ukLFqafuEJzzBfWnSD3rQg2qXDlycYOgdeeSRdKjqUWVdOtgWHtKCH3LOf4pQnxzOFi0f4UzD5zM9brl6wCS6AORiWnFxoM1BIDMn3MFLX/rSpXX8Q/LAAw9U0jImnFEy9pSnPMUKhJgJWOpLKb+cCSgtZ8ez15NCgKEU47dFYz5+8IMfJFHUwh3ucAfLwkYTlIPloplonn7xi1+k2/faay+6capKo8HD3P2ko+yVUbmiUZiHVVszz12nxmH43Cl8NmzY8KY3vQm4pPCXv/xlacHV0E996lNJ9v3ud78//vGPJV/ilFNO4dMofMghh6jIfh900EF1gfVN45ZLes455zTYkCPf4uy0005rPBLp1BFzkjVtPBryp0Cd2c5rOeuss6KKVg499NBwbp797GfXdM4880ym16NHPepRZ599dnl0+umniwvihKtkXEr+3CWOPvpoOo52EzCumQc+/4kGVKDO19nDDz/c3qXy4abQp2eccUZdZg3SZP644477zne+027L0AhDkp96vEiUOWIm4/lLX/pSu9ZEckjUwQcfTGDwFlKBz5/+9KdC7JqmHEXy6oZMTCtj7qkVRZ1POLmq4sqf+9zn6vwlTFMRu+++u3XICSecsITdzy5PFgFz37QyGS3vRUl6iIv2WSsKEMy1eu/p4MQf0XW3v/3tYWvfTHri9Gef4FTCCQIJNrBEpAS96hAL51oOORZUsJSBe/lwj4yEfVJ2PcJm5dG6JwSK3v72t5tdoiANZrhZtlCFPdqbXKtcdWnUFq1QCtEsJ/O0wjDHIcITTzyxfpVECFA8Bns23cIvDFZphJ122slY8D5Fvxr8z8tPaFhIOOBoHWwvo2bb6g0gIsSHHXaYsFN5RIpsjjisJkBVACxP1ywh6GvbHeftFnlRPHLys/ZxMkf6CM8znvEM4MR0I64cuAc+8IFmIhidfaml/Z3vfKcjR+Yy17nuiCr4F0sGvvhE/WgJ0xntW8JBn1KXqX2bPOamqcoFrFV93aJdMk/ZTeuNWbObNZ8zlabrfGaKpTVmZvKdp/ts4wqisrViMLULom8stF1RovyFL3yBLS+9NQyNkuXRuie4Uza2bId1cnKeCE0eRs3d+c53br+6AVWuDE64gMVdYKcFjRy3h60oUS3TdIG/Xeb8cYzm1+3jWFgq6LW+NzxsvkgE8xTgY9VjVCSqBqQuMO00pSzoG9umnW11Cs+0uTVDWZGHPexhPLwGV+THh8wAuVgRR0VF4s1W1oWbWFfhuV7veteTY5vJYq9+tITpaQ/cEkK6tF02+x784AfT2xAwub75zW92QsFM0Hs0PFPbWSAzE4E2ApP3V7ggdnx8i1EzIY0mi9fCNXQKrfF0LX8yfuITxVEwf7iqDrnXQQ5lvvzlL9seFfwoVrDNJOuuel2xXWbUHFFPcZR2mIr1dfaL9b3NbW5T3BoWN/QCr7pdhW1WHnt27kp/+/kJcLiJus+b7O+apxhQRSLe9IzDyP1NjPTUKUmHlynBa13rWu2KW265pV7jAbfYaBfozGwXGz5HT/ET3Yxe45B7VDdkCjjb6o0ciR6HwBKoESeriQzP0vAlMcNRdri2XYUY64V4akSUo4B3YgwrYaszS12CSsDIFeMEipK/hIlpD9wSQrq0XTZJOXNieBCw6LXuaitV8kbtm7AO/5UQQAMxZRQwhRlcqmaQiFJBoYW0Qu0zMYNKNuiv8U+6FG8sNYssPah1FpkpZw7gE/0aVHI58yf/SofBCH/OZq4jZW1YuYNkmiwamE7b067Sn2P7iaQeddRRXKJtttlm1113ZYoMPEvskdNdrBFmHIYLl0ioQ3kC4TTYzjvv7PycHef3ve99+OFYmGluYxFDUstLjs961rMQwYBFlWkjcbOb3eyhD32okiYGV8PuqsilFvfdd1/2r5/VVT7VIuNKjrVV73Wy1qYB4nWQprRFI+iOaS/gp2Q7xlNKSmiCjRegctJLSV3m33DfvSNmF74xoAbRDOTlQ8N7FR/+8IdtJWtCYW9IDdJEdXNDpu1300cGsRNh7GGA5+EIXZxOa5Ad5HWRVUJCJ+qsMl5Q9VIq/8aw6hfxQJNQ8bCdmAxwdJnkhANtCx7gr3/96yGgJJBtknqzRMeN0ate9SpBYgkE7YESEhSs4MFoCYGs4TCa3/rWt5x8wHZhsiQavZj2T/PCSQaS7EWNesFmXugFnr231OYBAgZFAR0xZXpWR+26C5azXgO3YDBmdwIB1kpI3l4TW+b9U+nGuov6cv5bDJ5K6QSNzqeQzV9qnP6koBz4cbC+qHHannVjwkzeRz7ykRR+XL4h4X0vWyvapVTNa/S32morhzqcnKGH/aQk2cR4et/73ld+mweN4j929swO1tmxFgzTunwyp2Bjymy33XZiHNzcIKsKfrRCWxYPQWc155YPfeEHAwczD3/4w1Ws551i7kP45Cc/ebnLXc55d3oJD9tvvz0Fy0a0OYwcqg8I/Bbeghz88FLwQxnWxAdVn7v8ybt97Fm4fWQr3KwaFCBuvvnmbIPBMCT1o7HTpNlgO01IkhyJIFhGi60lFpgxMdh1ZswLrfghrHwa0mNKaFGZl770pXZIccuAMcM8QlLO8slxbowLyHibOeYA4UYWKXadmZevRYsPaReIaGvsLgxTEVfk3iuWXqjkW9TY8rT4aogwwG27KyckHp80SH9besTTRVzHxYToBVNUT80lM4dvF16jsePumF3RfUe+KAi8YcMU8tTr2xN0+5yN033gh8ZpdMFIeYRVHmrjUfz0qDNfLX0kEpQdVUI4rQGiFRoWNa4bLaPpcPsIkitLQKHX9AJ3jZ+kAEwU/tSnPkWoMIMIAMmhY/6ifch6H2LHHXfEBnnzEx1YUbjgktkIYQ7itrMLk8o0H7Fq5jobbkWByULZ+xzEhgiZICWzJPQ0BhoC68J54WTdE0ve/XXHf8EYMAc5PV6LDIXDGaI9aqVKgfhwfepFWgFBeS9gWcrSPCap99toM+rdEpdLR00xdowmXUT1IXujG93I6lpb9CFJvsUtbsGYcn2UYQJQYED9LAxQxRSC8qwkT660WyfoUo8YFEtcZto1NFjVLx3RKPYoDdrGDVyeRkVkHW1y7JgvWzJpp1e84hURprFzRR3R2G9961utwJVkfENfyWeVaDBxGd4tnpk8bJfbBvBTs1fSOoUs3e7OB6qeK4kNGq9Wg6XwAiQm7/axkeEAkYm2f100oxHy9u5EENSQ4SRJZLqME1+HYfbxpifJLg2x0MKBqgiY4UGczyqKDZbDeSIiTq+/973vtc5g+IkC0Y9eSFvQkKQgRSxcRmNuuIZQTmm3NDSpBMQ4tXjjVRBoUT1sY4lvUWYgwAPYK1zhCp2SHU/NMT5ZD2MmJ43AxxX7LLafv8ub1E0TD3FOp9Z9HvGIR8BEea2bw8cee6xpwz/DJOg62ehpuv+RLisA/E4FV+oCR0/bY9HOiSryrRBwSyp0oXjMdCJx0hbB4NUV+vQRsfFTN42IGN7jHvc4QBkIMuYRt+ltb3ubq+/k0IaWEGj6OABXvwzB13RywKseL37xi/HgU5qQaPysH008bbbCVt+xze0zlEAm2+xNYYP4adeAwqrNQIiWfOCj1i6wPDkFseXpcvZ0qghQQXZOrPbNMjrZwptFixblMG10C23T5oGjxtkS29tjjz1oMwWoIz4Qr8jJE+pI4MAcN6Mt6V3yRXStYHmQFvY8KtWVR9w3M8e5pCUoB60XIUdWAWpBgIAhaPMgx1MUkGUmKAd2hG6Rr13vQYoCYgbBULZBAVnFKGS1fMtU0f2mwjdusWCCgwGcUDiW2billlFQkvp1NzC31a53HHbEmMU5x8Abgew+ytFK41sTFLhoBTQ4kcWwNootzM/z2ZuJ9IpshfY3PDFCg8hGsUFPJ5VPNGtSBJEwkYbIJ3z77befFQk/xrd4nsLkqUQizS4fmfFdSIUVJHDTPktrsok/iz6SSFxhg6y7oskEDgDlcEGCsX7AlfQpXWgkUDM3rJ+8QSY6VUgBysLL4snMpyDsfqooE4xWRaGGeAZmKTTMGZOZQxO6ptHEeD/1OjyPaLeHyKDeDcrvIeWRIW4U4BJZgPKt4ykVyfmGA+FxNiA2Kaiewm1ptySCIHDQcVpA3cYjBdo5DTYm+JNTa5HDYX3/+99PAHDuYIPFd4yyhgx6WSo0plKDDYLayFm2n2s5cMuG7XL214yjWCwsdZ9i4f+FzvfTGl48j86xhmyAYxa7tYrapJ2KHubKeEeQ3+OYisgfWaW1LOmdYKHqzXFeIA8SNTe82v5iGZH1CAMijtK8THGBui3F+FuWzcVY1E8jrQuMAv9Vu87GFC0hzmLvFVdcTIGGUhFj+oWx6LV8bpyIoxyclIY4jrGQjs3ZqK7L9k+0SGsVgrqpFfn1Ar48RVA+u6Z3AofM3ML7fPp+PpeoYLGaBNNYxmY1dKZdl3gZYCcAautOFsmTGSX+oUB0pKc76urvVFklxDxLbp9AN4fPokdwnqRa1kQQHnsTkVTEUaZW/KWKRutOWaJZM1mZ8emdY+PtFW0S4Jj5EedXsVG3pjNeWu+GpGnIOpvoGcEov2KBNlmY0GV1RR4weaBz6alhFgMkp5a90kRNs2ROKYEHPj1BMrL0b8RraWEhW/E/o4zDwuQgeKfE29yRXcuBmztwkuHxEOBXRbyKw+SgHr+EH4OUg9SsgMPEbd1oL4ImV8bBG15RaddpjfAaFfAJHRVCy/DZ5A07Uk95dXmKLgWz+xkH4tWKKrScHDvIwU9ppZ1gUnl+NotE3TiO4n9RRr6PIIvrS6mgaJ0DKu7ozH1RO7a5OG1WyGJ+hbiOyPQTLLxJLiBlJe7gTDkNzIUtJbmACtNduizc05ikIiYCKE4Z2n7hWZZai504n3WfSFcjijsMqU033XSYYmtZxhQKaTOjyEqk19faYUlkyAcO5gYjLXpvJ9r8EXsn3+R4SMzNqzKX2qiaRWYgaryZtioxJUx489zHzCxuX5tOf445aaaF9qlLmtWDHOhB7lFdPdKDuFpxBFcs0G6rnUOeQ6cQnvbT4XOGZ2YQmJT4ICgabMC2KDvLa1Fe52DIFWtBHqhRkhDqWMWGxmyQov37CzTKL97P4Qdu8fqePZoeAnS+mWhZbiOS+8WFooEtvxmFelumMGDmsg5cHNf784rcSByPNttsMxsU0rFBUcr3J2gAmkFY0Q6ApSAHK4yRn9jAW49NCcp0Ec+V0xY2q7h9TkgLASojvOfsEBdQ2uLTPNJKsUHuhNcQk3HSSScVVjfeeGMvXohQKFzCjRhjHKOM8kwV0IQkgYBaWztp3e4zF1mAs6jB0sQCJybv9sHX+BknmAq6du6mGyqiwL2YWWRrEanT686wxZ9/02KYTSHzQRgfwow3owtzf7pAxAfNQ4D3eAPiPcYrJpsBavRaE5wJ3Vem7bQND4t5aI4Jptb0NRpneOvMmmaIinWbiiZ5/Ugat5HTXsxF/iCyhc6KBUrJnkSw0Yaup0rno+GZse8jLNcG0xHVekOks5V2plGgbeliqlBo2dI8VvaMBJbIlVVBbPe068qpz/10Flj4zOEHbuGhyA5OEAFre/OO5rSeFPDzrhj/j/53sLhzwW/yWhCavHypiRhZLpGDHxrl6lkQuu6AlvOyLWd0SG9JSXtENqldLo1/poTW4rlSU4JwAofcWe9hIGsDWn9rtoUJ5Nuh3n///YeZYswE39GVN14eRYrFtHBlsxBpDAo8laTW7PAKqYSBa5RZyJ+TP9vH5wjDTPjqLfYCnz+GMgAgjkVDyZ/ZRFtc1pdVzg0ZxQOEwwNjmGOPtdMnUyYGQplONRHdKc6cxWJPl8MvHBsBPMeajxYrH+4LzntobrvttvxOnkdnII2OC2fXBQGdRHq6E+VXLNBJdkqZwzMDTErTGqAgGYl+MPvZJlocOMJgFRElt956a2Ijp5Ms5H2ULLs//fQX+OnwA7fAIGTXJo4AlevljDhFzfGy6clhMun4TINW+HigxumHiTDD2eJ3itLRtE4ZsSYRULzVrW614g5vMMDW64I05jl5ElaV/Dmrfd4CgvZ5TR/qy7KTh0fb15x7ZIe6zhmUVl1YRGTBayteOnRC0b0z4Sy2XUYGkeusLf/C5TXnsJKDKC9S/uSjfQRR9NU5cSCSkjZY4VXwVIZcKLQprHFOW1zWmIFGc9Yu4b2R2pgefGhgMv9Mddv2UBAx06x7OoOvQd8CC1l+lVh6m0jhQbGy61cyh09QH9754EM0UO3fIrRYDLev+CJ1i+LKFBzBK9sH9VPpRluNp8MUaFeZXs6K3JamLaAZgFHBLNU7E2TA+LI0pCUKOOVNbKzOO8Gnu7mDyrePhHbSX+DM4QdugUHIrk0DAW+w2mY1B2lyAX5T3u7qoLhJyCEHyNzsNLLsMgo9Oz/tLnDObAXYNrUlKuBHFSASL7G1C7dzsGQ/miaxTHXikMFy+ZdXOlC4+93vLgoolOhtQpSpmqJ5ajrxqlzYuzpfGjPyqSBdtostgOdfjMUUA4diy0qiVGcyvBz9gx/8wCUG3piElRecl2EWTz7ax2YIGBgG7l3s3BeUJfiCBl6ChY4AVf10IunGsLUHe9RWVk9h1BZXLB8sca9j6tpVt7hRSyCtvcJjlc0HI+LV0fAXO+kLIvp4ZAa21z1ajKCOgRtJXzTaMtPMeb4jv7/+9LuSYvVxcsClUw2Cftra1muTlhJpjH4UXnEEOwt0ZrZbn3jO8O2OB2Y/w9E6OeFqB5jCeCINRt+1Xm3emCLWRQFqnebtJ77YT9vgLHZ/s3drhoCZ5e0NLhEZEyezwuctDVrD088+nCHX03ZqchR8RmKeKvCaBVWALKfKWxccwU7/bBBZhWOTyvYrP497EC8LuziC/0qHIOvlDBcNxiG/Qic2fJkwdwSWzJKg+Z1052lQUK5j41MyFnhrG4J2DiIUnQtorJ/FO5wLZPsK5QVOrNbtI4XWHxFnKjARDisD4yFmG75CeWS5YIQMpKtSJmgkjGhQswSpWzSWjqyV1leT6BQaBAflj9RWYBVx0BUr6pR3LUlqvdiy+AM7Cjy/2vxY1Vn9oM8qq9JDXPUowC+38KqJqGVaOgNhfroSqXPJ1UN51Ec6SKLISeGBpxh36+hdY0C5HTI14arFQXqwf4yK8FCRpUUEKZrOcPWg7vS00vOoTW2kwu3qjZwA08vpddcaZeqfREgVx8ZjU8kjmtHlYfxyOEO7LkwqjjnmGDnOmA6KPdTlFzs92YFbbKyyd6MiwD0qCt+eCedmEAUzN2518ccE4mf1xJcWrnOUzZJ7UPVB+VqPNy28REwVeId3JAtOOQvv+bZPLbSGWmzO4MRuNd3Le2O7da3BgEue7QUxB+4Xa+gfds17uLQQN1d0gzOqrj7WM9FPnwbN8tMjbLgog/piVR1rpvbL00VNrNbtg5St9N12202YtNhI3nrYYKuNepxAHH+uQoLbo7saiIU9nEBCwZgR6+CEHJB7rqd83g/haDdRy4enxIjNq4uRpzi+wBlCxCPeT+mUhjrJ1hRWTJN4bzn5bxwXY0YoVBWZblBzZ0pDCvHgvScMKFyHS3l1wtrmoZetGo6v0xgsN7epf3HGmTNqYjzWc+5JAkXhHDPOZPC3nJYoqqc8nWzCqLmWk0R5pdRUD+L6JfxuDWc0Hf6tW+Sh+lCCPBViUD8q6Z5prwy9EwtK/rFlSRQ2EJAEhQK671OoRaIhOTK9N1emQJThrWIJkmQmcupIKklDtk2nn9ugM+S3JhxzaYCpLmCJlsVxQ3qBT1poQEde6vgrr85KndRZTNdN0/4W7uTKFQ9mSv1oCdMTHLglRC+73I+A+eWfBULFOVQXOzOdVcxHm8J0pgnLoWGaqU3RGfukDrG5qcRxt+I1tvVPJ02ZSmJAu2wQm9gfROgkwujzR00TehUpHAZZgUwWijJkfdpGircgJKGkaB9ngwoKE8x91BebxTqrepl9uhmBADk6rkDYMspZTm0cC5Pijuwpjcd5oDAbWrEUW5zEuav4eDPc/6uEumcV7JEXYmecccZTn/pUg+HtG39RtWHDBoVFd40678Q/35WSkfBUGR+BVv4HCfMfKV7+kONRo3DnTy8WxTkGJtw7Qfvss4/LJ1Fz0ZHRMltID6fT//ShybaFM7fnnnuec8450cTZZ59tFRJDe9BBB+mChjx10blM3dSXQw455IADDvCPFB6h45haeAxecdepoCNfLbdAE2u1HMWQH486OVfRKiqYxIDqigl3c7AAaHaJfp9++ulocixc16ewdQ9uG9QcetVl/CivMDrKuDlZjtuMjEKjfPunWo7W8iatyfyFsb9RkWMUOEAyjYhjf1EreuTdeK4Yzg2r1hXu6Wa7uc4cryfHJMeDYSpldMcdpDwSk9xuYzAQXda6ud1uWhWZpC5UpFWd7eBAppCNhH/jCDGmd4iEnpJSsh0RLN7bYx/7WP8+iSAYCYAu0xHEKZrQiqGJPQuFIx/lE088MbQYDmkoo0AYSKDy2CCcxJKQEJUQddRIHR8LfaMW3W/3q8F8z09/VB0DBEzvAEZJBP2/CPqWZ2aH04Faxw85JOFaJ3uNRv1UTF+sLgyQn1glHvFPLW77U72HjWV4RDB23313cQt3gC1Df7OPa48A9WsCmoYmY3/rYVPCpWPpqDXWhCpgIqmdsAWmMF108MEHRzGmjb2Q2UPZU5qQVeIb9RTreaQ5mpaCrTUG68Y6C1KyPu26/6+9O4+VrKj+AM7L4BJZRxlH0PkNAygCLoC4QFQ2UcAlooALooBCUHAlBsUYxwABQoCAEEGioKCgLArD5oZsbojGhdWNRWVxF34ioMbfR86PyuV2v55+Pf1e39t97h/v3a57qurUt6pOfetU3bqsjXDGip4uNzir4sAB6/AodJYgfwHL6TKC+Dqoz3LYuse6RlzjJvvmTWGjQLBeIwIjJros7rnnHm8oi0s9Iz6Z3lB06tmikHlLly79L04DXVNTU47P8Uo2xFUbd0vxEDzucY+zxXvhwoVqBR3kFDQWGni0PM0r+Fk1Tw2RADZjkFYHmB/HA1IP/UWLFq222mpV4a73hlufT5CRNiSi6sSBtFFuG74NfixcEIWis6/cIE+GOgetyYWZXrBggSxOOOEEj+SunwjUJbwZ6iXw+fPn4xmSlbimIB1tLr5FZvJkvKctBPQ0MwlOR04jH93CCOkJEOtrZlq6ily02k7lyaAvUKK/z28oLyUf85jHWD6zlQ11kCAXF58W/59GidFimQXqkiA97d6jgy8uQMCkB57UUHbN3dMiOd2N2jQRtLsC+VARFghkyvduzmRyZresIkRcAlgRGOEMRvM/EyzuQDXeT0bTKSBcuWRnqVHX1f1UawiDjm62M+L30NAwNDwKmMB5HUyXrmFLJY4oTQ4piToSoo7MgDGt4HNFDbXmqUzN89QsAe4uZ00BHGX0ARL0yJdzpYNGm24Cip6qRqvQmFXxYYcdxlOo1sTloNUkhKt0PxWH1w0+ksIM4ANYaxMmrypLhbI4iiOKKsP7FRAdVBzpgxTmomgSRdv+b3RDuUsc79QXAkzmSSPXqDRLqkLJvb0+UNV+tEAlrYEpd83Sga5Kwe+rdyB/vAg055TlSA4nRP+KjZ8kXwJk9AtmkNEYvwJmiUaOgO7McaWvmZoyLD30Mc17yUteQlJXNWaxP0ZYXZi3zFQt2idv2ZFHHsnOS8qRfgyjYYgZXLJkCfs2XeI+jMtucCKWsWA6ya7hsraBx1CyePHiYtOYTf4/xhBX6zzNlxjLzzQxtuyhjmbUxlAVkBoWjgMKOvv4gkeG+xjWWWDWzK4kNpCJBp25rr/W1pjEyMgNcAxbBnejA4MmNaApJmuPHfaAomsBWxE4ZQxYEUW1EiMHTM0nOrcLeKqeVDMWYlQDoppwUxtUKBDeV/Juij7EXMZXf0tgjxvRDdsGby1DRvTR7rVmf3UD1SmdyEgLK+mULMSSQoQTEyuydq+hS1YKZhiSEoWkq5qOiOTJkJeUv7UsPCohtRvNVNOUMq5TxDi9MQnLgjLyyMitUCipXGrRqz9lTVuxIK+VY6jmOr2jVKO7p7ly6TxqjTLqS77YSVEsZKpwRQoEgFYVq6Xc50/NKUgSFyOoq7HoxkB4iiGBBVwmEthVTSyiKMV/K+mROo1A6rnoWU3WfeAGuiivNAWyBYFeyMtdpUiwZCepwFZ4tcbJu4jRQQcBphoMGCUr0FWVJ0k+1PC3XKGqvyVkpjcBppm03IvastbksE+6SRAf1bD9VZZQo2suYjGaMNGjwSVBPVq5VkS9rhm1MdDgYTBjJcy1yrbINhYkdW4yAqy6Hh274parp05KnhnXc40F5rqMW+mtTBABj4pZCCvUwwIwfV6AkK/5dg+xHorJzkhnLKsNSQZuI3U44bpGF5GNVRaSisBYxfhelBeLDAPFphkjlFc3lAuBGL4NnUwWseqI4KnUlEVgXJFOhEf0rvq0OnBFaV+fhVcfJKs11GfEFAvoZoreYLFahHa2qKFUFhj1yvg7owQHiDKj9FsnjPZxpRi6kva1ru5S4T4RMN92brP9Pza05GjeJ2gNFBvcizCjwmQTmRFcVeHBoBssVjXfht+PfQHnBv+AcQAwB4gyNyUaYS6JyQjBz6znAAEbZqx+2FGXTX0O0J69LOaI9s1eATLlRCARSASagEB4oJugSeqQCAwFAXu7vdxqGdTyK0+2vc6OOLGvYyiJZyKjQiBp36iQz3wTgURgrBBIF8hYVWcWZqWVvMHmBUG0D9Wztc7arnfVs523vWk8ar982wuT+icCiUAiMCoE0ts3KuQz31lCwFkWXuaLV0O8R+KlpXK0wizlmMnOAQLp7ZsDkDOLRCARGH8E0gsy/nU8YSV0UozNfM4Rc94KV5/3ZycMgPEsbtK+8azXLFUikAjMMQLp7ZtjwDO72UbA2q6jRmc7l0x/jhHIRd45BjyzSwQSgfFEIL1941mvWapEYLwQSNo3XvWZpUkEEoERIZDevhEBn9kmAonADBBI2jcDsFI0EUgEEoHpEEhv33TIZHgikAg0B4Gkfc2pi9QkEUgEWoxAevtaXHmpeiIwMQgk7ZuYqs6CJgKJwGwikN6+2UQ3004EEoHhIJC0bzg4ZiqJQCIw4Qikt2/CG0AWPxFoBQJJ+1pRTalkIpAINB2B9PY1vYZSv0QgEVhppaR92QoSgUQgERgCAuntGwKImUQikAjMMgJJ+2YZ4Ew+EUgEJgOB9PZNRj1nKROBdiOQtK/d9ZfaJwKJQEMQSG9fQyoi1UgEEoEeCCTt6wFOPkoEEoFEoF8E0tvXL1IplwgkAqNDIGnf6LDPnBOBRGCMEEhv3xhVZhYlERhbBJL2jW3VZsESgURgLhFIb99cop15JQKJwGAIJO0bDLeMlQgkAonAoxBIb9+j4MgfiUAi0EgEkvY1slpSqUQgEWgbAunta1uNpb6JwCQikLRvEms9y5wIJAJDRyC9fUOHNBNMBBKBoSOQtG/okGaCiUAiMHEIcPWlt2/iaj0LnAi0EIGVjz322BaqnSonAolAItAgBO6///5f/vKX/p5++umrrrpqgzRLVRKBRCARqCAwtdZaa1V+5m0ikAgkAonAIAjgfKuvvjqf30MPPTRI/IyTCCQCicDsIzD1q1/9avZzyRwSgUQgERhnBO69997DDz/87rvvPuKII572tKflPr9xruwsWyLQZgRWXm+99dqsf+qeCCQCicDoEfjrX//K1ffnP//5fx6+Rq9QapAIJAKJQDcE8pWObqhkWCKQCCQCM0QgPXwzBCzFE4FEYAQIJO0bAeiZZSKQCIwfAvkm7/jVaZYoERg/BJL2jV+dZokSgURgBAikt28EoGeWiUAiMEMEkvbNELAUfxgBI1z/g9yMhBPgRKClCKS3r6UVl2o3GYH+B5oZlcLr9rOU8ozUGInwyiPJNTNtKQL/+te/bFr3uuKdd9752Mc+dt11111nnXUe//jHdy2OTuX1xhDWx+x0J7zmmmt2Fc7ARKDtCEzsKNL2ihuW/qzcH//4R39jAuCvt3xcnek/8MADv//97zUYMi43cf/kJz95OnPamcgYh0Djfx++fvvb38Jqiy22eMITnjDE8v7oRz+6/PLLX/ziF0t55ZUnjgVNXIGH2HQmLSnHkl122WXnnXce5rfpppvic3fccce22267++67b7DBBoxXFRAE8brrrjvjjDN+/vOfb7zxxh5df/31z3zmM/fcc8/NN98cZawK530iMAYI1LrAGJQoizAjBBAVFvLb3/72zTffjKwgcDvttNOBBx7YOdfFDr/0pS/dcMMNjvgmKRdHamyyySZ77bWX6fGMMh0/YS/FX3vttWC84oorfvzjH++8886f+MQnhkj7VNOHP/zhr33ta8961rPOOecco9L4Ydi7REn7euOTT/8fAbaJnfroRz9qhvTJT36Snw+xO/vssz/ykY/on8cff/wznvGMApa52ve+9733v//9BsLjjjvuRS96kRsh733ve/VkIS972ctyjCxw5c14IKDZj0dBshSDIfDEJz4Rb+NA+tjHPnbRRRexkDfeeCPOt//++9dcSk52/MAHPoDTOOXx3HPPNRN+05ve9PKXv3yI5GawIjQhFlrGycdpymVgvWjo3Yr/QtUoqUENxWxCkedYh3lLly6d4ywzuzYigLR98IMf/M9//sNOPec5z1EEvM086Z577mG2/v73v3P7FR/e7373O5yPe49pe93rXjc1NUWepVtllVW++MUvmuBuvfXW8+fPbyMOqXMi0BUBQ8jXv/51o8hrX/vaNdZYo6tMBo49AmzdwoULuZGWLVv2t7/9TavwQYSNNtpo/fXXr5Wd5Nprr80jeP7555sP44vFftYkJ+2nZfHNNtuM+9Ogc+utt3KCvvKVrxyAEHOpWknvdLUahhYvXqya3vjGNxq2aox8EtB+1MLcJBQ4yzgAAgazz372s+ZevHQsWkmBnbKKYT8K5nfJJZdEuMkZvyCvnpVf8kXYDbefqbBHZ555JoNYfZT3iUDbERi6W6LtgEys/kxf2aLHbB566KE//elPu6LBQRhXrn7U8AHIihAybkKjzHSwb7PNNjyyaF+pplru4/0zad941+9wSnfbbbdZs5CWSVht8mR54ilPeYrdfhdccEF4zt3b/+ee7auu/IpuaThYIwHdcjjKZSqJQDMQyJG7GfXQCC1WXXVVm57DAH7nO9855phjeJ46NdNmstl0wrKCIRaIcb5TTjmlh3OB+3BikU/at4INbPyjI3Df+MY32Czv4VqorRUYC4wtsfap2MjiKRtnGdcsytJGTVg3s9ihvxEglt6RGj75s9UIZHtudfUNV3mN4dnPfvZBBx201lprubceYk+zXWszzQWDYXu9PLeCu9yk4yU8Vw8mRE8LO/bVyZF8D1U9tUOOgCjWUk31a8LLFRARGvQRN/wFtRR6/BRXLJiI3qlnDFhHH320svQgdhIRtzO6fBXNURVwiDL20EReRUZSURwp94jShEf5SkcTaqHROmjZP/nJTzRlixFMWKeuvH288SwF5mfbn7fY9Ge0r5MjiisF82CW4rvf/e6rXvWqHt2yM6MMSQSajEA25ibXzhzrpjGwgRx+9vadcMIJyMHJJ59s0msPX59rl3iezW2Mqp3TDKbUNtxwQ2/U8SD2mUIUGUMyx7bW/Kc//cm9DYUvfelLGWr2vGDCyBO46qqrCBBDDZ/61Ke+4OGrdgANO2/S7gAU5zNY6rG356tf/SqZfffdN/Z8E/j1r3/tGAfuAFt6CNjzaqpPwPkPcjSUYFS2+tx0003WkZTLItJ2221X3T5UFKvdiGt8ueaaa+BpBzm1FQcmNJEOYUPPV77yFQu4UqbVN7/5TZJibbXVVuW4CbGwOk4KScUZLpELMcpTTFz7MrFGED33uc8Vl8uj2rsjBcVUO968tn/dRnYvcRvURNlhhx3sbqrCWyvFyH8m7Rt5FTRdAU1c46alnXzRtWoa63ge6W/6kkdOJdDT9HP0ribpp84gXO/StTqfZkgi0F4EDBvtVT41Hy4CGoPLYsgBBxyA5djujEYcddRRJsM77rjjcvNCrRyYgDyhaM9//vPJYzD2CCIZb3/727HJrta1liwFmO5Pf/rTvFAvfOELt9xyS1bXqQtWP9/xjne8+93vjmk8c40q2b3NONurjauhgJ///OdPPfVUh6d43SQIk0AcDrOxYU6CqBXyx4UZZt8QIMELL7zQwQ4h4NgHNwQUn2Jok3NY3OCyVDJAYJYI36WXXupECAzTK4Oyq7KrWnGMRKiVdwqB4MVnLJPDT3GkZg0dqtgwlxvOSmGPyNPzlltukU5wSoA4GsZ+JLBQXjj1lNeNRxSjoWp6xStegaG6sRnpM5/5jC3piqYigm0Lt/zlEXkDmdcWDYt0UExMHZXk2XVAjIN7lLFWhKb89G5mXolADwTMe8x1tFczmNtvv71TUseL9v2e97zH09e85jWEWTf9v1PY1FCfJKCfP/jgg50CGZIItBGBv/zlL/vssw+nRdc+0sYSpc4DI/CPf/wDb0DyIoWf/exn3iFg9Fxu/CwpM5KsK9JQQtw4HoFTEGVEvIqRvO++++L4Oq/QYYSyqEbpeo/xaJDOhfnhD38YAhyHH/rQh6jBE+ZQVYH//Oc/nV1nxcYb6KXp/vvf/xaFl4skV1aE/+Y3v8F1/MTM6Eb+8MMPP+uss4RITWGp/eUvf3nXXXdFj4QYCPBUAkL8JCy773//+1Q65JBD+BRDJW4CY4GMZGdZKQL99Q4vzYXjuH/4wx+EkIyzwLgPi9jHP/5x2RmbjFMlED6GJIVStBLoRrkkgtFGjpCkXgjIWiAP5ZVXXlmicCg6fIcOalO46B6pCKVQNCDIGms08EFGCmSC03OFFsxLas25SW+fOs2rFwLWF8yESJjPubqKxhTNrNEEy18y+kNX16BHkRrvYNekMjARaCkC0bBbqnyqPRsIaBJsI1cT9w9Pm8tCKobEZdV1D0zowF3kVBcsBKMqJpd7DwG6+uqrOQ7NtPm6gpZNpza/l4wsZeJA1kBDDBnafvvtLTdzWfFOMdd8dZSh5x577FFOiqazKNyKPHwceCbqoTCdPXLQsegUe+tb3yqEG4zTyw3fIarH8hPg93KDvFYFZHfaaafJ14JvWQPFtF796lfzvfHD8aLFSnHXQvGAkqFqdXsibqdQvHcCkcuIKCM3JF3VpCiPkLkkFUtY8RRW3H4Wat/1rndZ9i1RMPK99947ltrRVnwxNimpGklxmsJBATlEHTcTsYRwSYJdMQvsJcGG3OQrHQ2piOaqUe08tV7UqXQRKDedMhmSCIwlAkaCsSxXFmpgBEqT4ORzsj3/EMNoTZMbb7p5L0bCZ4Y28WzFKkrJHed4/etfj05ZSbRsEhPs8rR2g19iUUgJT1j1Ee8UTSxBxtZqy7sIEMIXizBVSUuu2AwKhcfI0SPKh0o4qLNXJS4QN+IMi/ViP2O231UAabMtTyyuBMSoXOiaQsnoBz/4gUdVHar3lOH/4yysqkolF86HtLmpyve4p23h08QCKyHPe97zSpVFdEVTd+5p7qplIQqeWjgfMaVzubG+XBMW2JArvX0NqYjmqsETrk+GfrUuUZSO9k1MNwi7MJ1kiVLtdSUwbxKB9iLQWCvfXkjbrrkmEZaQuXNKHCrAA4fwecnDQQdCOgvIIxgca8mSJcXwhpikOA690oEw2fbHsVTjhdXU+Ki8n8EjWLO0qOf73vc+khJHHK1LUpKRd1Wju+dI49aSEbVRQ06yIkCTWrLlUdx0FcDMlI7atv1Vi0YBPja0D2GqevJqaVLAtjyB4orCT2kDn7VUvjrKiF6TD+RrgfGz9kgZ0U1c0BFjNXkp44J8k9S2It/5GuK8efOqUcjHtkseUIpNt+RVjTL390n75h7zluWoh7AU+hhrZQ7KFnQtgK7o3Q6PwtOuxfeYtxGLKVHXpDIwEWgjArWxpI1FSJ2Hi0C1SWAD++23n31y3hII6oNkoC+1HHEsxlbEuGpPWVex0D4yPRiSWDb2sdgSqaXgZ6Fccg+KKbCr5NOf/nTERTq06kxnpiF2B0rqLW95i9NVghvNKAUaBte09IzUQsBPRSjFqaXWiW1NoPz8xS9+AUzyXUEwVGGEODSW2X+aJfEG3nRpEw3UMlUaIQI6Vey30O67MjkMT2dgj2JriFksS2EeaXNDp9rmZC69y5aOrn2sM0qGJAKtQGA8hoRWQN0WJWtNgkfNVytj0dBirpdhMZhaWYJ/COQuYiprT/v/ySwvV5h6CCgx83nXcuWHIqBcNVj6T9YAdOKJJ8INUbOnkNvS68nT0b7+xxdklA7Q7jrA9a9eWyST9rWlpkamp87j3FHZsyNdTcldd90lnBs8jqTH58zkdOyuk1H9Sh8zS5Nm/91yZIXPjBOBvhHI9tw3VJMi2NkkrFRa4mQkQWBLmZNHzJCrYpZWLN2yn3Eu3XRIEZuO7lSjcOZNtwVQFlKIVRfkz6y+GrF6bxovu2rIitw71aXr0CBNKrmmSxxf9GaJV3dRPae9WL+u4tYZq0dSNeFYwqIVD2LtUfVn2b9YDWzjfdK+NtbanOrMNNhcrOdjbJ2ufl2LZfHXttbY/OH1Jd0Dt3NOaaei/OTsi1lvvAzVKZAhiUBLEeh/mGlpAVPtmSLQtUlwU2EtbCCewXiGv62k7A2J2GFmO13nNFuCkSbiGNtpSsTaTezVY2+9iFB75KeUvTwr63jb1MqMXXedYpEdzld9i6JTrM+QVVZZhSRq5UjkKEUtIh5s/18tMH6S906xPZF2N9pg17vsEaU3KazmsskmmyijMcvZOtXwkrXcjYNj46pI2tdZy5MeYnaI4RWLo/Pgc7bcomvOVa91V4sU7IXpqZfwY0Zo+ujdMWI6sI5URTNSEOIdsXJYQFUg7xOB9iLQ/zDT3jKm5v0gwNDFVpauwtrJm9/8Zqd+hFevJoPPBRXjFYsZdVWAcUabRHQOS28PXLyIwJJ7a7i234ZuzohBB03mnc9scQb/825EpxPOTkSW3CafUKmqyQD3loOQWkVwTiHXXTUFuXjP14F8tfElZCCmIMuWLaO5sscOv3jUVb6k3GeXNLoZj0KHTocfVa2AE/AScT8e1j4zLUrO/U3SvrnHvNE5Mlg2TzBJ7EJhfrx3e+65JxthlmZLSrUAl19+uX5iBuaIqQjX6N/2trfpJBih2VtVGBHUt01DnRGl91Yf5X0i0HYEeo9AbS9d6t8/Aj7bZcbrXN/porClvpPhHONOAbtldtttN5NnVMNBccUIk0R62E9c0PF4vQ/tI2wHYSwlO37l4IMP9n029IV5N0s//fTTfRuD01Fe0jEJJ++wPW+KVPVRCtSQjAP8am9g9GA2PR7hjrEiZFyw0s3dSB8skGLGEe84P+lJTzKUVHVwHwmipJifn/QvlFGIQ5KlILza+wwuYoki/XjE6wk993Gpnao8oN7whjdgk8YsXyJ5ROq//0k6KxEtBkI/rgpyrM+GAAAFPElEQVT1VXN2VFNryH2+yduQimiKGjqk16x0J8ZFD4yXOUxxHD7ucM7Pfe5zzhG1kZbZojG74Bh0pFAfLm/46m9iIY42YTgI3jFRsdzAijnKXD8kPJS5Y1MgSz0SgYcR6DHgJUKTg4CBPw5PwZmwjc4zQQIKVtH5efxwGE8NHF6lgw46iP0097aPzfcw8JjwRTmo2fYYT7nNarFqP3EUr49QQBZf+MIX8EWmmN0WgidJIYwwVufe7h2W3/nDVApyw1D7KIhw69HVr8mhXDTBbDo3/IQCwhEsINjzXVMJFO985zvjNWTUE0pUUjRp8ibgqZygxZ1GyeB5KJfU6GmvEfIquh1+FpeE+5JH+D4xvIsvvljWxixpKhqe6qcTEGXqxujjIzol8Xh1FxpBGfVcJ0tLzUvWDpSORAjLVxUgghRD02PUi0KJCIfOYtJHdmR8RqXKLGtQjPbnvKVLl45Wg8y9UQjo7Vq5L015IddkdP78+aGebRl2Nvi8jOM9fYTHp3UcYnTSSSfp/96rMl+sHl/kPnZLfOtb3zIb80Ugfj42xWmcjkHvnDs2CoFUJhEYAAEDD7eKL0QZpNdYY40BUsgobUcAEbH/zFcxfPKLkcR7fAoMp/Hx2a5NgnNr0aJFqIxFRl+nLcXndjJzXn/99Xm2sBkcxSRcylY5nahiyK4Kl1i1m6mpKRvyJBJExPfNGGGXEPN22+PCYhOjnhVhHMXxzqy6Y1Yc5udMaRGd6owPxaIqHdjw+MyGz5QpncECueGYDDrFVfapT32KgBRCAG/zcbkiQEO542EwsXwMIvsXDQpooiMMfeIsfAdiIVvSwUQ9kotRRhbWiGXhTRfMD6XG5Hw8d5dddvGpNDlSDy3bdtttFyxYYPlb+ryJ/vLVUdJi1OLFi41EInJGoIOS9WG6KIKjx4CAT6sRZ/g5Chs5Fp1TI87q4y5duHBhIIzq+T4y/m0VXjGlINnVVltNpui1L6DEghjAPbXlveYorVXTSH5OGchHknFm2kwEtGmzT12I89+0qebAYNe0dZc+75E+rKswLtXNFqVcBkLp6NhmUXqvbkPYRKqB3aDonDeJwGAI6Bq8JsZpw1U/i0GD5ZKxmowAi8e1htMwd2E5cSkvH7CQ0xk9ktZPEKPORVtxNScm1KIKl1jwHknN6H1S6WMw2J6kqISFIJQ8hTXDDlX0RUZIj4w85Yy0IEuxYtu1cAIYWIlLK8qQiZBOATxMOrILXhh1F+UyiMSOQ9HxOVxQaiEARtpKjfIRQgfpuITTEOFDEH0/QywCeLMCYl2xRS+icLlhjf7S0Lij4JSUoBAVFE4+kgJVkHSigmStjMYsWciUSkCoUbdIBKoKEikopi5PAeqFqy/yEqK+SrlCsSb8TdrXhFpolg5as5ZdenuncvqGS8vWoKv9uVNSCB5JWJqEe6TZNW4GJgJtQcAoFWtqSfvaUmUN0ZOFpEkP2xgC7O1yje10JQqTLoW4phMTzvIHmwny10NyBR+FShKZaUahYS2WwM6iRRY1yX7ULrpJU/R+orRLZgyL1K4KaKC22noPG0RhkxtXn5pLqndqfaaTYolAwxHQcRquYarXQASWax6XK7DcQi3XpJcU5ozl9K9S0S1uumrYNXDgLAaOWFO1sT/TTjW2alKxRCARaBMC4SZpk8apayKQCEweAkn7Jq/Os8SJQCIwCwhwEsxCqplkIpAIJALDRCDt1DDRzLQSgURgYhFIb9/EVn0WPBFoEQJJ+1pUWalqIpAINBeB9PY1t25Ss0QgEXgEgf8D+2hMqLMjFJsAAAAASUVORK5CYII=)"
      ],
      "metadata": {
        "id": "mOD3ABK7FXPb"
      }
    },
    {
      "cell_type": "code",
      "source": [
        "avg_diff = (sample['relevance_rounded'] - sample['RaterLLM']).abs().mean()\n",
        "print(avg_diff)"
      ],
      "metadata": {
        "colab": {
          "base_uri": "https://localhost:8080/"
        },
        "id": "q0vMpJOuX0xj",
        "outputId": "d204f745-d8a7-4f22-d854-176ec4c4d605"
      },
      "execution_count": 18,
      "outputs": [
        {
          "output_type": "stream",
          "name": "stdout",
          "text": [
            "0.4\n"
          ]
        }
      ]
    },
    {
      "cell_type": "code",
      "source": [
        "# Compute the absolute difference between the two columns\n",
        "abs_diff = (sample['relevance_rounded'] - sample['RaterLLM']).abs()\n",
        "\n",
        "# Find the maximum difference\n",
        "max_diff = abs_diff.max()\n",
        "\n",
        "# Create a boolean mask for the rows with the maximum difference\n",
        "max_diff_mask = (abs_diff == max_diff)\n",
        "\n",
        "# Extract the rows with the maximum difference\n",
        "max_diff_rows = sample.loc[max_diff_mask]\n",
        "\n",
        "# Print the result\n",
        "max_diff_rows"
      ],
      "metadata": {
        "colab": {
          "base_uri": "https://localhost:8080/",
          "height": 269
        },
        "id": "6MpqGmniY0Fk",
        "outputId": "f5d7af28-6885-4e07-ff4f-b1305489bae8"
      },
      "execution_count": 26,
      "outputs": [
        {
          "output_type": "execute_result",
          "data": {
            "text/plain": [
              "        product_uid                                      product_title  \\\n",
              "id                                                                       \n",
              "157609       160419  Houseworks Crates and Pallet 18 in. x 12.5 in....   \n",
              "158329       160856  Grip-Rite #7 x 7/16 in. Bugle Pan Head Framing...   \n",
              "\n",
              "                search_term  relevance  relevance_rounded  RaterLLM  \\\n",
              "id                                                                    \n",
              "157609  video wooden crates       2.67                  3         1   \n",
              "158329         framing wood       2.67                  3         1   \n",
              "\n",
              "                                              explanation  \n",
              "id                                                         \n",
              "157609  Rating: 1 (Irrelevant)\\n\\nExplanation: The sea...  \n",
              "158329  Rating: 1 (Irrelevant)\\n\\nExplanation: The pro...  "
            ],
            "text/html": [
              "\n",
              "  <div id=\"df-eb50bf71-14e6-4d06-9cce-8dd8c733f2bd\">\n",
              "    <div class=\"colab-df-container\">\n",
              "      <div>\n",
              "<style scoped>\n",
              "    .dataframe tbody tr th:only-of-type {\n",
              "        vertical-align: middle;\n",
              "    }\n",
              "\n",
              "    .dataframe tbody tr th {\n",
              "        vertical-align: top;\n",
              "    }\n",
              "\n",
              "    .dataframe thead th {\n",
              "        text-align: right;\n",
              "    }\n",
              "</style>\n",
              "<table border=\"1\" class=\"dataframe\">\n",
              "  <thead>\n",
              "    <tr style=\"text-align: right;\">\n",
              "      <th></th>\n",
              "      <th>product_uid</th>\n",
              "      <th>product_title</th>\n",
              "      <th>search_term</th>\n",
              "      <th>relevance</th>\n",
              "      <th>relevance_rounded</th>\n",
              "      <th>RaterLLM</th>\n",
              "      <th>explanation</th>\n",
              "    </tr>\n",
              "    <tr>\n",
              "      <th>id</th>\n",
              "      <th></th>\n",
              "      <th></th>\n",
              "      <th></th>\n",
              "      <th></th>\n",
              "      <th></th>\n",
              "      <th></th>\n",
              "      <th></th>\n",
              "    </tr>\n",
              "  </thead>\n",
              "  <tbody>\n",
              "    <tr>\n",
              "      <th>157609</th>\n",
              "      <td>160419</td>\n",
              "      <td>Houseworks Crates and Pallet 18 in. x 12.5 in....</td>\n",
              "      <td>video wooden crates</td>\n",
              "      <td>2.67</td>\n",
              "      <td>3</td>\n",
              "      <td>1</td>\n",
              "      <td>Rating: 1 (Irrelevant)\\n\\nExplanation: The sea...</td>\n",
              "    </tr>\n",
              "    <tr>\n",
              "      <th>158329</th>\n",
              "      <td>160856</td>\n",
              "      <td>Grip-Rite #7 x 7/16 in. Bugle Pan Head Framing...</td>\n",
              "      <td>framing wood</td>\n",
              "      <td>2.67</td>\n",
              "      <td>3</td>\n",
              "      <td>1</td>\n",
              "      <td>Rating: 1 (Irrelevant)\\n\\nExplanation: The pro...</td>\n",
              "    </tr>\n",
              "  </tbody>\n",
              "</table>\n",
              "</div>\n",
              "      <button class=\"colab-df-convert\" onclick=\"convertToInteractive('df-eb50bf71-14e6-4d06-9cce-8dd8c733f2bd')\"\n",
              "              title=\"Convert this dataframe to an interactive table.\"\n",
              "              style=\"display:none;\">\n",
              "        \n",
              "  <svg xmlns=\"http://www.w3.org/2000/svg\" height=\"24px\"viewBox=\"0 0 24 24\"\n",
              "       width=\"24px\">\n",
              "    <path d=\"M0 0h24v24H0V0z\" fill=\"none\"/>\n",
              "    <path d=\"M18.56 5.44l.94 2.06.94-2.06 2.06-.94-2.06-.94-.94-2.06-.94 2.06-2.06.94zm-11 1L8.5 8.5l.94-2.06 2.06-.94-2.06-.94L8.5 2.5l-.94 2.06-2.06.94zm10 10l.94 2.06.94-2.06 2.06-.94-2.06-.94-.94-2.06-.94 2.06-2.06.94z\"/><path d=\"M17.41 7.96l-1.37-1.37c-.4-.4-.92-.59-1.43-.59-.52 0-1.04.2-1.43.59L10.3 9.45l-7.72 7.72c-.78.78-.78 2.05 0 2.83L4 21.41c.39.39.9.59 1.41.59.51 0 1.02-.2 1.41-.59l7.78-7.78 2.81-2.81c.8-.78.8-2.07 0-2.86zM5.41 20L4 18.59l7.72-7.72 1.47 1.35L5.41 20z\"/>\n",
              "  </svg>\n",
              "      </button>\n",
              "      \n",
              "  <style>\n",
              "    .colab-df-container {\n",
              "      display:flex;\n",
              "      flex-wrap:wrap;\n",
              "      gap: 12px;\n",
              "    }\n",
              "\n",
              "    .colab-df-convert {\n",
              "      background-color: #E8F0FE;\n",
              "      border: none;\n",
              "      border-radius: 50%;\n",
              "      cursor: pointer;\n",
              "      display: none;\n",
              "      fill: #1967D2;\n",
              "      height: 32px;\n",
              "      padding: 0 0 0 0;\n",
              "      width: 32px;\n",
              "    }\n",
              "\n",
              "    .colab-df-convert:hover {\n",
              "      background-color: #E2EBFA;\n",
              "      box-shadow: 0px 1px 2px rgba(60, 64, 67, 0.3), 0px 1px 3px 1px rgba(60, 64, 67, 0.15);\n",
              "      fill: #174EA6;\n",
              "    }\n",
              "\n",
              "    [theme=dark] .colab-df-convert {\n",
              "      background-color: #3B4455;\n",
              "      fill: #D2E3FC;\n",
              "    }\n",
              "\n",
              "    [theme=dark] .colab-df-convert:hover {\n",
              "      background-color: #434B5C;\n",
              "      box-shadow: 0px 1px 3px 1px rgba(0, 0, 0, 0.15);\n",
              "      filter: drop-shadow(0px 1px 2px rgba(0, 0, 0, 0.3));\n",
              "      fill: #FFFFFF;\n",
              "    }\n",
              "  </style>\n",
              "\n",
              "      <script>\n",
              "        const buttonEl =\n",
              "          document.querySelector('#df-eb50bf71-14e6-4d06-9cce-8dd8c733f2bd button.colab-df-convert');\n",
              "        buttonEl.style.display =\n",
              "          google.colab.kernel.accessAllowed ? 'block' : 'none';\n",
              "\n",
              "        async function convertToInteractive(key) {\n",
              "          const element = document.querySelector('#df-eb50bf71-14e6-4d06-9cce-8dd8c733f2bd');\n",
              "          const dataTable =\n",
              "            await google.colab.kernel.invokeFunction('convertToInteractive',\n",
              "                                                     [key], {});\n",
              "          if (!dataTable) return;\n",
              "\n",
              "          const docLinkHtml = 'Like what you see? Visit the ' +\n",
              "            '<a target=\"_blank\" href=https://colab.research.google.com/notebooks/data_table.ipynb>data table notebook</a>'\n",
              "            + ' to learn more about interactive tables.';\n",
              "          element.innerHTML = '';\n",
              "          dataTable['output_type'] = 'display_data';\n",
              "          await google.colab.output.renderOutput(dataTable, element);\n",
              "          const docLink = document.createElement('div');\n",
              "          docLink.innerHTML = docLinkHtml;\n",
              "          element.appendChild(docLink);\n",
              "        }\n",
              "      </script>\n",
              "    </div>\n",
              "  </div>\n",
              "  "
            ]
          },
          "metadata": {},
          "execution_count": 26
        }
      ]
    },
    {
      "cell_type": "markdown",
      "source": [
        "# Save the results"
      ],
      "metadata": {
        "id": "b1Ex4Q1GPt5m"
      }
    },
    {
      "cell_type": "code",
      "source": [
        "from google.colab import drive\n",
        "drive.mount('/content/drive')\n",
        "\n",
        "# Then, save the DataFrame as a CSV file\n",
        "sample.to_csv('/content/drive/MyDrive/quepid-gpt3-5-turbo-3cat-spearman.csv', index=False)\n"
      ],
      "metadata": {
        "colab": {
          "base_uri": "https://localhost:8080/"
        },
        "id": "TIYZ_zpnPy6L",
        "outputId": "14d98032-6bab-44ea-e1b1-387cb9fbe48b"
      },
      "execution_count": 20,
      "outputs": [
        {
          "output_type": "stream",
          "name": "stdout",
          "text": [
            "Mounted at /content/drive\n"
          ]
        }
      ]
    }
  ]
}